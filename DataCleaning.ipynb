{
  "nbformat": 4,
  "nbformat_minor": 0,
  "metadata": {
    "colab": {
      "provenance": []
    },
    "kernelspec": {
      "name": "python3",
      "display_name": "Python 3"
    },
    "language_info": {
      "name": "python"
    }
  },
  "cells": [
    {
      "cell_type": "code",
      "execution_count": 3,
      "metadata": {
        "id": "uORxdsATHw2A",
        "colab": {
          "base_uri": "https://localhost:8080/"
        },
        "outputId": "42141c65-2eed-40bd-d5ee-a8ba29f2ce00"
      },
      "outputs": [
        {
          "output_type": "stream",
          "name": "stdout",
          "text": [
            "/content\n"
          ]
        },
        {
          "output_type": "execute_result",
          "data": {
            "text/plain": [
              "Index(['Annonymized ID', 'Employee Status', 'Employee Type',\n",
              "       'Current Hire Date', 'Continuous Service Date', 'Termination Date',\n",
              "       'Years of Service', 'Term Category', 'Termination Reason', 'Location',\n",
              "       'Country', 'Region', 'Job Code', 'Job Title', 'Job Category',\n",
              "       'Job Function', 'Job Family', 'Management Level', 'Pay Level',\n",
              "       'Work Structure ', 'Pay Grade', 'Organization', 'Compa Ratio',\n",
              "       'Marital Status', 'Age', 'Generation', 'Race/Ethnicity', 'Gender',\n",
              "       'Base Pay Mid Point', 'Last Promotion Date', 'Cost to Replace Factor'],\n",
              "      dtype='object')"
            ]
          },
          "metadata": {},
          "execution_count": 3
        }
      ],
      "source": [
        "import pandas as pd\n",
        "import numpy as np\n",
        "import os\n",
        "import geopy\n",
        "import datetime as dt\n",
        "import datetime\n",
        "from datetime import datetime as dt\n",
        "from geopy.geocoders import Nominatim\n",
        "from scipy.stats import norm\n",
        "\n",
        "print(os.getcwd())\n",
        "\n",
        "#Reading excel dataset into python using pandas\n",
        "data = pd.read_excel(\"SeagateDataset.xlsx\")\n",
        "\n",
        "data.columns"
      ]
    },
    {
      "cell_type": "code",
      "source": [
        "data.head()"
      ],
      "metadata": {
        "colab": {
          "base_uri": "https://localhost:8080/",
          "height": 560
        },
        "id": "0bFhKduU1ZQa",
        "outputId": "2d4de445-8d4c-410a-d90e-9a6358588083"
      },
      "execution_count": 4,
      "outputs": [
        {
          "output_type": "execute_result",
          "data": {
            "text/plain": [
              "   Annonymized ID Employee Status Employee Type Current Hire Date  \\\n",
              "0            1111      Terminated       Regular        1991-04-29   \n",
              "1            1112      Terminated       Regular        1993-07-01   \n",
              "2            1113      Terminated       Regular        1989-07-05   \n",
              "3            1114          Active       Regular        1984-02-15   \n",
              "4            1115      Terminated       Regular        1987-04-22   \n",
              "\n",
              "  Continuous Service Date Termination Date  Years of Service  \\\n",
              "0              1991-04-29       2020-08-04              29.3   \n",
              "1              1993-07-01       2018-07-11              25.0   \n",
              "2              1989-07-05       2017-09-22              28.2   \n",
              "3              1984-02-15              NaT              38.8   \n",
              "4              1987-04-22       2018-09-14              31.4   \n",
              "\n",
              "             Term Category                      Termination Reason  \\\n",
              "0  Involuntary Termination  Position Elimination / RIF Involuntary   \n",
              "1    Voluntary Termination              Change of Career Direction   \n",
              "2  Involuntary Termination    Position Elimination / RIF Voluntary   \n",
              "3                      NaN                                     NaN   \n",
              "4  Involuntary Termination  Position Elimination / RIF Involuntary   \n",
              "\n",
              "                        Location  ...        Organization Compa Ratio  \\\n",
              "0         Shakopee United States  ...                 NaN       0.841   \n",
              "1         Woodlands Singapore W3  ...                 NaN       1.017   \n",
              "2                Penang Malaysia  ...                 NaN       0.890   \n",
              "3  Ayer Rajah Crescent Singapore  ...  Account Management       1.070   \n",
              "4  Ayer Rajah Crescent Singapore  ...  Account Management       0.788   \n",
              "\n",
              "  Marital Status Age Generation                 Race/Ethnicity  Gender  \\\n",
              "0        Married  59     Boomer  White, not Hispanic or Latino    Male   \n",
              "1        Married  54      Gen X                        Chinese    Male   \n",
              "2        Married  58     Boomer                        Chinese  Female   \n",
              "3        Married  56      Gen X                        Chinese  Female   \n",
              "4        Married  64     Boomer                        Chinese  Female   \n",
              "\n",
              "  Base Pay Mid Point Last Promotion Date Cost to Replace Factor  \n",
              "0          250036.80          2003-09-22                   1.25  \n",
              "1          203097.98          2010-07-01                   1.25  \n",
              "2           50178.00                 NaT                   1.25  \n",
              "3           56514.22                 NaT                   1.25  \n",
              "4           92718.64          2011-07-01                   1.25  \n",
              "\n",
              "[5 rows x 31 columns]"
            ],
            "text/html": [
              "\n",
              "  <div id=\"df-bfe3cc50-aafc-46d1-839d-94b95f755199\">\n",
              "    <div class=\"colab-df-container\">\n",
              "      <div>\n",
              "<style scoped>\n",
              "    .dataframe tbody tr th:only-of-type {\n",
              "        vertical-align: middle;\n",
              "    }\n",
              "\n",
              "    .dataframe tbody tr th {\n",
              "        vertical-align: top;\n",
              "    }\n",
              "\n",
              "    .dataframe thead th {\n",
              "        text-align: right;\n",
              "    }\n",
              "</style>\n",
              "<table border=\"1\" class=\"dataframe\">\n",
              "  <thead>\n",
              "    <tr style=\"text-align: right;\">\n",
              "      <th></th>\n",
              "      <th>Annonymized ID</th>\n",
              "      <th>Employee Status</th>\n",
              "      <th>Employee Type</th>\n",
              "      <th>Current Hire Date</th>\n",
              "      <th>Continuous Service Date</th>\n",
              "      <th>Termination Date</th>\n",
              "      <th>Years of Service</th>\n",
              "      <th>Term Category</th>\n",
              "      <th>Termination Reason</th>\n",
              "      <th>Location</th>\n",
              "      <th>...</th>\n",
              "      <th>Organization</th>\n",
              "      <th>Compa Ratio</th>\n",
              "      <th>Marital Status</th>\n",
              "      <th>Age</th>\n",
              "      <th>Generation</th>\n",
              "      <th>Race/Ethnicity</th>\n",
              "      <th>Gender</th>\n",
              "      <th>Base Pay Mid Point</th>\n",
              "      <th>Last Promotion Date</th>\n",
              "      <th>Cost to Replace Factor</th>\n",
              "    </tr>\n",
              "  </thead>\n",
              "  <tbody>\n",
              "    <tr>\n",
              "      <th>0</th>\n",
              "      <td>1111</td>\n",
              "      <td>Terminated</td>\n",
              "      <td>Regular</td>\n",
              "      <td>1991-04-29</td>\n",
              "      <td>1991-04-29</td>\n",
              "      <td>2020-08-04</td>\n",
              "      <td>29.3</td>\n",
              "      <td>Involuntary Termination</td>\n",
              "      <td>Position Elimination / RIF Involuntary</td>\n",
              "      <td>Shakopee United States</td>\n",
              "      <td>...</td>\n",
              "      <td>NaN</td>\n",
              "      <td>0.841</td>\n",
              "      <td>Married</td>\n",
              "      <td>59</td>\n",
              "      <td>Boomer</td>\n",
              "      <td>White, not Hispanic or Latino</td>\n",
              "      <td>Male</td>\n",
              "      <td>250036.80</td>\n",
              "      <td>2003-09-22</td>\n",
              "      <td>1.25</td>\n",
              "    </tr>\n",
              "    <tr>\n",
              "      <th>1</th>\n",
              "      <td>1112</td>\n",
              "      <td>Terminated</td>\n",
              "      <td>Regular</td>\n",
              "      <td>1993-07-01</td>\n",
              "      <td>1993-07-01</td>\n",
              "      <td>2018-07-11</td>\n",
              "      <td>25.0</td>\n",
              "      <td>Voluntary Termination</td>\n",
              "      <td>Change of Career Direction</td>\n",
              "      <td>Woodlands Singapore W3</td>\n",
              "      <td>...</td>\n",
              "      <td>NaN</td>\n",
              "      <td>1.017</td>\n",
              "      <td>Married</td>\n",
              "      <td>54</td>\n",
              "      <td>Gen X</td>\n",
              "      <td>Chinese</td>\n",
              "      <td>Male</td>\n",
              "      <td>203097.98</td>\n",
              "      <td>2010-07-01</td>\n",
              "      <td>1.25</td>\n",
              "    </tr>\n",
              "    <tr>\n",
              "      <th>2</th>\n",
              "      <td>1113</td>\n",
              "      <td>Terminated</td>\n",
              "      <td>Regular</td>\n",
              "      <td>1989-07-05</td>\n",
              "      <td>1989-07-05</td>\n",
              "      <td>2017-09-22</td>\n",
              "      <td>28.2</td>\n",
              "      <td>Involuntary Termination</td>\n",
              "      <td>Position Elimination / RIF Voluntary</td>\n",
              "      <td>Penang Malaysia</td>\n",
              "      <td>...</td>\n",
              "      <td>NaN</td>\n",
              "      <td>0.890</td>\n",
              "      <td>Married</td>\n",
              "      <td>58</td>\n",
              "      <td>Boomer</td>\n",
              "      <td>Chinese</td>\n",
              "      <td>Female</td>\n",
              "      <td>50178.00</td>\n",
              "      <td>NaT</td>\n",
              "      <td>1.25</td>\n",
              "    </tr>\n",
              "    <tr>\n",
              "      <th>3</th>\n",
              "      <td>1114</td>\n",
              "      <td>Active</td>\n",
              "      <td>Regular</td>\n",
              "      <td>1984-02-15</td>\n",
              "      <td>1984-02-15</td>\n",
              "      <td>NaT</td>\n",
              "      <td>38.8</td>\n",
              "      <td>NaN</td>\n",
              "      <td>NaN</td>\n",
              "      <td>Ayer Rajah Crescent Singapore</td>\n",
              "      <td>...</td>\n",
              "      <td>Account Management</td>\n",
              "      <td>1.070</td>\n",
              "      <td>Married</td>\n",
              "      <td>56</td>\n",
              "      <td>Gen X</td>\n",
              "      <td>Chinese</td>\n",
              "      <td>Female</td>\n",
              "      <td>56514.22</td>\n",
              "      <td>NaT</td>\n",
              "      <td>1.25</td>\n",
              "    </tr>\n",
              "    <tr>\n",
              "      <th>4</th>\n",
              "      <td>1115</td>\n",
              "      <td>Terminated</td>\n",
              "      <td>Regular</td>\n",
              "      <td>1987-04-22</td>\n",
              "      <td>1987-04-22</td>\n",
              "      <td>2018-09-14</td>\n",
              "      <td>31.4</td>\n",
              "      <td>Involuntary Termination</td>\n",
              "      <td>Position Elimination / RIF Involuntary</td>\n",
              "      <td>Ayer Rajah Crescent Singapore</td>\n",
              "      <td>...</td>\n",
              "      <td>Account Management</td>\n",
              "      <td>0.788</td>\n",
              "      <td>Married</td>\n",
              "      <td>64</td>\n",
              "      <td>Boomer</td>\n",
              "      <td>Chinese</td>\n",
              "      <td>Female</td>\n",
              "      <td>92718.64</td>\n",
              "      <td>2011-07-01</td>\n",
              "      <td>1.25</td>\n",
              "    </tr>\n",
              "  </tbody>\n",
              "</table>\n",
              "<p>5 rows × 31 columns</p>\n",
              "</div>\n",
              "      <button class=\"colab-df-convert\" onclick=\"convertToInteractive('df-bfe3cc50-aafc-46d1-839d-94b95f755199')\"\n",
              "              title=\"Convert this dataframe to an interactive table.\"\n",
              "              style=\"display:none;\">\n",
              "        \n",
              "  <svg xmlns=\"http://www.w3.org/2000/svg\" height=\"24px\"viewBox=\"0 0 24 24\"\n",
              "       width=\"24px\">\n",
              "    <path d=\"M0 0h24v24H0V0z\" fill=\"none\"/>\n",
              "    <path d=\"M18.56 5.44l.94 2.06.94-2.06 2.06-.94-2.06-.94-.94-2.06-.94 2.06-2.06.94zm-11 1L8.5 8.5l.94-2.06 2.06-.94-2.06-.94L8.5 2.5l-.94 2.06-2.06.94zm10 10l.94 2.06.94-2.06 2.06-.94-2.06-.94-.94-2.06-.94 2.06-2.06.94z\"/><path d=\"M17.41 7.96l-1.37-1.37c-.4-.4-.92-.59-1.43-.59-.52 0-1.04.2-1.43.59L10.3 9.45l-7.72 7.72c-.78.78-.78 2.05 0 2.83L4 21.41c.39.39.9.59 1.41.59.51 0 1.02-.2 1.41-.59l7.78-7.78 2.81-2.81c.8-.78.8-2.07 0-2.86zM5.41 20L4 18.59l7.72-7.72 1.47 1.35L5.41 20z\"/>\n",
              "  </svg>\n",
              "      </button>\n",
              "      \n",
              "  <style>\n",
              "    .colab-df-container {\n",
              "      display:flex;\n",
              "      flex-wrap:wrap;\n",
              "      gap: 12px;\n",
              "    }\n",
              "\n",
              "    .colab-df-convert {\n",
              "      background-color: #E8F0FE;\n",
              "      border: none;\n",
              "      border-radius: 50%;\n",
              "      cursor: pointer;\n",
              "      display: none;\n",
              "      fill: #1967D2;\n",
              "      height: 32px;\n",
              "      padding: 0 0 0 0;\n",
              "      width: 32px;\n",
              "    }\n",
              "\n",
              "    .colab-df-convert:hover {\n",
              "      background-color: #E2EBFA;\n",
              "      box-shadow: 0px 1px 2px rgba(60, 64, 67, 0.3), 0px 1px 3px 1px rgba(60, 64, 67, 0.15);\n",
              "      fill: #174EA6;\n",
              "    }\n",
              "\n",
              "    [theme=dark] .colab-df-convert {\n",
              "      background-color: #3B4455;\n",
              "      fill: #D2E3FC;\n",
              "    }\n",
              "\n",
              "    [theme=dark] .colab-df-convert:hover {\n",
              "      background-color: #434B5C;\n",
              "      box-shadow: 0px 1px 3px 1px rgba(0, 0, 0, 0.15);\n",
              "      filter: drop-shadow(0px 1px 2px rgba(0, 0, 0, 0.3));\n",
              "      fill: #FFFFFF;\n",
              "    }\n",
              "  </style>\n",
              "\n",
              "      <script>\n",
              "        const buttonEl =\n",
              "          document.querySelector('#df-bfe3cc50-aafc-46d1-839d-94b95f755199 button.colab-df-convert');\n",
              "        buttonEl.style.display =\n",
              "          google.colab.kernel.accessAllowed ? 'block' : 'none';\n",
              "\n",
              "        async function convertToInteractive(key) {\n",
              "          const element = document.querySelector('#df-bfe3cc50-aafc-46d1-839d-94b95f755199');\n",
              "          const dataTable =\n",
              "            await google.colab.kernel.invokeFunction('convertToInteractive',\n",
              "                                                     [key], {});\n",
              "          if (!dataTable) return;\n",
              "\n",
              "          const docLinkHtml = 'Like what you see? Visit the ' +\n",
              "            '<a target=\"_blank\" href=https://colab.research.google.com/notebooks/data_table.ipynb>data table notebook</a>'\n",
              "            + ' to learn more about interactive tables.';\n",
              "          element.innerHTML = '';\n",
              "          dataTable['output_type'] = 'display_data';\n",
              "          await google.colab.output.renderOutput(dataTable, element);\n",
              "          const docLink = document.createElement('div');\n",
              "          docLink.innerHTML = docLinkHtml;\n",
              "          element.appendChild(docLink);\n",
              "        }\n",
              "      </script>\n",
              "    </div>\n",
              "  </div>\n",
              "  "
            ]
          },
          "metadata": {},
          "execution_count": 4
        }
      ]
    },
    {
      "cell_type": "code",
      "source": [
        "data.dtypes"
      ],
      "metadata": {
        "colab": {
          "base_uri": "https://localhost:8080/"
        },
        "id": "0-8LVpeMfv95",
        "outputId": "a1f05371-b208-4540-99e0-9d38d1dd9de0"
      },
      "execution_count": 5,
      "outputs": [
        {
          "output_type": "execute_result",
          "data": {
            "text/plain": [
              "Annonymized ID                      int64\n",
              "Employee Status                    object\n",
              "Employee Type                      object\n",
              "Current Hire Date          datetime64[ns]\n",
              "Continuous Service Date    datetime64[ns]\n",
              "Termination Date           datetime64[ns]\n",
              "Years of Service                  float64\n",
              "Term Category                      object\n",
              "Termination Reason                 object\n",
              "Location                           object\n",
              "Country                            object\n",
              "Region                             object\n",
              "Job Code                           object\n",
              "Job Title                          object\n",
              "Job Category                       object\n",
              "Job Function                       object\n",
              "Job Family                         object\n",
              "Management Level                   object\n",
              "Pay Level                          object\n",
              "Work Structure                     object\n",
              "Pay Grade                          object\n",
              "Organization                       object\n",
              "Compa Ratio                       float64\n",
              "Marital Status                     object\n",
              "Age                                 int64\n",
              "Generation                         object\n",
              "Race/Ethnicity                     object\n",
              "Gender                             object\n",
              "Base Pay Mid Point                float64\n",
              "Last Promotion Date        datetime64[ns]\n",
              "Cost to Replace Factor            float64\n",
              "dtype: object"
            ]
          },
          "metadata": {},
          "execution_count": 5
        }
      ]
    },
    {
      "cell_type": "code",
      "source": [
        "#keeping only necessary data\n",
        "#there are few unpaid leave category people; need to deal with them\n",
        "data=data[(data['Term Category']=='Voluntary Termination')|(pd.isnull(data['Term Category']))]\n",
        "data.reset_index(drop=True,inplace=True)\n",
        "\n",
        "#cleaning col names; removing trailing spaces, lowercase and underscore instead of space\n",
        "data.columns=[x.strip().lower().replace(\" \",\"_\") for x in data.columns]\n",
        "data.columns\n",
        "\n",
        "#dropping unnecessary columns\n",
        "#Dropping id, pay grade (pay level + location); job code can be determined from a mix of location, job title and other columns\n",
        "#we can drop location too maybe? as we have latitude and longitude\n",
        "#TODO: need to drop termination date, term category, and termination reson, any var that can predict employee status\n",
        "#We can club reasons and build a multi class model, or build a second model on only terminated employees to predict a 3 class termination reason\n",
        "data.drop(['annonymized_id','pay_grade','job_code'], axis=1, inplace=True)\n",
        "data.head()"
      ],
      "metadata": {
        "id": "gR8UdW6bPwtj",
        "colab": {
          "base_uri": "https://localhost:8080/",
          "height": 561
        },
        "outputId": "663e2e3d-2245-42e8-ca3e-744ef7ad6ac4"
      },
      "execution_count": 6,
      "outputs": [
        {
          "output_type": "stream",
          "name": "stderr",
          "text": [
            "/usr/local/lib/python3.8/dist-packages/pandas/core/frame.py:4906: SettingWithCopyWarning: \n",
            "A value is trying to be set on a copy of a slice from a DataFrame\n",
            "\n",
            "See the caveats in the documentation: https://pandas.pydata.org/pandas-docs/stable/user_guide/indexing.html#returning-a-view-versus-a-copy\n",
            "  return super().drop(\n"
          ]
        },
        {
          "output_type": "execute_result",
          "data": {
            "text/plain": [
              "  employee_status employee_type current_hire_date continuous_service_date  \\\n",
              "0      Terminated       Regular        1993-07-01              1993-07-01   \n",
              "1          Active       Regular        1984-02-15              1984-02-15   \n",
              "2          Active       Regular        1989-07-26              1989-07-26   \n",
              "3          Active       Regular        1994-04-11              1994-04-11   \n",
              "4          Active       Regular        1995-09-11              1995-09-11   \n",
              "\n",
              "  termination_date  years_of_service          term_category  \\\n",
              "0       2018-07-11              25.0  Voluntary Termination   \n",
              "1              NaT              38.8                    NaN   \n",
              "2              NaT              33.4                    NaN   \n",
              "3              NaT              28.7                    NaN   \n",
              "4              NaT              27.3                    NaN   \n",
              "\n",
              "           termination_reason                       location    country  ...  \\\n",
              "0  Change of Career Direction         Woodlands Singapore W3  Singapore  ...   \n",
              "1                         NaN  Ayer Rajah Crescent Singapore  Singapore  ...   \n",
              "2                         NaN  Ayer Rajah Crescent Singapore  Singapore  ...   \n",
              "3                         NaN  Ayer Rajah Crescent Singapore  Singapore  ...   \n",
              "4                         NaN  Ayer Rajah Crescent Singapore  Singapore  ...   \n",
              "\n",
              "         organization compa_ratio marital_status age generation  \\\n",
              "0                 NaN       1.017        Married  54      Gen X   \n",
              "1  Account Management       1.070        Married  56      Gen X   \n",
              "2  Account Management       0.888        Married  61     Boomer   \n",
              "3  Account Management       0.975        Married  55      Gen X   \n",
              "4  Account Management       0.951        Married  50      Gen X   \n",
              "\n",
              "  race/ethnicity  gender base_pay_mid_point last_promotion_date  \\\n",
              "0        Chinese    Male          203097.98          2010-07-01   \n",
              "1        Chinese  Female           56514.22                 NaT   \n",
              "2        Chinese  Female          127157.00          2003-10-01   \n",
              "3        Chinese  Female           83888.30          2013-02-05   \n",
              "4        Chinese  Female           92718.64          2011-10-01   \n",
              "\n",
              "   cost_to_replace_factor  \n",
              "0                    1.25  \n",
              "1                    1.25  \n",
              "2                    1.25  \n",
              "3                    1.25  \n",
              "4                    1.25  \n",
              "\n",
              "[5 rows x 28 columns]"
            ],
            "text/html": [
              "\n",
              "  <div id=\"df-f6e50c03-bd23-4d25-9b4f-19cbe7634a91\">\n",
              "    <div class=\"colab-df-container\">\n",
              "      <div>\n",
              "<style scoped>\n",
              "    .dataframe tbody tr th:only-of-type {\n",
              "        vertical-align: middle;\n",
              "    }\n",
              "\n",
              "    .dataframe tbody tr th {\n",
              "        vertical-align: top;\n",
              "    }\n",
              "\n",
              "    .dataframe thead th {\n",
              "        text-align: right;\n",
              "    }\n",
              "</style>\n",
              "<table border=\"1\" class=\"dataframe\">\n",
              "  <thead>\n",
              "    <tr style=\"text-align: right;\">\n",
              "      <th></th>\n",
              "      <th>employee_status</th>\n",
              "      <th>employee_type</th>\n",
              "      <th>current_hire_date</th>\n",
              "      <th>continuous_service_date</th>\n",
              "      <th>termination_date</th>\n",
              "      <th>years_of_service</th>\n",
              "      <th>term_category</th>\n",
              "      <th>termination_reason</th>\n",
              "      <th>location</th>\n",
              "      <th>country</th>\n",
              "      <th>...</th>\n",
              "      <th>organization</th>\n",
              "      <th>compa_ratio</th>\n",
              "      <th>marital_status</th>\n",
              "      <th>age</th>\n",
              "      <th>generation</th>\n",
              "      <th>race/ethnicity</th>\n",
              "      <th>gender</th>\n",
              "      <th>base_pay_mid_point</th>\n",
              "      <th>last_promotion_date</th>\n",
              "      <th>cost_to_replace_factor</th>\n",
              "    </tr>\n",
              "  </thead>\n",
              "  <tbody>\n",
              "    <tr>\n",
              "      <th>0</th>\n",
              "      <td>Terminated</td>\n",
              "      <td>Regular</td>\n",
              "      <td>1993-07-01</td>\n",
              "      <td>1993-07-01</td>\n",
              "      <td>2018-07-11</td>\n",
              "      <td>25.0</td>\n",
              "      <td>Voluntary Termination</td>\n",
              "      <td>Change of Career Direction</td>\n",
              "      <td>Woodlands Singapore W3</td>\n",
              "      <td>Singapore</td>\n",
              "      <td>...</td>\n",
              "      <td>NaN</td>\n",
              "      <td>1.017</td>\n",
              "      <td>Married</td>\n",
              "      <td>54</td>\n",
              "      <td>Gen X</td>\n",
              "      <td>Chinese</td>\n",
              "      <td>Male</td>\n",
              "      <td>203097.98</td>\n",
              "      <td>2010-07-01</td>\n",
              "      <td>1.25</td>\n",
              "    </tr>\n",
              "    <tr>\n",
              "      <th>1</th>\n",
              "      <td>Active</td>\n",
              "      <td>Regular</td>\n",
              "      <td>1984-02-15</td>\n",
              "      <td>1984-02-15</td>\n",
              "      <td>NaT</td>\n",
              "      <td>38.8</td>\n",
              "      <td>NaN</td>\n",
              "      <td>NaN</td>\n",
              "      <td>Ayer Rajah Crescent Singapore</td>\n",
              "      <td>Singapore</td>\n",
              "      <td>...</td>\n",
              "      <td>Account Management</td>\n",
              "      <td>1.070</td>\n",
              "      <td>Married</td>\n",
              "      <td>56</td>\n",
              "      <td>Gen X</td>\n",
              "      <td>Chinese</td>\n",
              "      <td>Female</td>\n",
              "      <td>56514.22</td>\n",
              "      <td>NaT</td>\n",
              "      <td>1.25</td>\n",
              "    </tr>\n",
              "    <tr>\n",
              "      <th>2</th>\n",
              "      <td>Active</td>\n",
              "      <td>Regular</td>\n",
              "      <td>1989-07-26</td>\n",
              "      <td>1989-07-26</td>\n",
              "      <td>NaT</td>\n",
              "      <td>33.4</td>\n",
              "      <td>NaN</td>\n",
              "      <td>NaN</td>\n",
              "      <td>Ayer Rajah Crescent Singapore</td>\n",
              "      <td>Singapore</td>\n",
              "      <td>...</td>\n",
              "      <td>Account Management</td>\n",
              "      <td>0.888</td>\n",
              "      <td>Married</td>\n",
              "      <td>61</td>\n",
              "      <td>Boomer</td>\n",
              "      <td>Chinese</td>\n",
              "      <td>Female</td>\n",
              "      <td>127157.00</td>\n",
              "      <td>2003-10-01</td>\n",
              "      <td>1.25</td>\n",
              "    </tr>\n",
              "    <tr>\n",
              "      <th>3</th>\n",
              "      <td>Active</td>\n",
              "      <td>Regular</td>\n",
              "      <td>1994-04-11</td>\n",
              "      <td>1994-04-11</td>\n",
              "      <td>NaT</td>\n",
              "      <td>28.7</td>\n",
              "      <td>NaN</td>\n",
              "      <td>NaN</td>\n",
              "      <td>Ayer Rajah Crescent Singapore</td>\n",
              "      <td>Singapore</td>\n",
              "      <td>...</td>\n",
              "      <td>Account Management</td>\n",
              "      <td>0.975</td>\n",
              "      <td>Married</td>\n",
              "      <td>55</td>\n",
              "      <td>Gen X</td>\n",
              "      <td>Chinese</td>\n",
              "      <td>Female</td>\n",
              "      <td>83888.30</td>\n",
              "      <td>2013-02-05</td>\n",
              "      <td>1.25</td>\n",
              "    </tr>\n",
              "    <tr>\n",
              "      <th>4</th>\n",
              "      <td>Active</td>\n",
              "      <td>Regular</td>\n",
              "      <td>1995-09-11</td>\n",
              "      <td>1995-09-11</td>\n",
              "      <td>NaT</td>\n",
              "      <td>27.3</td>\n",
              "      <td>NaN</td>\n",
              "      <td>NaN</td>\n",
              "      <td>Ayer Rajah Crescent Singapore</td>\n",
              "      <td>Singapore</td>\n",
              "      <td>...</td>\n",
              "      <td>Account Management</td>\n",
              "      <td>0.951</td>\n",
              "      <td>Married</td>\n",
              "      <td>50</td>\n",
              "      <td>Gen X</td>\n",
              "      <td>Chinese</td>\n",
              "      <td>Female</td>\n",
              "      <td>92718.64</td>\n",
              "      <td>2011-10-01</td>\n",
              "      <td>1.25</td>\n",
              "    </tr>\n",
              "  </tbody>\n",
              "</table>\n",
              "<p>5 rows × 28 columns</p>\n",
              "</div>\n",
              "      <button class=\"colab-df-convert\" onclick=\"convertToInteractive('df-f6e50c03-bd23-4d25-9b4f-19cbe7634a91')\"\n",
              "              title=\"Convert this dataframe to an interactive table.\"\n",
              "              style=\"display:none;\">\n",
              "        \n",
              "  <svg xmlns=\"http://www.w3.org/2000/svg\" height=\"24px\"viewBox=\"0 0 24 24\"\n",
              "       width=\"24px\">\n",
              "    <path d=\"M0 0h24v24H0V0z\" fill=\"none\"/>\n",
              "    <path d=\"M18.56 5.44l.94 2.06.94-2.06 2.06-.94-2.06-.94-.94-2.06-.94 2.06-2.06.94zm-11 1L8.5 8.5l.94-2.06 2.06-.94-2.06-.94L8.5 2.5l-.94 2.06-2.06.94zm10 10l.94 2.06.94-2.06 2.06-.94-2.06-.94-.94-2.06-.94 2.06-2.06.94z\"/><path d=\"M17.41 7.96l-1.37-1.37c-.4-.4-.92-.59-1.43-.59-.52 0-1.04.2-1.43.59L10.3 9.45l-7.72 7.72c-.78.78-.78 2.05 0 2.83L4 21.41c.39.39.9.59 1.41.59.51 0 1.02-.2 1.41-.59l7.78-7.78 2.81-2.81c.8-.78.8-2.07 0-2.86zM5.41 20L4 18.59l7.72-7.72 1.47 1.35L5.41 20z\"/>\n",
              "  </svg>\n",
              "      </button>\n",
              "      \n",
              "  <style>\n",
              "    .colab-df-container {\n",
              "      display:flex;\n",
              "      flex-wrap:wrap;\n",
              "      gap: 12px;\n",
              "    }\n",
              "\n",
              "    .colab-df-convert {\n",
              "      background-color: #E8F0FE;\n",
              "      border: none;\n",
              "      border-radius: 50%;\n",
              "      cursor: pointer;\n",
              "      display: none;\n",
              "      fill: #1967D2;\n",
              "      height: 32px;\n",
              "      padding: 0 0 0 0;\n",
              "      width: 32px;\n",
              "    }\n",
              "\n",
              "    .colab-df-convert:hover {\n",
              "      background-color: #E2EBFA;\n",
              "      box-shadow: 0px 1px 2px rgba(60, 64, 67, 0.3), 0px 1px 3px 1px rgba(60, 64, 67, 0.15);\n",
              "      fill: #174EA6;\n",
              "    }\n",
              "\n",
              "    [theme=dark] .colab-df-convert {\n",
              "      background-color: #3B4455;\n",
              "      fill: #D2E3FC;\n",
              "    }\n",
              "\n",
              "    [theme=dark] .colab-df-convert:hover {\n",
              "      background-color: #434B5C;\n",
              "      box-shadow: 0px 1px 3px 1px rgba(0, 0, 0, 0.15);\n",
              "      filter: drop-shadow(0px 1px 2px rgba(0, 0, 0, 0.3));\n",
              "      fill: #FFFFFF;\n",
              "    }\n",
              "  </style>\n",
              "\n",
              "      <script>\n",
              "        const buttonEl =\n",
              "          document.querySelector('#df-f6e50c03-bd23-4d25-9b4f-19cbe7634a91 button.colab-df-convert');\n",
              "        buttonEl.style.display =\n",
              "          google.colab.kernel.accessAllowed ? 'block' : 'none';\n",
              "\n",
              "        async function convertToInteractive(key) {\n",
              "          const element = document.querySelector('#df-f6e50c03-bd23-4d25-9b4f-19cbe7634a91');\n",
              "          const dataTable =\n",
              "            await google.colab.kernel.invokeFunction('convertToInteractive',\n",
              "                                                     [key], {});\n",
              "          if (!dataTable) return;\n",
              "\n",
              "          const docLinkHtml = 'Like what you see? Visit the ' +\n",
              "            '<a target=\"_blank\" href=https://colab.research.google.com/notebooks/data_table.ipynb>data table notebook</a>'\n",
              "            + ' to learn more about interactive tables.';\n",
              "          element.innerHTML = '';\n",
              "          dataTable['output_type'] = 'display_data';\n",
              "          await google.colab.output.renderOutput(dataTable, element);\n",
              "          const docLink = document.createElement('div');\n",
              "          docLink.innerHTML = docLinkHtml;\n",
              "          element.appendChild(docLink);\n",
              "        }\n",
              "      </script>\n",
              "    </div>\n",
              "  </div>\n",
              "  "
            ]
          },
          "metadata": {},
          "execution_count": 6
        }
      ]
    },
    {
      "cell_type": "code",
      "source": [
        "data.shape"
      ],
      "metadata": {
        "colab": {
          "base_uri": "https://localhost:8080/"
        },
        "id": "MDCvG8UBRcgA",
        "outputId": "a99ebca2-9991-4c1c-c7de-37e4a796ac97"
      },
      "execution_count": 7,
      "outputs": [
        {
          "output_type": "execute_result",
          "data": {
            "text/plain": [
              "(20427, 28)"
            ]
          },
          "metadata": {},
          "execution_count": 7
        }
      ]
    },
    {
      "cell_type": "code",
      "source": [
        "#For our analysis\n",
        "#Separating numerical and categorical columns\n",
        "\n",
        "num_cols=[]\n",
        "cat_cols=[]\n",
        "date_cols=[]\n",
        "for x in data.columns:\n",
        "  if data[x].dtype=='object':\n",
        "    cat_cols.append(x)\n",
        "  elif len(set(data[x]))<10:\n",
        "    cat_cols.append(x)\n",
        "  elif 'date' not in x:\n",
        "    num_cols.append(x)\n",
        "  else:\n",
        "    date_cols.append(x)\n",
        "    "
      ],
      "metadata": {
        "id": "wKjnVMMDNLNs"
      },
      "execution_count": 8,
      "outputs": []
    },
    {
      "cell_type": "code",
      "source": [
        "#num_cols\n",
        "num_cols"
      ],
      "metadata": {
        "colab": {
          "base_uri": "https://localhost:8080/"
        },
        "id": "NyeS-qz0OFD7",
        "outputId": "d035655f-117b-417d-b187-f9a9d08ae2fe"
      },
      "execution_count": 9,
      "outputs": [
        {
          "output_type": "execute_result",
          "data": {
            "text/plain": [
              "['years_of_service', 'compa_ratio', 'age', 'base_pay_mid_point']"
            ]
          },
          "metadata": {},
          "execution_count": 9
        }
      ]
    },
    {
      "cell_type": "code",
      "source": [
        "date_cols"
      ],
      "metadata": {
        "colab": {
          "base_uri": "https://localhost:8080/"
        },
        "id": "x8HgSINUWY-J",
        "outputId": "527fed06-9b95-4201-bec8-fc89bf4d05eb"
      },
      "execution_count": 10,
      "outputs": [
        {
          "output_type": "execute_result",
          "data": {
            "text/plain": [
              "['current_hire_date',\n",
              " 'continuous_service_date',\n",
              " 'termination_date',\n",
              " 'last_promotion_date']"
            ]
          },
          "metadata": {},
          "execution_count": 10
        }
      ]
    },
    {
      "cell_type": "code",
      "source": [
        "cat_cols"
      ],
      "metadata": {
        "colab": {
          "base_uri": "https://localhost:8080/"
        },
        "id": "uprGb3QAOZVL",
        "outputId": "d337cf33-e6b7-49df-8570-f73d2e8835f3"
      },
      "execution_count": 11,
      "outputs": [
        {
          "output_type": "execute_result",
          "data": {
            "text/plain": [
              "['employee_status',\n",
              " 'employee_type',\n",
              " 'term_category',\n",
              " 'termination_reason',\n",
              " 'location',\n",
              " 'country',\n",
              " 'region',\n",
              " 'job_title',\n",
              " 'job_category',\n",
              " 'job_function',\n",
              " 'job_family',\n",
              " 'management_level',\n",
              " 'pay_level',\n",
              " 'work_structure',\n",
              " 'organization',\n",
              " 'marital_status',\n",
              " 'generation',\n",
              " 'race/ethnicity',\n",
              " 'gender',\n",
              " 'cost_to_replace_factor']"
            ]
          },
          "metadata": {},
          "execution_count": 11
        }
      ]
    },
    {
      "cell_type": "markdown",
      "source": [
        "**Step 1: Removing Duplicates**"
      ],
      "metadata": {
        "id": "qNeBqXzO8F4N"
      }
    },
    {
      "cell_type": "code",
      "source": [
        "#Removing Duplicates\n",
        "data.drop_duplicates()\n",
        "print(sum(data.duplicated()))"
      ],
      "metadata": {
        "colab": {
          "base_uri": "https://localhost:8080/"
        },
        "id": "cjndxM3K7_JC",
        "outputId": "3592b333-1adb-4114-b5aa-05ac2b2b9cb6"
      },
      "execution_count": 12,
      "outputs": [
        {
          "output_type": "stream",
          "name": "stdout",
          "text": [
            "5\n"
          ]
        }
      ]
    },
    {
      "cell_type": "markdown",
      "source": [
        "**Step 2: Handling missing data**"
      ],
      "metadata": {
        "id": "Nz0bu3uo8sMD"
      }
    },
    {
      "cell_type": "code",
      "source": [
        "#Handling missing data\n",
        "#Dropping the value where base pay mid point is 0\n",
        "data.drop(data.loc[data['base_pay_mid_point'] == 0].index, inplace=True)"
      ],
      "metadata": {
        "id": "VRr9ss4qwVDR"
      },
      "execution_count": 13,
      "outputs": []
    },
    {
      "cell_type": "code",
      "source": [
        "#Thoughts on the following?\n",
        "#  8984 rows with 'Work Structure' = NULL - lots of null values, should the column be dropped?\n",
        "# we could tag them as missing and use them to train the model. That way we can retain info\n",
        "data['work_structure'] = data['work_structure'].fillna('Missing')\n",
        "\n",
        "data['race/ethnicity'] = data['race/ethnicity'].fillna('Non-Disclosed')"
      ],
      "metadata": {
        "id": "2QThdom78EbX"
      },
      "execution_count": 14,
      "outputs": []
    },
    {
      "cell_type": "markdown",
      "source": [
        "**Step 3: Standardizing data formats**"
      ],
      "metadata": {
        "id": "7j1UtUR49PDH"
      }
    },
    {
      "cell_type": "code",
      "source": [
        "#All dates are in MM/DD/YYYY format - should it be converted into MM/YY to reduce variance?\n",
        "#Either the above or keep it as YY; as we can then encode that var to use in models\n"
      ],
      "metadata": {
        "id": "b1LVhUZQ9UC-"
      },
      "execution_count": null,
      "outputs": []
    },
    {
      "cell_type": "markdown",
      "source": [],
      "metadata": {
        "id": "6eEdavYoN6zT"
      }
    },
    {
      "cell_type": "code",
      "source": [
        "data['work_structure'].value_counts()"
      ],
      "metadata": {
        "id": "8LQy9l_1Aaf5",
        "colab": {
          "base_uri": "https://localhost:8080/"
        },
        "outputId": "53cbf44f-78bf-42d7-895a-d72cb306c123"
      },
      "execution_count": 15,
      "outputs": [
        {
          "output_type": "execute_result",
          "data": {
            "text/plain": [
              "Onsite     14530\n",
              "Missing     4783\n",
              "Remote       590\n",
              "Hybrid       523\n",
              "Name: work_structure, dtype: int64"
            ]
          },
          "metadata": {},
          "execution_count": 15
        }
      ]
    },
    {
      "cell_type": "code",
      "source": [],
      "metadata": {
        "id": "CJQnaPFtNIJV"
      },
      "execution_count": null,
      "outputs": []
    },
    {
      "cell_type": "code",
      "source": [
        "data['race/ethnicity'].value_counts()"
      ],
      "metadata": {
        "id": "xsvJVw0VNIMB",
        "colab": {
          "base_uri": "https://localhost:8080/"
        },
        "outputId": "9235495f-6e1f-4e11-d366-a318b9f3465a"
      },
      "execution_count": 16,
      "outputs": [
        {
          "output_type": "execute_result",
          "data": {
            "text/plain": [
              "Thai                                                                 5193\n",
              "Non-Disclosed                                                        4822\n",
              "Chinese                                                              3170\n",
              "White, not Hispanic or Latino                                        2963\n",
              "Asian, not Hispanic or Latino                                        1651\n",
              "Malay                                                                1011\n",
              "Indian                                                                696\n",
              "others                                                                370\n",
              "Hispanic or Latino                                                    217\n",
              "Black or African-American, not Hispanic or Latino                     105\n",
              "Two or More Races, not Hispanic or Latino                              71\n",
              "Others                                                                 41\n",
              "Filipino                                                               38\n",
              "I do not wish to disclose                                              26\n",
              "Native Hawaiian or Other Pacific Islander, not Hispanic or Latino      15\n",
              "American Indian or Alaskan Native, not Hispanic or Latino              14\n",
              "Caucasian                                                               8\n",
              "Sarawakian                                                              6\n",
              "Sikh                                                                    5\n",
              "Eurasian                                                                3\n",
              "Pakistani                                                               1\n",
              "Name: race/ethnicity, dtype: int64"
            ]
          },
          "metadata": {},
          "execution_count": 16
        }
      ]
    },
    {
      "cell_type": "markdown",
      "source": [
        "**Step 4: Addressing outliers**"
      ],
      "metadata": {
        "id": "CmMcbXJt9adb"
      }
    },
    {
      "cell_type": "code",
      "source": [
        "for col in num_cols:\n",
        "\n",
        "  Q1 = data[col].quantile(0.25)\n",
        "  Q3 = data[col].quantile(0.75)\n",
        "  IQR = Q3 - Q1\n",
        "  lower_bound = Q1 - 1.5 * IQR\n",
        "  upper_bound = Q3 + 1.5 * IQR\n",
        "\n",
        "  # replace outliers with upper or lower bound\n",
        "  data[col] = np.where(data[col] < lower_bound, lower_bound, data[col])\n",
        "  data[col] = np.where(data[col] > upper_bound, upper_bound, data[col])\n",
        "\n",
        "\n"
      ],
      "metadata": {
        "id": "gRVDKwqO9iBq"
      },
      "execution_count": 17,
      "outputs": []
    },
    {
      "cell_type": "code",
      "source": [],
      "metadata": {
        "id": "xwuPv7gn-T73"
      },
      "execution_count": null,
      "outputs": []
    },
    {
      "cell_type": "markdown",
      "source": [
        "**Step 6: Transforming data**\n",
        "\n",
        "*   'Term Category' : Only values where 'Term Category' = Voluntary Termination  or blanks are kept.\n",
        "*   Dropping columns like 'Annonymized ID', 'Job Code', 'Organization','Pay Grade' due to high variance.\n",
        "\n"
      ],
      "metadata": {
        "id": "3Y0Ad4JK-Uyj"
      }
    },
    {
      "cell_type": "code",
      "source": [
        "#these are categorical columns with high variance; creating new binned cols for them; see below\n",
        "mod=[]\n",
        "\n",
        "for x in cat_cols:\n",
        "  if len(data[x].value_counts())>20:\n",
        "    mod.append(x)\n",
        "  else:\n",
        "    print('Not modding')\n",
        "    print(x,len(data[x].value_counts()))"
      ],
      "metadata": {
        "colab": {
          "base_uri": "https://localhost:8080/"
        },
        "id": "Vlk0PJvGNLQL",
        "outputId": "d410347a-7133-443e-e8cb-2873aa9fc28d"
      },
      "execution_count": 18,
      "outputs": [
        {
          "output_type": "stream",
          "name": "stdout",
          "text": [
            "Not modding\n",
            "employee_status 3\n",
            "Not modding\n",
            "employee_type 2\n",
            "Not modding\n",
            "term_category 1\n",
            "Not modding\n",
            "termination_reason 15\n",
            "Not modding\n",
            "region 3\n",
            "Not modding\n",
            "job_category 12\n",
            "Not modding\n",
            "management_level 6\n",
            "Not modding\n",
            "work_structure 4\n",
            "Not modding\n",
            "marital_status 10\n",
            "Not modding\n",
            "generation 4\n",
            "Not modding\n",
            "gender 4\n",
            "Not modding\n",
            "cost_to_replace_factor 3\n"
          ]
        }
      ]
    },
    {
      "cell_type": "code",
      "source": [
        "data.columns"
      ],
      "metadata": {
        "colab": {
          "base_uri": "https://localhost:8080/"
        },
        "id": "l7fJeFEMNLSg",
        "outputId": "398c090a-f1ff-41ab-cc77-a38bfdc9d449"
      },
      "execution_count": 19,
      "outputs": [
        {
          "output_type": "execute_result",
          "data": {
            "text/plain": [
              "Index(['employee_status', 'employee_type', 'current_hire_date',\n",
              "       'continuous_service_date', 'termination_date', 'years_of_service',\n",
              "       'term_category', 'termination_reason', 'location', 'country', 'region',\n",
              "       'job_title', 'job_category', 'job_function', 'job_family',\n",
              "       'management_level', 'pay_level', 'work_structure', 'organization',\n",
              "       'compa_ratio', 'marital_status', 'age', 'generation', 'race/ethnicity',\n",
              "       'gender', 'base_pay_mid_point', 'last_promotion_date',\n",
              "       'cost_to_replace_factor'],\n",
              "      dtype='object')"
            ]
          },
          "metadata": {},
          "execution_count": 19
        }
      ]
    },
    {
      "cell_type": "code",
      "source": [
        "mod"
      ],
      "metadata": {
        "id": "AStHOgNmNLU3",
        "colab": {
          "base_uri": "https://localhost:8080/"
        },
        "outputId": "88e9721e-c433-4ef4-c805-2af70e4ca55a"
      },
      "execution_count": 20,
      "outputs": [
        {
          "output_type": "execute_result",
          "data": {
            "text/plain": [
              "['location',\n",
              " 'country',\n",
              " 'job_title',\n",
              " 'job_function',\n",
              " 'job_family',\n",
              " 'pay_level',\n",
              " 'organization',\n",
              " 'race/ethnicity']"
            ]
          },
          "metadata": {},
          "execution_count": 20
        }
      ]
    },
    {
      "cell_type": "code",
      "source": [],
      "metadata": {
        "id": "8QdhYbA1-aWz"
      },
      "execution_count": null,
      "outputs": []
    },
    {
      "cell_type": "code",
      "source": [
        "#Binning based on quartiles\n",
        "for col in mod:\n",
        "    # Fill null values\n",
        "    data[col].fillna('NA', inplace=True)\n",
        "\n",
        "    # Get value counts of each category\n",
        "    value_counts = data[col].value_counts()\n",
        "\n",
        "    # Define bins based on quartiles\n",
        "    bins = [0, value_counts.quantile(0.25), value_counts.quantile(0.5), value_counts.quantile(0.75), np.inf]\n",
        "    labels = ['Q1', 'Q2', 'Q3', 'Q4']\n",
        "\n",
        "    # Creating new variable name for the binned data\n",
        "    new_var = col + '_q_binned'\n",
        "\n",
        "    # Bin categories based on quartiles\n",
        "    data[new_var] = pd.cut(data[col].map(value_counts), bins=bins, labels=labels, include_lowest=True)"
      ],
      "metadata": {
        "id": "RKHGBXZgcbKE"
      },
      "execution_count": 21,
      "outputs": []
    },
    {
      "cell_type": "code",
      "source": [
        "data.head()"
      ],
      "metadata": {
        "id": "yh7Z3R7Vcck7",
        "colab": {
          "base_uri": "https://localhost:8080/",
          "height": 473
        },
        "outputId": "eb3685cc-f809-4feb-ba41-458d0be379e2"
      },
      "execution_count": 22,
      "outputs": [
        {
          "output_type": "execute_result",
          "data": {
            "text/plain": [
              "  employee_status employee_type current_hire_date continuous_service_date  \\\n",
              "0      Terminated       Regular        1993-07-01              1993-07-01   \n",
              "1          Active       Regular        1984-02-15              1984-02-15   \n",
              "2          Active       Regular        1989-07-26              1989-07-26   \n",
              "3          Active       Regular        1994-04-11              1994-04-11   \n",
              "4          Active       Regular        1995-09-11              1995-09-11   \n",
              "\n",
              "  termination_date  years_of_service          term_category  \\\n",
              "0       2018-07-11             25.00  Voluntary Termination   \n",
              "1              NaT             37.25                    NaN   \n",
              "2              NaT             33.40                    NaN   \n",
              "3              NaT             28.70                    NaN   \n",
              "4              NaT             27.30                    NaN   \n",
              "\n",
              "           termination_reason                       location    country  ...  \\\n",
              "0  Change of Career Direction         Woodlands Singapore W3  Singapore  ...   \n",
              "1                         NaN  Ayer Rajah Crescent Singapore  Singapore  ...   \n",
              "2                         NaN  Ayer Rajah Crescent Singapore  Singapore  ...   \n",
              "3                         NaN  Ayer Rajah Crescent Singapore  Singapore  ...   \n",
              "4                         NaN  Ayer Rajah Crescent Singapore  Singapore  ...   \n",
              "\n",
              "  last_promotion_date cost_to_replace_factor location_q_binned  \\\n",
              "0          2010-07-01                   1.25                Q4   \n",
              "1                 NaT                   1.25                Q4   \n",
              "2          2003-10-01                   1.25                Q4   \n",
              "3          2013-02-05                   1.25                Q4   \n",
              "4          2011-10-01                   1.25                Q4   \n",
              "\n",
              "  country_q_binned job_title_q_binned job_function_q_binned  \\\n",
              "0               Q4                 Q4                    Q4   \n",
              "1               Q4                 Q4                    Q3   \n",
              "2               Q4                 Q4                    Q3   \n",
              "3               Q4                 Q3                    Q3   \n",
              "4               Q4                 Q4                    Q3   \n",
              "\n",
              "  job_family_q_binned pay_level_q_binned organization_q_binned  \\\n",
              "0                  Q4                 Q3                    Q1   \n",
              "1                  Q4                 Q4                    Q4   \n",
              "2                  Q4                 Q4                    Q4   \n",
              "3                  Q4                 Q4                    Q4   \n",
              "4                  Q4                 Q3                    Q4   \n",
              "\n",
              "   race/ethnicity_q_binned  \n",
              "0                       Q4  \n",
              "1                       Q4  \n",
              "2                       Q4  \n",
              "3                       Q4  \n",
              "4                       Q4  \n",
              "\n",
              "[5 rows x 36 columns]"
            ],
            "text/html": [
              "\n",
              "  <div id=\"df-ebe48062-9bbe-4217-8759-e7ffe58bb341\">\n",
              "    <div class=\"colab-df-container\">\n",
              "      <div>\n",
              "<style scoped>\n",
              "    .dataframe tbody tr th:only-of-type {\n",
              "        vertical-align: middle;\n",
              "    }\n",
              "\n",
              "    .dataframe tbody tr th {\n",
              "        vertical-align: top;\n",
              "    }\n",
              "\n",
              "    .dataframe thead th {\n",
              "        text-align: right;\n",
              "    }\n",
              "</style>\n",
              "<table border=\"1\" class=\"dataframe\">\n",
              "  <thead>\n",
              "    <tr style=\"text-align: right;\">\n",
              "      <th></th>\n",
              "      <th>employee_status</th>\n",
              "      <th>employee_type</th>\n",
              "      <th>current_hire_date</th>\n",
              "      <th>continuous_service_date</th>\n",
              "      <th>termination_date</th>\n",
              "      <th>years_of_service</th>\n",
              "      <th>term_category</th>\n",
              "      <th>termination_reason</th>\n",
              "      <th>location</th>\n",
              "      <th>country</th>\n",
              "      <th>...</th>\n",
              "      <th>last_promotion_date</th>\n",
              "      <th>cost_to_replace_factor</th>\n",
              "      <th>location_q_binned</th>\n",
              "      <th>country_q_binned</th>\n",
              "      <th>job_title_q_binned</th>\n",
              "      <th>job_function_q_binned</th>\n",
              "      <th>job_family_q_binned</th>\n",
              "      <th>pay_level_q_binned</th>\n",
              "      <th>organization_q_binned</th>\n",
              "      <th>race/ethnicity_q_binned</th>\n",
              "    </tr>\n",
              "  </thead>\n",
              "  <tbody>\n",
              "    <tr>\n",
              "      <th>0</th>\n",
              "      <td>Terminated</td>\n",
              "      <td>Regular</td>\n",
              "      <td>1993-07-01</td>\n",
              "      <td>1993-07-01</td>\n",
              "      <td>2018-07-11</td>\n",
              "      <td>25.00</td>\n",
              "      <td>Voluntary Termination</td>\n",
              "      <td>Change of Career Direction</td>\n",
              "      <td>Woodlands Singapore W3</td>\n",
              "      <td>Singapore</td>\n",
              "      <td>...</td>\n",
              "      <td>2010-07-01</td>\n",
              "      <td>1.25</td>\n",
              "      <td>Q4</td>\n",
              "      <td>Q4</td>\n",
              "      <td>Q4</td>\n",
              "      <td>Q4</td>\n",
              "      <td>Q4</td>\n",
              "      <td>Q3</td>\n",
              "      <td>Q1</td>\n",
              "      <td>Q4</td>\n",
              "    </tr>\n",
              "    <tr>\n",
              "      <th>1</th>\n",
              "      <td>Active</td>\n",
              "      <td>Regular</td>\n",
              "      <td>1984-02-15</td>\n",
              "      <td>1984-02-15</td>\n",
              "      <td>NaT</td>\n",
              "      <td>37.25</td>\n",
              "      <td>NaN</td>\n",
              "      <td>NaN</td>\n",
              "      <td>Ayer Rajah Crescent Singapore</td>\n",
              "      <td>Singapore</td>\n",
              "      <td>...</td>\n",
              "      <td>NaT</td>\n",
              "      <td>1.25</td>\n",
              "      <td>Q4</td>\n",
              "      <td>Q4</td>\n",
              "      <td>Q4</td>\n",
              "      <td>Q3</td>\n",
              "      <td>Q4</td>\n",
              "      <td>Q4</td>\n",
              "      <td>Q4</td>\n",
              "      <td>Q4</td>\n",
              "    </tr>\n",
              "    <tr>\n",
              "      <th>2</th>\n",
              "      <td>Active</td>\n",
              "      <td>Regular</td>\n",
              "      <td>1989-07-26</td>\n",
              "      <td>1989-07-26</td>\n",
              "      <td>NaT</td>\n",
              "      <td>33.40</td>\n",
              "      <td>NaN</td>\n",
              "      <td>NaN</td>\n",
              "      <td>Ayer Rajah Crescent Singapore</td>\n",
              "      <td>Singapore</td>\n",
              "      <td>...</td>\n",
              "      <td>2003-10-01</td>\n",
              "      <td>1.25</td>\n",
              "      <td>Q4</td>\n",
              "      <td>Q4</td>\n",
              "      <td>Q4</td>\n",
              "      <td>Q3</td>\n",
              "      <td>Q4</td>\n",
              "      <td>Q4</td>\n",
              "      <td>Q4</td>\n",
              "      <td>Q4</td>\n",
              "    </tr>\n",
              "    <tr>\n",
              "      <th>3</th>\n",
              "      <td>Active</td>\n",
              "      <td>Regular</td>\n",
              "      <td>1994-04-11</td>\n",
              "      <td>1994-04-11</td>\n",
              "      <td>NaT</td>\n",
              "      <td>28.70</td>\n",
              "      <td>NaN</td>\n",
              "      <td>NaN</td>\n",
              "      <td>Ayer Rajah Crescent Singapore</td>\n",
              "      <td>Singapore</td>\n",
              "      <td>...</td>\n",
              "      <td>2013-02-05</td>\n",
              "      <td>1.25</td>\n",
              "      <td>Q4</td>\n",
              "      <td>Q4</td>\n",
              "      <td>Q3</td>\n",
              "      <td>Q3</td>\n",
              "      <td>Q4</td>\n",
              "      <td>Q4</td>\n",
              "      <td>Q4</td>\n",
              "      <td>Q4</td>\n",
              "    </tr>\n",
              "    <tr>\n",
              "      <th>4</th>\n",
              "      <td>Active</td>\n",
              "      <td>Regular</td>\n",
              "      <td>1995-09-11</td>\n",
              "      <td>1995-09-11</td>\n",
              "      <td>NaT</td>\n",
              "      <td>27.30</td>\n",
              "      <td>NaN</td>\n",
              "      <td>NaN</td>\n",
              "      <td>Ayer Rajah Crescent Singapore</td>\n",
              "      <td>Singapore</td>\n",
              "      <td>...</td>\n",
              "      <td>2011-10-01</td>\n",
              "      <td>1.25</td>\n",
              "      <td>Q4</td>\n",
              "      <td>Q4</td>\n",
              "      <td>Q4</td>\n",
              "      <td>Q3</td>\n",
              "      <td>Q4</td>\n",
              "      <td>Q3</td>\n",
              "      <td>Q4</td>\n",
              "      <td>Q4</td>\n",
              "    </tr>\n",
              "  </tbody>\n",
              "</table>\n",
              "<p>5 rows × 36 columns</p>\n",
              "</div>\n",
              "      <button class=\"colab-df-convert\" onclick=\"convertToInteractive('df-ebe48062-9bbe-4217-8759-e7ffe58bb341')\"\n",
              "              title=\"Convert this dataframe to an interactive table.\"\n",
              "              style=\"display:none;\">\n",
              "        \n",
              "  <svg xmlns=\"http://www.w3.org/2000/svg\" height=\"24px\"viewBox=\"0 0 24 24\"\n",
              "       width=\"24px\">\n",
              "    <path d=\"M0 0h24v24H0V0z\" fill=\"none\"/>\n",
              "    <path d=\"M18.56 5.44l.94 2.06.94-2.06 2.06-.94-2.06-.94-.94-2.06-.94 2.06-2.06.94zm-11 1L8.5 8.5l.94-2.06 2.06-.94-2.06-.94L8.5 2.5l-.94 2.06-2.06.94zm10 10l.94 2.06.94-2.06 2.06-.94-2.06-.94-.94-2.06-.94 2.06-2.06.94z\"/><path d=\"M17.41 7.96l-1.37-1.37c-.4-.4-.92-.59-1.43-.59-.52 0-1.04.2-1.43.59L10.3 9.45l-7.72 7.72c-.78.78-.78 2.05 0 2.83L4 21.41c.39.39.9.59 1.41.59.51 0 1.02-.2 1.41-.59l7.78-7.78 2.81-2.81c.8-.78.8-2.07 0-2.86zM5.41 20L4 18.59l7.72-7.72 1.47 1.35L5.41 20z\"/>\n",
              "  </svg>\n",
              "      </button>\n",
              "      \n",
              "  <style>\n",
              "    .colab-df-container {\n",
              "      display:flex;\n",
              "      flex-wrap:wrap;\n",
              "      gap: 12px;\n",
              "    }\n",
              "\n",
              "    .colab-df-convert {\n",
              "      background-color: #E8F0FE;\n",
              "      border: none;\n",
              "      border-radius: 50%;\n",
              "      cursor: pointer;\n",
              "      display: none;\n",
              "      fill: #1967D2;\n",
              "      height: 32px;\n",
              "      padding: 0 0 0 0;\n",
              "      width: 32px;\n",
              "    }\n",
              "\n",
              "    .colab-df-convert:hover {\n",
              "      background-color: #E2EBFA;\n",
              "      box-shadow: 0px 1px 2px rgba(60, 64, 67, 0.3), 0px 1px 3px 1px rgba(60, 64, 67, 0.15);\n",
              "      fill: #174EA6;\n",
              "    }\n",
              "\n",
              "    [theme=dark] .colab-df-convert {\n",
              "      background-color: #3B4455;\n",
              "      fill: #D2E3FC;\n",
              "    }\n",
              "\n",
              "    [theme=dark] .colab-df-convert:hover {\n",
              "      background-color: #434B5C;\n",
              "      box-shadow: 0px 1px 3px 1px rgba(0, 0, 0, 0.15);\n",
              "      filter: drop-shadow(0px 1px 2px rgba(0, 0, 0, 0.3));\n",
              "      fill: #FFFFFF;\n",
              "    }\n",
              "  </style>\n",
              "\n",
              "      <script>\n",
              "        const buttonEl =\n",
              "          document.querySelector('#df-ebe48062-9bbe-4217-8759-e7ffe58bb341 button.colab-df-convert');\n",
              "        buttonEl.style.display =\n",
              "          google.colab.kernel.accessAllowed ? 'block' : 'none';\n",
              "\n",
              "        async function convertToInteractive(key) {\n",
              "          const element = document.querySelector('#df-ebe48062-9bbe-4217-8759-e7ffe58bb341');\n",
              "          const dataTable =\n",
              "            await google.colab.kernel.invokeFunction('convertToInteractive',\n",
              "                                                     [key], {});\n",
              "          if (!dataTable) return;\n",
              "\n",
              "          const docLinkHtml = 'Like what you see? Visit the ' +\n",
              "            '<a target=\"_blank\" href=https://colab.research.google.com/notebooks/data_table.ipynb>data table notebook</a>'\n",
              "            + ' to learn more about interactive tables.';\n",
              "          element.innerHTML = '';\n",
              "          dataTable['output_type'] = 'display_data';\n",
              "          await google.colab.output.renderOutput(dataTable, element);\n",
              "          const docLink = document.createElement('div');\n",
              "          docLink.innerHTML = docLinkHtml;\n",
              "          element.appendChild(docLink);\n",
              "        }\n",
              "      </script>\n",
              "    </div>\n",
              "  </div>\n",
              "  "
            ]
          },
          "metadata": {},
          "execution_count": 22
        }
      ]
    },
    {
      "cell_type": "code",
      "source": [
        "#Looks ok i think\n",
        "data['organization_q_binned'].value_counts()"
      ],
      "metadata": {
        "colab": {
          "base_uri": "https://localhost:8080/"
        },
        "id": "NLVZRszUJKho",
        "outputId": "348b3e62-822a-4f1f-ea48-823e2b469d57"
      },
      "execution_count": 23,
      "outputs": [
        {
          "output_type": "execute_result",
          "data": {
            "text/plain": [
              "Q4    17175\n",
              "Q3     2133\n",
              "Q2      759\n",
              "Q1      359\n",
              "Name: organization_q_binned, dtype: int64"
            ]
          },
          "metadata": {},
          "execution_count": 23
        }
      ]
    },
    {
      "cell_type": "code",
      "source": [
        "data['organization'].value_counts()"
      ],
      "metadata": {
        "id": "McRggKXpJLoS",
        "colab": {
          "base_uri": "https://localhost:8080/"
        },
        "outputId": "d953e05d-e5f3-4df1-e677-3238c329813c"
      },
      "execution_count": 24,
      "outputs": [
        {
          "output_type": "execute_result",
          "data": {
            "text/plain": [
              "Media Test & MDW Engineering                      1018\n",
              "Media Equipment Engineering                        868\n",
              "Slider Engineering                                 738\n",
              "Equipment Engineering                              528\n",
              "Media Research & Development                       524\n",
              "                                                  ... \n",
              "Products, Supply and Demand Operations               1\n",
              "Product Security Ops and Engineering                 1\n",
              "Global Accounting / EMEA & AMER Controllership       1\n",
              "Global Accounting / EMEA Controllership / UK         1\n",
              "NA                                                   1\n",
              "Name: organization, Length: 632, dtype: int64"
            ]
          },
          "metadata": {},
          "execution_count": 24
        }
      ]
    },
    {
      "cell_type": "code",
      "source": [
        "print(data.isnull().sum())"
      ],
      "metadata": {
        "id": "Ki_zQjBeRRgy",
        "colab": {
          "base_uri": "https://localhost:8080/"
        },
        "outputId": "d5dd2eba-f37c-4f11-b4b8-2c4fca700fc4"
      },
      "execution_count": 25,
      "outputs": [
        {
          "output_type": "stream",
          "name": "stdout",
          "text": [
            "employee_status                0\n",
            "employee_type                  0\n",
            "current_hire_date              0\n",
            "continuous_service_date        0\n",
            "termination_date           14835\n",
            "years_of_service               0\n",
            "term_category              14836\n",
            "termination_reason         14836\n",
            "location                       0\n",
            "country                        0\n",
            "region                         0\n",
            "job_title                      0\n",
            "job_category                   0\n",
            "job_function                   0\n",
            "job_family                     0\n",
            "management_level               0\n",
            "pay_level                      0\n",
            "work_structure                 0\n",
            "organization                   0\n",
            "compa_ratio                    0\n",
            "marital_status               334\n",
            "age                            0\n",
            "generation                     0\n",
            "race/ethnicity                 0\n",
            "gender                         0\n",
            "base_pay_mid_point             0\n",
            "last_promotion_date         8391\n",
            "cost_to_replace_factor         0\n",
            "location_q_binned              0\n",
            "country_q_binned               0\n",
            "job_title_q_binned             0\n",
            "job_function_q_binned          0\n",
            "job_family_q_binned            0\n",
            "pay_level_q_binned             0\n",
            "organization_q_binned          0\n",
            "race/ethnicity_q_binned        0\n",
            "dtype: int64\n"
          ]
        }
      ]
    },
    {
      "cell_type": "markdown",
      "source": [
        "# Feature Engineering"
      ],
      "metadata": {
        "id": "tF9eUTX7-lTy"
      }
    },
    {
      "cell_type": "code",
      "source": [],
      "metadata": {
        "id": "kqMwuESN786e"
      },
      "execution_count": null,
      "outputs": []
    },
    {
      "cell_type": "code",
      "source": [
        "#Cleaning locations and adding city, long lat\n",
        "data['location'][data['location'].apply(lambda x:'pune' in x.lower())]='Pune India'\n",
        "data['location'][data['location'].apply(lambda x:'thepharuk' in x.lower())]='Thepharak Thailand'\n",
        "a=list(set(data['location']))\n",
        "lat=[]\n",
        "longi=[]\n",
        "missing=[]\n",
        "for i in a:\n",
        "    geolocator = Nominatim(user_agent='adi')\n",
        "    location = geolocator.geocode(i, timeout=100000, language = 'en')\n",
        "    try:\n",
        "        lat.append(location.latitude)\n",
        "        longi.append(location.longitude)\n",
        "    except:\n",
        "        missing.append(i)\n",
        "\n",
        "print(missing)\n",
        "\n",
        "df2=pd.DataFrame({'location':a,'lat':lat,'longi':longi})\n",
        "#appending latitude and logitude to original dataframe; can use lat, long in models instead of one-hot encoding the location var\n",
        "data=pd.merge(data,df2,on='location',how='outer')"
      ],
      "metadata": {
        "id": "V01S-u17NhZa",
        "colab": {
          "base_uri": "https://localhost:8080/"
        },
        "outputId": "b9f1d3aa-ac0f-4b37-867d-f1464e189817"
      },
      "execution_count": 26,
      "outputs": [
        {
          "output_type": "stream",
          "name": "stderr",
          "text": [
            "<ipython-input-26-9d98a894f89e>:2: SettingWithCopyWarning: \n",
            "A value is trying to be set on a copy of a slice from a DataFrame\n",
            "\n",
            "See the caveats in the documentation: https://pandas.pydata.org/pandas-docs/stable/user_guide/indexing.html#returning-a-view-versus-a-copy\n",
            "  data['location'][data['location'].apply(lambda x:'pune' in x.lower())]='Pune India'\n",
            "<ipython-input-26-9d98a894f89e>:3: SettingWithCopyWarning: \n",
            "A value is trying to be set on a copy of a slice from a DataFrame\n",
            "\n",
            "See the caveats in the documentation: https://pandas.pydata.org/pandas-docs/stable/user_guide/indexing.html#returning-a-view-versus-a-copy\n",
            "  data['location'][data['location'].apply(lambda x:'thepharuk' in x.lower())]='Thepharak Thailand'\n"
          ]
        },
        {
          "output_type": "stream",
          "name": "stdout",
          "text": [
            "[]\n"
          ]
        }
      ]
    },
    {
      "cell_type": "code",
      "source": [
        "#!pip install geopy\n"
      ],
      "metadata": {
        "id": "ymOvSkV4Q4z8"
      },
      "execution_count": null,
      "outputs": []
    },
    {
      "cell_type": "code",
      "source": [
        "#1. Annonymized ID has to be dropped while performing analysis - due to high variance\n",
        "#2. Check if Employees with 'Employee Type' = Fixed Term has to be kept - All records are terminated due to both voluntary and involuntary reasons. \n",
        "#Contract based employment, total records = 16, might be removed from our analysis\n",
        "#3. One row has 'Base Pay Mid Point Annualized USD' = 0: anomaly/ outlier?\n",
        "  #Handled in Section 2\n",
        "#4. 'Pay Grade': Has less meaning, redundant and is covered as part of 'Pay Level' + location, hence can be dropped\n",
        "#5. 8984 rows with 'Work Structure' = NULL - lots of null values, should the column be dropped? Chill, we'll keep them\n",
        "#6 Already done - Only Voluntary termination and blank values are kept in 'Term Category'\n",
        "#7. All dates are in MM/DD/YYYY format - should it be converted into MM/YY to reduce variance?\n",
        "#8. Missing values in Race/ Ethnicity - Can be converted to 'I do not wish to disclose'"
      ],
      "metadata": {
        "id": "9coo-itRQ42n"
      },
      "execution_count": null,
      "outputs": []
    },
    {
      "cell_type": "code",
      "source": [
        "\n",
        "data.columns"
      ],
      "metadata": {
        "id": "O_HuKMBAQ47Q",
        "colab": {
          "base_uri": "https://localhost:8080/"
        },
        "outputId": "90ebf869-256b-4500-82b7-3a2340e66cce"
      },
      "execution_count": 27,
      "outputs": [
        {
          "output_type": "execute_result",
          "data": {
            "text/plain": [
              "Index(['employee_status', 'employee_type', 'current_hire_date',\n",
              "       'continuous_service_date', 'termination_date', 'years_of_service',\n",
              "       'term_category', 'termination_reason', 'location', 'country', 'region',\n",
              "       'job_title', 'job_category', 'job_function', 'job_family',\n",
              "       'management_level', 'pay_level', 'work_structure', 'organization',\n",
              "       'compa_ratio', 'marital_status', 'age', 'generation', 'race/ethnicity',\n",
              "       'gender', 'base_pay_mid_point', 'last_promotion_date',\n",
              "       'cost_to_replace_factor', 'location_q_binned', 'country_q_binned',\n",
              "       'job_title_q_binned', 'job_function_q_binned', 'job_family_q_binned',\n",
              "       'pay_level_q_binned', 'organization_q_binned',\n",
              "       'race/ethnicity_q_binned', 'lat', 'longi'],\n",
              "      dtype='object')"
            ]
          },
          "metadata": {},
          "execution_count": 27
        }
      ]
    },
    {
      "cell_type": "code",
      "source": [
        "#Adding Salary as a feature\n",
        "data['salary'] = data['compa_ratio']*data['base_pay_mid_point']\n",
        "data['salary']"
      ],
      "metadata": {
        "id": "nDj9iIUoQ49y",
        "colab": {
          "base_uri": "https://localhost:8080/"
        },
        "outputId": "77dc81c0-c501-4c1c-8b29-0d7d02700bc0"
      },
      "execution_count": 28,
      "outputs": [
        {
          "output_type": "execute_result",
          "data": {
            "text/plain": [
              "0        204243.37776\n",
              "1         21546.04912\n",
              "2         39012.47220\n",
              "3         53292.90946\n",
              "4         18190.51688\n",
              "             ...     \n",
              "20421    226577.20800\n",
              "20422    230042.28000\n",
              "20423    115991.07520\n",
              "20424    135758.68800\n",
              "20425    120493.65120\n",
              "Name: salary, Length: 20426, dtype: float64"
            ]
          },
          "metadata": {},
          "execution_count": 28
        }
      ]
    },
    {
      "cell_type": "code",
      "source": [
        "#Adding Replacement Cost\n",
        "data['replacement_cost'] = data['salary']*data['cost_to_replace_factor']"
      ],
      "metadata": {
        "id": "cYWac7p3Q5AS"
      },
      "execution_count": 29,
      "outputs": []
    },
    {
      "cell_type": "code",
      "source": [
        "#Adding time since last promotion\n",
        "basedate = pd.Timestamp('2023-01-01')\n",
        "data['days_since_promotion'] = basedate- data['last_promotion_date']\n",
        "data['days_since_promotion'] = data['days_since_promotion'].dt.days"
      ],
      "metadata": {
        "id": "OYS3Duq1bmPW"
      },
      "execution_count": 30,
      "outputs": []
    },
    {
      "cell_type": "code",
      "source": [
        "# normalize using normal distribution\n",
        "num_cols=[]\n",
        "cat_cols=[]\n",
        "for x in data.columns:\n",
        "  if data[x].dtype=='object':\n",
        "    cat_cols.append(x)\n",
        "  elif len(set(data[x]))<10:\n",
        "    cat_cols.append(x)\n",
        "  elif 'date' not in x:\n",
        "    num_cols.append(x)\n",
        "\n",
        "for col in num_cols:\n",
        "  mu = data[col].mean()\n",
        "  sigma = data[col].std()\n",
        "  data[col] = norm.cdf((data[col] - mu) / sigma)"
      ],
      "metadata": {
        "id": "a-Sqs2RMl2lt"
      },
      "execution_count": 31,
      "outputs": []
    },
    {
      "cell_type": "code",
      "source": [
        "df = data.copy()\n",
        "df.head()"
      ],
      "metadata": {
        "colab": {
          "base_uri": "https://localhost:8080/",
          "height": 473
        },
        "id": "pBlLHCydasvE",
        "outputId": "0a46ffef-747c-452a-8e6e-563341d1c079"
      },
      "execution_count": 32,
      "outputs": [
        {
          "output_type": "execute_result",
          "data": {
            "text/plain": [
              "  employee_status employee_type current_hire_date continuous_service_date  \\\n",
              "0      Terminated       Regular        1993-07-01              1993-07-01   \n",
              "1      Terminated       Regular        2012-04-23              2012-04-23   \n",
              "2      Terminated       Regular        2012-05-17              2012-05-17   \n",
              "3      Terminated       Regular        2012-11-15              2012-11-15   \n",
              "4      Terminated       Regular        2014-04-28              2014-04-28   \n",
              "\n",
              "  termination_date  years_of_service          term_category  \\\n",
              "0       2018-07-11          0.936786  Voluntary Termination   \n",
              "1       2017-10-30          0.265960  Voluntary Termination   \n",
              "2       2017-09-18          0.258763  Voluntary Termination   \n",
              "3       2021-04-09          0.380249  Voluntary Termination   \n",
              "4       2018-04-21          0.214552  Voluntary Termination   \n",
              "\n",
              "            termination_reason                location    country  ...  \\\n",
              "0   Change of Career Direction  Woodlands Singapore W3  Singapore  ...   \n",
              "1             Compensation/Pay  Woodlands Singapore W3  Singapore  ...   \n",
              "2           Career Advancement  Woodlands Singapore W3  Singapore  ...   \n",
              "3  Return Home/Care for Family  Woodlands Singapore W3  Singapore  ...   \n",
              "4  Return Home/Care for Family  Woodlands Singapore W3  Singapore  ...   \n",
              "\n",
              "  job_function_q_binned job_family_q_binned pay_level_q_binned  \\\n",
              "0                    Q4                  Q4                 Q3   \n",
              "1                    Q4                  Q4                 Q4   \n",
              "2                    Q4                  Q4                 Q4   \n",
              "3                    Q4                  Q4                 Q4   \n",
              "4                    Q4                  Q4                 Q4   \n",
              "\n",
              "  organization_q_binned race/ethnicity_q_binned       lat     longi    salary  \\\n",
              "0                    Q1                      Q4  0.108812  0.748922  0.997760   \n",
              "1                    Q4                      Q3  0.108812  0.748922  0.257672   \n",
              "2                    Q4                      Q4  0.108812  0.748922  0.375765   \n",
              "3                    Q4                      Q3  0.108812  0.748922  0.482606   \n",
              "4                    Q4                      Q3  0.108812  0.748922  0.237401   \n",
              "\n",
              "  replacement_cost  days_since_promotion  \n",
              "0         0.995886               0.90612  \n",
              "1         0.228553                   NaN  \n",
              "2         0.413903                   NaN  \n",
              "3         0.511835                   NaN  \n",
              "4         0.221584                   NaN  \n",
              "\n",
              "[5 rows x 41 columns]"
            ],
            "text/html": [
              "\n",
              "  <div id=\"df-626c4bc1-39ee-42bd-b73b-854acc28dc99\">\n",
              "    <div class=\"colab-df-container\">\n",
              "      <div>\n",
              "<style scoped>\n",
              "    .dataframe tbody tr th:only-of-type {\n",
              "        vertical-align: middle;\n",
              "    }\n",
              "\n",
              "    .dataframe tbody tr th {\n",
              "        vertical-align: top;\n",
              "    }\n",
              "\n",
              "    .dataframe thead th {\n",
              "        text-align: right;\n",
              "    }\n",
              "</style>\n",
              "<table border=\"1\" class=\"dataframe\">\n",
              "  <thead>\n",
              "    <tr style=\"text-align: right;\">\n",
              "      <th></th>\n",
              "      <th>employee_status</th>\n",
              "      <th>employee_type</th>\n",
              "      <th>current_hire_date</th>\n",
              "      <th>continuous_service_date</th>\n",
              "      <th>termination_date</th>\n",
              "      <th>years_of_service</th>\n",
              "      <th>term_category</th>\n",
              "      <th>termination_reason</th>\n",
              "      <th>location</th>\n",
              "      <th>country</th>\n",
              "      <th>...</th>\n",
              "      <th>job_function_q_binned</th>\n",
              "      <th>job_family_q_binned</th>\n",
              "      <th>pay_level_q_binned</th>\n",
              "      <th>organization_q_binned</th>\n",
              "      <th>race/ethnicity_q_binned</th>\n",
              "      <th>lat</th>\n",
              "      <th>longi</th>\n",
              "      <th>salary</th>\n",
              "      <th>replacement_cost</th>\n",
              "      <th>days_since_promotion</th>\n",
              "    </tr>\n",
              "  </thead>\n",
              "  <tbody>\n",
              "    <tr>\n",
              "      <th>0</th>\n",
              "      <td>Terminated</td>\n",
              "      <td>Regular</td>\n",
              "      <td>1993-07-01</td>\n",
              "      <td>1993-07-01</td>\n",
              "      <td>2018-07-11</td>\n",
              "      <td>0.936786</td>\n",
              "      <td>Voluntary Termination</td>\n",
              "      <td>Change of Career Direction</td>\n",
              "      <td>Woodlands Singapore W3</td>\n",
              "      <td>Singapore</td>\n",
              "      <td>...</td>\n",
              "      <td>Q4</td>\n",
              "      <td>Q4</td>\n",
              "      <td>Q3</td>\n",
              "      <td>Q1</td>\n",
              "      <td>Q4</td>\n",
              "      <td>0.108812</td>\n",
              "      <td>0.748922</td>\n",
              "      <td>0.997760</td>\n",
              "      <td>0.995886</td>\n",
              "      <td>0.90612</td>\n",
              "    </tr>\n",
              "    <tr>\n",
              "      <th>1</th>\n",
              "      <td>Terminated</td>\n",
              "      <td>Regular</td>\n",
              "      <td>2012-04-23</td>\n",
              "      <td>2012-04-23</td>\n",
              "      <td>2017-10-30</td>\n",
              "      <td>0.265960</td>\n",
              "      <td>Voluntary Termination</td>\n",
              "      <td>Compensation/Pay</td>\n",
              "      <td>Woodlands Singapore W3</td>\n",
              "      <td>Singapore</td>\n",
              "      <td>...</td>\n",
              "      <td>Q4</td>\n",
              "      <td>Q4</td>\n",
              "      <td>Q4</td>\n",
              "      <td>Q4</td>\n",
              "      <td>Q3</td>\n",
              "      <td>0.108812</td>\n",
              "      <td>0.748922</td>\n",
              "      <td>0.257672</td>\n",
              "      <td>0.228553</td>\n",
              "      <td>NaN</td>\n",
              "    </tr>\n",
              "    <tr>\n",
              "      <th>2</th>\n",
              "      <td>Terminated</td>\n",
              "      <td>Regular</td>\n",
              "      <td>2012-05-17</td>\n",
              "      <td>2012-05-17</td>\n",
              "      <td>2017-09-18</td>\n",
              "      <td>0.258763</td>\n",
              "      <td>Voluntary Termination</td>\n",
              "      <td>Career Advancement</td>\n",
              "      <td>Woodlands Singapore W3</td>\n",
              "      <td>Singapore</td>\n",
              "      <td>...</td>\n",
              "      <td>Q4</td>\n",
              "      <td>Q4</td>\n",
              "      <td>Q4</td>\n",
              "      <td>Q4</td>\n",
              "      <td>Q4</td>\n",
              "      <td>0.108812</td>\n",
              "      <td>0.748922</td>\n",
              "      <td>0.375765</td>\n",
              "      <td>0.413903</td>\n",
              "      <td>NaN</td>\n",
              "    </tr>\n",
              "    <tr>\n",
              "      <th>3</th>\n",
              "      <td>Terminated</td>\n",
              "      <td>Regular</td>\n",
              "      <td>2012-11-15</td>\n",
              "      <td>2012-11-15</td>\n",
              "      <td>2021-04-09</td>\n",
              "      <td>0.380249</td>\n",
              "      <td>Voluntary Termination</td>\n",
              "      <td>Return Home/Care for Family</td>\n",
              "      <td>Woodlands Singapore W3</td>\n",
              "      <td>Singapore</td>\n",
              "      <td>...</td>\n",
              "      <td>Q4</td>\n",
              "      <td>Q4</td>\n",
              "      <td>Q4</td>\n",
              "      <td>Q4</td>\n",
              "      <td>Q3</td>\n",
              "      <td>0.108812</td>\n",
              "      <td>0.748922</td>\n",
              "      <td>0.482606</td>\n",
              "      <td>0.511835</td>\n",
              "      <td>NaN</td>\n",
              "    </tr>\n",
              "    <tr>\n",
              "      <th>4</th>\n",
              "      <td>Terminated</td>\n",
              "      <td>Regular</td>\n",
              "      <td>2014-04-28</td>\n",
              "      <td>2014-04-28</td>\n",
              "      <td>2018-04-21</td>\n",
              "      <td>0.214552</td>\n",
              "      <td>Voluntary Termination</td>\n",
              "      <td>Return Home/Care for Family</td>\n",
              "      <td>Woodlands Singapore W3</td>\n",
              "      <td>Singapore</td>\n",
              "      <td>...</td>\n",
              "      <td>Q4</td>\n",
              "      <td>Q4</td>\n",
              "      <td>Q4</td>\n",
              "      <td>Q4</td>\n",
              "      <td>Q3</td>\n",
              "      <td>0.108812</td>\n",
              "      <td>0.748922</td>\n",
              "      <td>0.237401</td>\n",
              "      <td>0.221584</td>\n",
              "      <td>NaN</td>\n",
              "    </tr>\n",
              "  </tbody>\n",
              "</table>\n",
              "<p>5 rows × 41 columns</p>\n",
              "</div>\n",
              "      <button class=\"colab-df-convert\" onclick=\"convertToInteractive('df-626c4bc1-39ee-42bd-b73b-854acc28dc99')\"\n",
              "              title=\"Convert this dataframe to an interactive table.\"\n",
              "              style=\"display:none;\">\n",
              "        \n",
              "  <svg xmlns=\"http://www.w3.org/2000/svg\" height=\"24px\"viewBox=\"0 0 24 24\"\n",
              "       width=\"24px\">\n",
              "    <path d=\"M0 0h24v24H0V0z\" fill=\"none\"/>\n",
              "    <path d=\"M18.56 5.44l.94 2.06.94-2.06 2.06-.94-2.06-.94-.94-2.06-.94 2.06-2.06.94zm-11 1L8.5 8.5l.94-2.06 2.06-.94-2.06-.94L8.5 2.5l-.94 2.06-2.06.94zm10 10l.94 2.06.94-2.06 2.06-.94-2.06-.94-.94-2.06-.94 2.06-2.06.94z\"/><path d=\"M17.41 7.96l-1.37-1.37c-.4-.4-.92-.59-1.43-.59-.52 0-1.04.2-1.43.59L10.3 9.45l-7.72 7.72c-.78.78-.78 2.05 0 2.83L4 21.41c.39.39.9.59 1.41.59.51 0 1.02-.2 1.41-.59l7.78-7.78 2.81-2.81c.8-.78.8-2.07 0-2.86zM5.41 20L4 18.59l7.72-7.72 1.47 1.35L5.41 20z\"/>\n",
              "  </svg>\n",
              "      </button>\n",
              "      \n",
              "  <style>\n",
              "    .colab-df-container {\n",
              "      display:flex;\n",
              "      flex-wrap:wrap;\n",
              "      gap: 12px;\n",
              "    }\n",
              "\n",
              "    .colab-df-convert {\n",
              "      background-color: #E8F0FE;\n",
              "      border: none;\n",
              "      border-radius: 50%;\n",
              "      cursor: pointer;\n",
              "      display: none;\n",
              "      fill: #1967D2;\n",
              "      height: 32px;\n",
              "      padding: 0 0 0 0;\n",
              "      width: 32px;\n",
              "    }\n",
              "\n",
              "    .colab-df-convert:hover {\n",
              "      background-color: #E2EBFA;\n",
              "      box-shadow: 0px 1px 2px rgba(60, 64, 67, 0.3), 0px 1px 3px 1px rgba(60, 64, 67, 0.15);\n",
              "      fill: #174EA6;\n",
              "    }\n",
              "\n",
              "    [theme=dark] .colab-df-convert {\n",
              "      background-color: #3B4455;\n",
              "      fill: #D2E3FC;\n",
              "    }\n",
              "\n",
              "    [theme=dark] .colab-df-convert:hover {\n",
              "      background-color: #434B5C;\n",
              "      box-shadow: 0px 1px 3px 1px rgba(0, 0, 0, 0.15);\n",
              "      filter: drop-shadow(0px 1px 2px rgba(0, 0, 0, 0.3));\n",
              "      fill: #FFFFFF;\n",
              "    }\n",
              "  </style>\n",
              "\n",
              "      <script>\n",
              "        const buttonEl =\n",
              "          document.querySelector('#df-626c4bc1-39ee-42bd-b73b-854acc28dc99 button.colab-df-convert');\n",
              "        buttonEl.style.display =\n",
              "          google.colab.kernel.accessAllowed ? 'block' : 'none';\n",
              "\n",
              "        async function convertToInteractive(key) {\n",
              "          const element = document.querySelector('#df-626c4bc1-39ee-42bd-b73b-854acc28dc99');\n",
              "          const dataTable =\n",
              "            await google.colab.kernel.invokeFunction('convertToInteractive',\n",
              "                                                     [key], {});\n",
              "          if (!dataTable) return;\n",
              "\n",
              "          const docLinkHtml = 'Like what you see? Visit the ' +\n",
              "            '<a target=\"_blank\" href=https://colab.research.google.com/notebooks/data_table.ipynb>data table notebook</a>'\n",
              "            + ' to learn more about interactive tables.';\n",
              "          element.innerHTML = '';\n",
              "          dataTable['output_type'] = 'display_data';\n",
              "          await google.colab.output.renderOutput(dataTable, element);\n",
              "          const docLink = document.createElement('div');\n",
              "          docLink.innerHTML = docLinkHtml;\n",
              "          element.appendChild(docLink);\n",
              "        }\n",
              "      </script>\n",
              "    </div>\n",
              "  </div>\n",
              "  "
            ]
          },
          "metadata": {},
          "execution_count": 32
        }
      ]
    },
    {
      "cell_type": "code",
      "source": [
        "#Dataset 2: Copy of dataset with categorical columns as a reference to the binned values\n",
        "data.to_excel('CleanData_ForPresentation.xlsx')"
      ],
      "metadata": {
        "id": "qRcBF0irp9yK"
      },
      "execution_count": null,
      "outputs": []
    },
    {
      "cell_type": "code",
      "source": [
        "df.drop(['location', 'country', 'region','job_title', 'job_function', 'job_family','pay_level', 'organization','race/ethnicity']\n",
        "               , axis=1, inplace=True)"
      ],
      "metadata": {
        "id": "rrzUIfczqBB3"
      },
      "execution_count": 33,
      "outputs": []
    },
    {
      "cell_type": "code",
      "source": [
        "df = df.round(2)"
      ],
      "metadata": {
        "id": "BEonENDtplBX"
      },
      "execution_count": 34,
      "outputs": []
    },
    {
      "cell_type": "code",
      "source": [
        "df.head()"
      ],
      "metadata": {
        "colab": {
          "base_uri": "https://localhost:8080/",
          "height": 386
        },
        "id": "eIGUd50NtDIs",
        "outputId": "d13f95f7-a41a-4a86-be07-e83ff486ff74"
      },
      "execution_count": 35,
      "outputs": [
        {
          "output_type": "execute_result",
          "data": {
            "text/plain": [
              "  employee_status employee_type current_hire_date continuous_service_date  \\\n",
              "0      Terminated       Regular        1993-07-01              1993-07-01   \n",
              "1      Terminated       Regular        2012-04-23              2012-04-23   \n",
              "2      Terminated       Regular        2012-05-17              2012-05-17   \n",
              "3      Terminated       Regular        2012-11-15              2012-11-15   \n",
              "4      Terminated       Regular        2014-04-28              2014-04-28   \n",
              "\n",
              "  termination_date  years_of_service          term_category  \\\n",
              "0       2018-07-11              0.94  Voluntary Termination   \n",
              "1       2017-10-30              0.27  Voluntary Termination   \n",
              "2       2017-09-18              0.26  Voluntary Termination   \n",
              "3       2021-04-09              0.38  Voluntary Termination   \n",
              "4       2018-04-21              0.21  Voluntary Termination   \n",
              "\n",
              "            termination_reason              job_category management_level  \\\n",
              "0   Change of Career Direction                Management         Director   \n",
              "1             Compensation/Pay        Operations Support          Support   \n",
              "2           Career Advancement  Engineering Professional     Professional   \n",
              "3  Return Home/Care for Family  Engineering Professional     Professional   \n",
              "4  Return Home/Care for Family        Operations Support          Support   \n",
              "\n",
              "   ... job_function_q_binned  job_family_q_binned pay_level_q_binned  \\\n",
              "0  ...                    Q4                   Q4                 Q3   \n",
              "1  ...                    Q4                   Q4                 Q4   \n",
              "2  ...                    Q4                   Q4                 Q4   \n",
              "3  ...                    Q4                   Q4                 Q4   \n",
              "4  ...                    Q4                   Q4                 Q4   \n",
              "\n",
              "   organization_q_binned race/ethnicity_q_binned   lat  longi salary  \\\n",
              "0                     Q1                      Q4  0.11   0.75   1.00   \n",
              "1                     Q4                      Q3  0.11   0.75   0.26   \n",
              "2                     Q4                      Q4  0.11   0.75   0.38   \n",
              "3                     Q4                      Q3  0.11   0.75   0.48   \n",
              "4                     Q4                      Q3  0.11   0.75   0.24   \n",
              "\n",
              "   replacement_cost days_since_promotion  \n",
              "0              1.00                 0.91  \n",
              "1              0.23                  NaN  \n",
              "2              0.41                  NaN  \n",
              "3              0.51                  NaN  \n",
              "4              0.22                  NaN  \n",
              "\n",
              "[5 rows x 32 columns]"
            ],
            "text/html": [
              "\n",
              "  <div id=\"df-ff9d2480-8c56-416f-838d-4c33af7b3963\">\n",
              "    <div class=\"colab-df-container\">\n",
              "      <div>\n",
              "<style scoped>\n",
              "    .dataframe tbody tr th:only-of-type {\n",
              "        vertical-align: middle;\n",
              "    }\n",
              "\n",
              "    .dataframe tbody tr th {\n",
              "        vertical-align: top;\n",
              "    }\n",
              "\n",
              "    .dataframe thead th {\n",
              "        text-align: right;\n",
              "    }\n",
              "</style>\n",
              "<table border=\"1\" class=\"dataframe\">\n",
              "  <thead>\n",
              "    <tr style=\"text-align: right;\">\n",
              "      <th></th>\n",
              "      <th>employee_status</th>\n",
              "      <th>employee_type</th>\n",
              "      <th>current_hire_date</th>\n",
              "      <th>continuous_service_date</th>\n",
              "      <th>termination_date</th>\n",
              "      <th>years_of_service</th>\n",
              "      <th>term_category</th>\n",
              "      <th>termination_reason</th>\n",
              "      <th>job_category</th>\n",
              "      <th>management_level</th>\n",
              "      <th>...</th>\n",
              "      <th>job_function_q_binned</th>\n",
              "      <th>job_family_q_binned</th>\n",
              "      <th>pay_level_q_binned</th>\n",
              "      <th>organization_q_binned</th>\n",
              "      <th>race/ethnicity_q_binned</th>\n",
              "      <th>lat</th>\n",
              "      <th>longi</th>\n",
              "      <th>salary</th>\n",
              "      <th>replacement_cost</th>\n",
              "      <th>days_since_promotion</th>\n",
              "    </tr>\n",
              "  </thead>\n",
              "  <tbody>\n",
              "    <tr>\n",
              "      <th>0</th>\n",
              "      <td>Terminated</td>\n",
              "      <td>Regular</td>\n",
              "      <td>1993-07-01</td>\n",
              "      <td>1993-07-01</td>\n",
              "      <td>2018-07-11</td>\n",
              "      <td>0.94</td>\n",
              "      <td>Voluntary Termination</td>\n",
              "      <td>Change of Career Direction</td>\n",
              "      <td>Management</td>\n",
              "      <td>Director</td>\n",
              "      <td>...</td>\n",
              "      <td>Q4</td>\n",
              "      <td>Q4</td>\n",
              "      <td>Q3</td>\n",
              "      <td>Q1</td>\n",
              "      <td>Q4</td>\n",
              "      <td>0.11</td>\n",
              "      <td>0.75</td>\n",
              "      <td>1.00</td>\n",
              "      <td>1.00</td>\n",
              "      <td>0.91</td>\n",
              "    </tr>\n",
              "    <tr>\n",
              "      <th>1</th>\n",
              "      <td>Terminated</td>\n",
              "      <td>Regular</td>\n",
              "      <td>2012-04-23</td>\n",
              "      <td>2012-04-23</td>\n",
              "      <td>2017-10-30</td>\n",
              "      <td>0.27</td>\n",
              "      <td>Voluntary Termination</td>\n",
              "      <td>Compensation/Pay</td>\n",
              "      <td>Operations Support</td>\n",
              "      <td>Support</td>\n",
              "      <td>...</td>\n",
              "      <td>Q4</td>\n",
              "      <td>Q4</td>\n",
              "      <td>Q4</td>\n",
              "      <td>Q4</td>\n",
              "      <td>Q3</td>\n",
              "      <td>0.11</td>\n",
              "      <td>0.75</td>\n",
              "      <td>0.26</td>\n",
              "      <td>0.23</td>\n",
              "      <td>NaN</td>\n",
              "    </tr>\n",
              "    <tr>\n",
              "      <th>2</th>\n",
              "      <td>Terminated</td>\n",
              "      <td>Regular</td>\n",
              "      <td>2012-05-17</td>\n",
              "      <td>2012-05-17</td>\n",
              "      <td>2017-09-18</td>\n",
              "      <td>0.26</td>\n",
              "      <td>Voluntary Termination</td>\n",
              "      <td>Career Advancement</td>\n",
              "      <td>Engineering Professional</td>\n",
              "      <td>Professional</td>\n",
              "      <td>...</td>\n",
              "      <td>Q4</td>\n",
              "      <td>Q4</td>\n",
              "      <td>Q4</td>\n",
              "      <td>Q4</td>\n",
              "      <td>Q4</td>\n",
              "      <td>0.11</td>\n",
              "      <td>0.75</td>\n",
              "      <td>0.38</td>\n",
              "      <td>0.41</td>\n",
              "      <td>NaN</td>\n",
              "    </tr>\n",
              "    <tr>\n",
              "      <th>3</th>\n",
              "      <td>Terminated</td>\n",
              "      <td>Regular</td>\n",
              "      <td>2012-11-15</td>\n",
              "      <td>2012-11-15</td>\n",
              "      <td>2021-04-09</td>\n",
              "      <td>0.38</td>\n",
              "      <td>Voluntary Termination</td>\n",
              "      <td>Return Home/Care for Family</td>\n",
              "      <td>Engineering Professional</td>\n",
              "      <td>Professional</td>\n",
              "      <td>...</td>\n",
              "      <td>Q4</td>\n",
              "      <td>Q4</td>\n",
              "      <td>Q4</td>\n",
              "      <td>Q4</td>\n",
              "      <td>Q3</td>\n",
              "      <td>0.11</td>\n",
              "      <td>0.75</td>\n",
              "      <td>0.48</td>\n",
              "      <td>0.51</td>\n",
              "      <td>NaN</td>\n",
              "    </tr>\n",
              "    <tr>\n",
              "      <th>4</th>\n",
              "      <td>Terminated</td>\n",
              "      <td>Regular</td>\n",
              "      <td>2014-04-28</td>\n",
              "      <td>2014-04-28</td>\n",
              "      <td>2018-04-21</td>\n",
              "      <td>0.21</td>\n",
              "      <td>Voluntary Termination</td>\n",
              "      <td>Return Home/Care for Family</td>\n",
              "      <td>Operations Support</td>\n",
              "      <td>Support</td>\n",
              "      <td>...</td>\n",
              "      <td>Q4</td>\n",
              "      <td>Q4</td>\n",
              "      <td>Q4</td>\n",
              "      <td>Q4</td>\n",
              "      <td>Q3</td>\n",
              "      <td>0.11</td>\n",
              "      <td>0.75</td>\n",
              "      <td>0.24</td>\n",
              "      <td>0.22</td>\n",
              "      <td>NaN</td>\n",
              "    </tr>\n",
              "  </tbody>\n",
              "</table>\n",
              "<p>5 rows × 32 columns</p>\n",
              "</div>\n",
              "      <button class=\"colab-df-convert\" onclick=\"convertToInteractive('df-ff9d2480-8c56-416f-838d-4c33af7b3963')\"\n",
              "              title=\"Convert this dataframe to an interactive table.\"\n",
              "              style=\"display:none;\">\n",
              "        \n",
              "  <svg xmlns=\"http://www.w3.org/2000/svg\" height=\"24px\"viewBox=\"0 0 24 24\"\n",
              "       width=\"24px\">\n",
              "    <path d=\"M0 0h24v24H0V0z\" fill=\"none\"/>\n",
              "    <path d=\"M18.56 5.44l.94 2.06.94-2.06 2.06-.94-2.06-.94-.94-2.06-.94 2.06-2.06.94zm-11 1L8.5 8.5l.94-2.06 2.06-.94-2.06-.94L8.5 2.5l-.94 2.06-2.06.94zm10 10l.94 2.06.94-2.06 2.06-.94-2.06-.94-.94-2.06-.94 2.06-2.06.94z\"/><path d=\"M17.41 7.96l-1.37-1.37c-.4-.4-.92-.59-1.43-.59-.52 0-1.04.2-1.43.59L10.3 9.45l-7.72 7.72c-.78.78-.78 2.05 0 2.83L4 21.41c.39.39.9.59 1.41.59.51 0 1.02-.2 1.41-.59l7.78-7.78 2.81-2.81c.8-.78.8-2.07 0-2.86zM5.41 20L4 18.59l7.72-7.72 1.47 1.35L5.41 20z\"/>\n",
              "  </svg>\n",
              "      </button>\n",
              "      \n",
              "  <style>\n",
              "    .colab-df-container {\n",
              "      display:flex;\n",
              "      flex-wrap:wrap;\n",
              "      gap: 12px;\n",
              "    }\n",
              "\n",
              "    .colab-df-convert {\n",
              "      background-color: #E8F0FE;\n",
              "      border: none;\n",
              "      border-radius: 50%;\n",
              "      cursor: pointer;\n",
              "      display: none;\n",
              "      fill: #1967D2;\n",
              "      height: 32px;\n",
              "      padding: 0 0 0 0;\n",
              "      width: 32px;\n",
              "    }\n",
              "\n",
              "    .colab-df-convert:hover {\n",
              "      background-color: #E2EBFA;\n",
              "      box-shadow: 0px 1px 2px rgba(60, 64, 67, 0.3), 0px 1px 3px 1px rgba(60, 64, 67, 0.15);\n",
              "      fill: #174EA6;\n",
              "    }\n",
              "\n",
              "    [theme=dark] .colab-df-convert {\n",
              "      background-color: #3B4455;\n",
              "      fill: #D2E3FC;\n",
              "    }\n",
              "\n",
              "    [theme=dark] .colab-df-convert:hover {\n",
              "      background-color: #434B5C;\n",
              "      box-shadow: 0px 1px 3px 1px rgba(0, 0, 0, 0.15);\n",
              "      filter: drop-shadow(0px 1px 2px rgba(0, 0, 0, 0.3));\n",
              "      fill: #FFFFFF;\n",
              "    }\n",
              "  </style>\n",
              "\n",
              "      <script>\n",
              "        const buttonEl =\n",
              "          document.querySelector('#df-ff9d2480-8c56-416f-838d-4c33af7b3963 button.colab-df-convert');\n",
              "        buttonEl.style.display =\n",
              "          google.colab.kernel.accessAllowed ? 'block' : 'none';\n",
              "\n",
              "        async function convertToInteractive(key) {\n",
              "          const element = document.querySelector('#df-ff9d2480-8c56-416f-838d-4c33af7b3963');\n",
              "          const dataTable =\n",
              "            await google.colab.kernel.invokeFunction('convertToInteractive',\n",
              "                                                     [key], {});\n",
              "          if (!dataTable) return;\n",
              "\n",
              "          const docLinkHtml = 'Like what you see? Visit the ' +\n",
              "            '<a target=\"_blank\" href=https://colab.research.google.com/notebooks/data_table.ipynb>data table notebook</a>'\n",
              "            + ' to learn more about interactive tables.';\n",
              "          element.innerHTML = '';\n",
              "          dataTable['output_type'] = 'display_data';\n",
              "          await google.colab.output.renderOutput(dataTable, element);\n",
              "          const docLink = document.createElement('div');\n",
              "          docLink.innerHTML = docLinkHtml;\n",
              "          element.appendChild(docLink);\n",
              "        }\n",
              "      </script>\n",
              "    </div>\n",
              "  </div>\n",
              "  "
            ]
          },
          "metadata": {},
          "execution_count": 35
        }
      ]
    },
    {
      "cell_type": "code",
      "source": [
        "df.dtypes"
      ],
      "metadata": {
        "colab": {
          "base_uri": "https://localhost:8080/"
        },
        "id": "_mH_GOWeydW5",
        "outputId": "193e1a59-03fc-43a1-cb4d-aac633df1b29"
      },
      "execution_count": 36,
      "outputs": [
        {
          "output_type": "execute_result",
          "data": {
            "text/plain": [
              "employee_status                    object\n",
              "employee_type                      object\n",
              "current_hire_date          datetime64[ns]\n",
              "continuous_service_date    datetime64[ns]\n",
              "termination_date           datetime64[ns]\n",
              "years_of_service                  float64\n",
              "term_category                      object\n",
              "termination_reason                 object\n",
              "job_category                       object\n",
              "management_level                   object\n",
              "work_structure                     object\n",
              "compa_ratio                       float64\n",
              "marital_status                     object\n",
              "age                               float64\n",
              "generation                         object\n",
              "gender                             object\n",
              "base_pay_mid_point                float64\n",
              "last_promotion_date        datetime64[ns]\n",
              "cost_to_replace_factor            float64\n",
              "location_q_binned                category\n",
              "country_q_binned                 category\n",
              "job_title_q_binned               category\n",
              "job_function_q_binned            category\n",
              "job_family_q_binned              category\n",
              "pay_level_q_binned               category\n",
              "organization_q_binned            category\n",
              "race/ethnicity_q_binned          category\n",
              "lat                               float64\n",
              "longi                             float64\n",
              "salary                            float64\n",
              "replacement_cost                  float64\n",
              "days_since_promotion              float64\n",
              "dtype: object"
            ]
          },
          "metadata": {},
          "execution_count": 36
        }
      ]
    },
    {
      "cell_type": "code",
      "source": [
        "#df.to_excel('CleanData_ForModeling.xlsx')\n"
      ],
      "metadata": {
        "id": "dkEwXKeiqkA0"
      },
      "execution_count": null,
      "outputs": []
    },
    {
      "cell_type": "code",
      "source": [
        "#this should've been done in the data cleaning step, Nehal can you add this to our later reports/ppt as part of data cleaning?\n",
        "df=df[((df['term_category'].isna())&(df['employee_status']=='Active'))|((df['term_category']=='Voluntary Termination')&(df['employee_status']=='Terminated'))]\n",
        "#output var creation\n",
        "df['employee_status']=df['employee_status'].apply(lambda x: 1 if x=='Terminated' else 0)"
      ],
      "metadata": {
        "colab": {
          "base_uri": "https://localhost:8080/"
        },
        "id": "ech-lXXIpggx",
        "outputId": "e66712a1-bdfa-4047-850c-e6c5f0a4e64b"
      },
      "execution_count": 37,
      "outputs": [
        {
          "output_type": "stream",
          "name": "stderr",
          "text": [
            "<ipython-input-37-9fcc0e1d6b66>:4: SettingWithCopyWarning: \n",
            "A value is trying to be set on a copy of a slice from a DataFrame.\n",
            "Try using .loc[row_indexer,col_indexer] = value instead\n",
            "\n",
            "See the caveats in the documentation: https://pandas.pydata.org/pandas-docs/stable/user_guide/indexing.html#returning-a-view-versus-a-copy\n",
            "  df['employee_status']=df['employee_status'].apply(lambda x: 1 if x=='Terminated' else 0)\n"
          ]
        }
      ]
    },
    {
      "cell_type": "code",
      "source": [
        "#these vars can directly predict output variable; need to drop them for sure\n",
        "#work structure has a very high correlation with the output, hence dropped. base_pay_mid_point has high correlation with Salary, hence dropped\n",
        "df.drop(['term_category','termination_reason','termination_date','last_promotion_date','work_structure','base_pay_mid_point'],axis=1,inplace=True)"
      ],
      "metadata": {
        "id": "siCDjmzdpgXS"
      },
      "execution_count": 38,
      "outputs": []
    },
    {
      "cell_type": "code",
      "source": [
        "#Changing date columns to years\n",
        "#Should've been in data cleaning too \n",
        "\n",
        "for d in [col for col in df.columns if 'date' in col]:\n",
        "    df[d]=df[d].apply(lambda x: str(x.year))\n",
        "\n",
        "#Binning data based on quartiles\n",
        "#dropping old columns here\n",
        "for col in [col for col in df.columns if 'date' in col]:\n",
        "    print(col)\n",
        "    # Fill null values\n",
        "    df[col].fillna('NA', inplace=True)\n",
        "\n",
        "    # Get value counts of each category\n",
        "    value_counts = df[col].value_counts()\n",
        "\n",
        "    # Define bins based on quartiles\n",
        "    bins = [0, value_counts.quantile(0.25), value_counts.quantile(0.5), value_counts.quantile(0.75), np.inf]\n",
        "    labels = ['Q1', 'Q2', 'Q3', 'Q4']\n",
        "\n",
        "    # Creating new variable name for the binned data\n",
        "    new_var = col + '_q_binned'\n",
        "\n",
        "    # Bin categories based on quartiles\n",
        "    df[new_var] = pd.cut(df[col].map(value_counts), bins=bins, labels=labels, include_lowest=True)\n",
        "    \n",
        "    #dropping old date columns\n",
        "    #TODO - need to map quartiles to old years to understand \n",
        "    df.drop(col,axis=1,inplace=True)\n",
        "    print(new_var)"
      ],
      "metadata": {
        "colab": {
          "base_uri": "https://localhost:8080/"
        },
        "id": "mcr4q1xvpgNP",
        "outputId": "7dcdd1e7-14cc-4cb8-e04e-8acefe3aedb9"
      },
      "execution_count": 39,
      "outputs": [
        {
          "output_type": "stream",
          "name": "stdout",
          "text": [
            "current_hire_date\n",
            "current_hire_date_q_binned\n",
            "continuous_service_date\n",
            "continuous_service_date_q_binned\n"
          ]
        }
      ]
    },
    {
      "cell_type": "code",
      "source": [
        "# More data cleaning steps; need to add as having been done before in data cleaning report\n",
        "df['days_since_promotion'][df['days_since_promotion'].isna()]=-1\n",
        "df['marital_status'][df['marital_status'].isna()]='NA'"
      ],
      "metadata": {
        "colab": {
          "base_uri": "https://localhost:8080/"
        },
        "id": "c15bJeSepvuh",
        "outputId": "6e5e5318-fdc9-496e-d037-d59aa0adc8b8"
      },
      "execution_count": 40,
      "outputs": [
        {
          "output_type": "stream",
          "name": "stderr",
          "text": [
            "<ipython-input-40-86f233222a1e>:2: SettingWithCopyWarning: \n",
            "A value is trying to be set on a copy of a slice from a DataFrame\n",
            "\n",
            "See the caveats in the documentation: https://pandas.pydata.org/pandas-docs/stable/user_guide/indexing.html#returning-a-view-versus-a-copy\n",
            "  df['days_since_promotion'][df['days_since_promotion'].isna()]=-1\n",
            "<ipython-input-40-86f233222a1e>:3: SettingWithCopyWarning: \n",
            "A value is trying to be set on a copy of a slice from a DataFrame\n",
            "\n",
            "See the caveats in the documentation: https://pandas.pydata.org/pandas-docs/stable/user_guide/indexing.html#returning-a-view-versus-a-copy\n",
            "  df['marital_status'][df['marital_status'].isna()]='NA'\n"
          ]
        }
      ]
    },
    {
      "cell_type": "code",
      "source": [
        "#Creating dummies and replacing them in the original data\n",
        "\n",
        "\n",
        "num_cols=[]\n",
        "cat_cols=[]\n",
        "for x in df.columns:  \n",
        "    if df[x].dtype=='object':\n",
        "        cat_cols.append(x)\n",
        "    elif len(set(df[x]))<10:\n",
        "        cat_cols.append(x)\n",
        "    else:\n",
        "        num_cols.append(x)\n",
        "        \n",
        "print(num_cols)\n",
        "print(cat_cols)\n",
        "\n",
        "\n",
        "#Getting dummies for variables, drop old ones\n",
        "for var in cat_cols:\n",
        "    if var not in ['employee_status','cost_to_replace_factor']:\n",
        "        dummies = pd.get_dummies(df[var], prefix=var, drop_first=True)\n",
        "        df = pd.concat([df, dummies], axis=1)\n",
        "        df.drop(var,axis=1,inplace=True)"
      ],
      "metadata": {
        "colab": {
          "base_uri": "https://localhost:8080/"
        },
        "id": "dHVVf2q-pgBL",
        "outputId": "09e5dc5f-0200-4e14-a29b-3e80c37313b4"
      },
      "execution_count": 41,
      "outputs": [
        {
          "output_type": "stream",
          "name": "stdout",
          "text": [
            "['years_of_service', 'compa_ratio', 'age', 'lat', 'longi', 'salary', 'replacement_cost', 'days_since_promotion']\n",
            "['employee_status', 'employee_type', 'job_category', 'management_level', 'marital_status', 'generation', 'gender', 'cost_to_replace_factor', 'location_q_binned', 'country_q_binned', 'job_title_q_binned', 'job_function_q_binned', 'job_family_q_binned', 'pay_level_q_binned', 'organization_q_binned', 'race/ethnicity_q_binned', 'current_hire_date_q_binned', 'continuous_service_date_q_binned']\n"
          ]
        }
      ]
    },
    {
      "cell_type": "code",
      "source": [
        "df.columns"
      ],
      "metadata": {
        "colab": {
          "base_uri": "https://localhost:8080/"
        },
        "id": "NStz6a_dp3ky",
        "outputId": "df86828b-aba4-4fcc-a3de-809924218a0f"
      },
      "execution_count": 42,
      "outputs": [
        {
          "output_type": "execute_result",
          "data": {
            "text/plain": [
              "Index(['employee_status', 'years_of_service', 'compa_ratio', 'age',\n",
              "       'cost_to_replace_factor', 'lat', 'longi', 'salary', 'replacement_cost',\n",
              "       'days_since_promotion', 'employee_type_Regular',\n",
              "       'job_category_Engineering Support', 'job_category_Executive',\n",
              "       'job_category_Management', 'job_category_Operations Support',\n",
              "       'job_category_Professional', 'job_category_Sales Management',\n",
              "       'job_category_Sales Reps', 'job_category_Service Workers',\n",
              "       'job_category_Skilled Craft Workers', 'job_category_Supervisors',\n",
              "       'job_category_Support', 'management_level_Executive',\n",
              "       'management_level_Manager', 'management_level_Professional',\n",
              "       'management_level_Supervisor', 'management_level_Support',\n",
              "       'marital_status_Domestic Partner',\n",
              "       'marital_status_Domestic Partner (Unregistered Marriage)',\n",
              "       'marital_status_Legally Separated', 'marital_status_Living Together',\n",
              "       'marital_status_Married', 'marital_status_NA', 'marital_status_Single',\n",
              "       'marital_status_Unknown', 'marital_status_Widowed',\n",
              "       'marital_status_Widowed With Surviving Pension', 'generation_Gen X',\n",
              "       'generation_Gen Z', 'generation_Millennial', 'gender_Male',\n",
              "       'gender_Undeclared', 'gender_Unknown', 'location_q_binned_Q2',\n",
              "       'location_q_binned_Q3', 'location_q_binned_Q4', 'country_q_binned_Q2',\n",
              "       'country_q_binned_Q3', 'country_q_binned_Q4', 'job_title_q_binned_Q2',\n",
              "       'job_title_q_binned_Q3', 'job_title_q_binned_Q4',\n",
              "       'job_function_q_binned_Q2', 'job_function_q_binned_Q3',\n",
              "       'job_function_q_binned_Q4', 'job_family_q_binned_Q2',\n",
              "       'job_family_q_binned_Q3', 'job_family_q_binned_Q4',\n",
              "       'pay_level_q_binned_Q2', 'pay_level_q_binned_Q3',\n",
              "       'pay_level_q_binned_Q4', 'organization_q_binned_Q2',\n",
              "       'organization_q_binned_Q3', 'organization_q_binned_Q4',\n",
              "       'race/ethnicity_q_binned_Q2', 'race/ethnicity_q_binned_Q3',\n",
              "       'race/ethnicity_q_binned_Q4', 'current_hire_date_q_binned_Q2',\n",
              "       'current_hire_date_q_binned_Q3', 'current_hire_date_q_binned_Q4',\n",
              "       'continuous_service_date_q_binned_Q2',\n",
              "       'continuous_service_date_q_binned_Q3',\n",
              "       'continuous_service_date_q_binned_Q4'],\n",
              "      dtype='object')"
            ]
          },
          "metadata": {},
          "execution_count": 42
        }
      ]
    },
    {
      "cell_type": "code",
      "source": [
        "# calculate correlation matrix\n",
        "corr_matrix = df.corr()\n",
        "\n",
        "# display correlation matrix with just the correlations for the target variable\n",
        "# sort correlation matrix by correlations with the target variable, in descending order\n",
        "corr_matrix_sorted = corr_matrix['employee_status'].sort_values(ascending=False)\n",
        "\n",
        "# display sorted correlation matrix\n",
        "print(corr_matrix_sorted)"
      ],
      "metadata": {
        "colab": {
          "base_uri": "https://localhost:8080/"
        },
        "id": "h1LyndrBp3K9",
        "outputId": "1d261896-8c6f-4156-d4c8-937d8ddcda0a"
      },
      "execution_count": 43,
      "outputs": [
        {
          "output_type": "stream",
          "name": "stdout",
          "text": [
            "employee_status                        1.000000\n",
            "current_hire_date_q_binned_Q4          0.221773\n",
            "continuous_service_date_q_binned_Q4    0.211249\n",
            "generation_Millennial                  0.188630\n",
            "management_level_Professional          0.128689\n",
            "                                         ...   \n",
            "current_hire_date_q_binned_Q3         -0.152837\n",
            "age                                   -0.172683\n",
            "days_since_promotion                  -0.236501\n",
            "compa_ratio                           -0.273391\n",
            "years_of_service                      -0.362119\n",
            "Name: employee_status, Length: 73, dtype: float64\n"
          ]
        }
      ]
    },
    {
      "cell_type": "code",
      "source": [
        "import seaborn as sns\n",
        "import matplotlib.pyplot as plt\n",
        "# Set style and color palette\n",
        "sns.set(style=\"white\")\n",
        "sns.set_palette(\"coolwarm\")\n",
        "\n",
        "# Create heatmap with correlation matrix\n",
        "fig, ax = plt.subplots(figsize=(10,10))\n",
        "# plot correlation matrix as a heatmap\n",
        "sns.heatmap(corr_matrix, cmap=\"coolwarm\")\n",
        "# show the plot\n",
        "plt.show()"
      ],
      "metadata": {
        "colab": {
          "base_uri": "https://localhost:8080/",
          "height": 905
        },
        "id": "dmL-pGT7qHrT",
        "outputId": "6938e99c-888a-40ff-f8b4-79e554971fa1"
      },
      "execution_count": 45,
      "outputs": [
        {
          "output_type": "display_data",
          "data": {
            "text/plain": [
              "<Figure size 720x720 with 2 Axes>"
            ],
            "image/png": "[encoded data removed]"
          },
          "metadata": {}
        }
      ]
    },
    {
      "cell_type": "code",
      "source": [
        "#Creating clean dataset for modeling\n",
        "df.to_excel('ModelingDataset.xlsx')"
      ],
      "metadata": {
        "id": "yC0j773BZ5l8"
      },
      "execution_count": 48,
      "outputs": []
    },
    {
      "cell_type": "code",
      "source": [
        "df.shape"
      ],
      "metadata": {
        "id": "pnxzwjG0QLFC",
        "colab": {
          "base_uri": "https://localhost:8080/"
        },
        "outputId": "d47f64e5-856e-4f89-93ad-4bd372dcacf2"
      },
      "execution_count": 47,
      "outputs": [
        {
          "output_type": "execute_result",
          "data": {
            "text/plain": [
              "(20321, 73)"
            ]
          },
          "metadata": {},
          "execution_count": 47
        }
      ]
    },
    {
      "cell_type": "code",
      "source": [],
      "metadata": {
        "id": "oU1v1uv9QLHX"
      },
      "execution_count": null,
      "outputs": []
    },
    {
      "cell_type": "code",
      "source": [],
      "metadata": {
        "id": "2xpBC_dhQLJq"
      },
      "execution_count": null,
      "outputs": []
    },
    {
      "cell_type": "code",
      "source": [],
      "metadata": {
        "id": "BuhXOcFUQLMA"
      },
      "execution_count": null,
      "outputs": []
    },
    {
      "cell_type": "code",
      "source": [],
      "metadata": {
        "id": "9--Sn6MHQLOJ"
      },
      "execution_count": null,
      "outputs": []
    },
    {
      "cell_type": "code",
      "source": [],
      "metadata": {
        "id": "679ZdDulQLQc"
      },
      "execution_count": null,
      "outputs": []
    },
    {
      "cell_type": "code",
      "source": [],
      "metadata": {
        "id": "dOEzubkkQLS9"
      },
      "execution_count": null,
      "outputs": []
    },
    {
      "cell_type": "markdown",
      "source": [
        "# New Section"
      ],
      "metadata": {
        "id": "kod768nwJUfE"
      }
    }
  ]
}