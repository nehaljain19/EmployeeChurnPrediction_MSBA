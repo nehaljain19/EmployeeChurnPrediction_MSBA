{
  "cells": [
    {
      "cell_type": "markdown",
      "id": "03347064",
      "metadata": {
        "id": "03347064"
      },
      "source": [
        "Intro for all models; this'll be the same for everyone; post any changes so that everyone can do it"
      ]
    },
    {
      "cell_type": "code",
      "execution_count": null,
      "id": "0b0543d8",
      "metadata": {
        "id": "0b0543d8"
      },
      "outputs": [],
      "source": [
        "import pandas as pd\n",
        "import numpy as np\n",
        "import seaborn as sns\n",
        "import matplotlib.pyplot as plt\n",
        "from sklearn.model_selection import train_test_split\n",
        "from sklearn.linear_model import LogisticRegression\n",
        "from sklearn.metrics import confusion_matrix, accuracy_score, precision_score, recall_score"
      ]
    },
    {
      "cell_type": "code",
      "execution_count": null,
      "id": "420fb765",
      "metadata": {
        "id": "420fb765"
      },
      "outputs": [],
      "source": [
        "df=pd.read_excel('CleanData_ForModeling.xlsx')"
      ]
    },
    {
      "cell_type": "code",
      "execution_count": null,
      "id": "6b6c0765",
      "metadata": {
        "id": "6b6c0765",
        "colab": {
          "base_uri": "https://localhost:8080/"
        },
        "outputId": "2ae0b21e-0e08-4013-e074-d1093d52efdd"
      },
      "outputs": [
        {
          "output_type": "stream",
          "name": "stderr",
          "text": [
            "<ipython-input-3-9fcc0e1d6b66>:4: SettingWithCopyWarning: \n",
            "A value is trying to be set on a copy of a slice from a DataFrame.\n",
            "Try using .loc[row_indexer,col_indexer] = value instead\n",
            "\n",
            "See the caveats in the documentation: https://pandas.pydata.org/pandas-docs/stable/user_guide/indexing.html#returning-a-view-versus-a-copy\n",
            "  df['employee_status']=df['employee_status'].apply(lambda x: 1 if x=='Terminated' else 0)\n"
          ]
        }
      ],
      "source": [
        "#this should've been done in the data cleaning step, Nehal can you add this to our later reports/ppt as part of data cleaning?\n",
        "df=df[((df['term_category'].isna())&(df['employee_status']=='Active'))|((df['term_category']=='Voluntary Termination')&(df['employee_status']=='Terminated'))]\n",
        "#output var creation\n",
        "df['employee_status']=df['employee_status'].apply(lambda x: 1 if x=='Terminated' else 0)"
      ]
    },
    {
      "cell_type": "code",
      "execution_count": null,
      "id": "0182297d",
      "metadata": {
        "id": "0182297d",
        "colab": {
          "base_uri": "https://localhost:8080/"
        },
        "outputId": "7b5376fe-7ee3-48f1-cc94-1069f8fb3e30"
      },
      "outputs": [
        {
          "output_type": "stream",
          "name": "stderr",
          "text": [
            "/usr/local/lib/python3.8/dist-packages/pandas/core/frame.py:4906: SettingWithCopyWarning: \n",
            "A value is trying to be set on a copy of a slice from a DataFrame\n",
            "\n",
            "See the caveats in the documentation: https://pandas.pydata.org/pandas-docs/stable/user_guide/indexing.html#returning-a-view-versus-a-copy\n",
            "  return super().drop(\n"
          ]
        }
      ],
      "source": [
        "#these vars can directly predict output variable; need to drop them for sure\n",
        "#work structure has a very high correlation with the output, hence dropped. base_pay_mid_point has high correlation with Salary, hence dropped\n",
        "df.drop(['term_category','termination_reason','termination_date','last_promotion_date','work_structure','base_pay_mid_point'],axis=1,inplace=True)"
      ]
    },
    {
      "cell_type": "code",
      "execution_count": null,
      "id": "d0c7da56",
      "metadata": {
        "colab": {
          "base_uri": "https://localhost:8080/"
        },
        "id": "d0c7da56",
        "outputId": "0d32bf75-669c-4f03-8374-5f7c7ef15b35"
      },
      "outputs": [
        {
          "output_type": "execute_result",
          "data": {
            "text/plain": [
              "Index(['employee_status', 'years_of_service', 'compa_ratio', 'age',\n",
              "       'cost_to_replace_factor', 'lat', 'longi', 'salary', 'replacement_cost',\n",
              "       'days_since_promotion', 'employee_type_Regular',\n",
              "       'job_category_Engineering Support', 'job_category_Executive',\n",
              "       'job_category_Management', 'job_category_Operations Support',\n",
              "       'job_category_Professional', 'job_category_Sales Management',\n",
              "       'job_category_Sales Reps', 'job_category_Service Workers',\n",
              "       'job_category_Skilled Craft Workers', 'job_category_Supervisors',\n",
              "       'job_category_Support', 'management_level_Executive',\n",
              "       'management_level_Manager', 'management_level_Professional',\n",
              "       'management_level_Supervisor', 'management_level_Support',\n",
              "       'marital_status_Domestic Partner',\n",
              "       'marital_status_Domestic Partner (Unregistered Marriage)',\n",
              "       'marital_status_Legally Separated', 'marital_status_Living Together',\n",
              "       'marital_status_Married', 'marital_status_NA', 'marital_status_Single',\n",
              "       'marital_status_Unknown', 'marital_status_Widowed',\n",
              "       'marital_status_Widowed With Surviving Pension', 'generation_Gen X',\n",
              "       'generation_Gen Z', 'generation_Millennial', 'gender_Male',\n",
              "       'gender_Undeclared', 'gender_Unknown', 'location_q_binned_Q2',\n",
              "       'location_q_binned_Q3', 'location_q_binned_Q4', 'country_q_binned_Q2',\n",
              "       'country_q_binned_Q3', 'country_q_binned_Q4', 'job_title_q_binned_Q2',\n",
              "       'job_title_q_binned_Q3', 'job_title_q_binned_Q4',\n",
              "       'job_function_q_binned_Q2', 'job_function_q_binned_Q3',\n",
              "       'job_function_q_binned_Q4', 'job_family_q_binned_Q2',\n",
              "       'job_family_q_binned_Q3', 'job_family_q_binned_Q4',\n",
              "       'pay_level_q_binned_Q2', 'pay_level_q_binned_Q3',\n",
              "       'pay_level_q_binned_Q4', 'organization_q_binned_Q2',\n",
              "       'organization_q_binned_Q3', 'organization_q_binned_Q4',\n",
              "       'race/ethnicity_q_binned_Q2', 'race/ethnicity_q_binned_Q3',\n",
              "       'race/ethnicity_q_binned_Q4', 'current_hire_date_q_binned_Q2',\n",
              "       'current_hire_date_q_binned_Q3', 'current_hire_date_q_binned_Q4',\n",
              "       'continuous_service_date_q_binned_Q2',\n",
              "       'continuous_service_date_q_binned_Q3',\n",
              "       'continuous_service_date_q_binned_Q4'],\n",
              "      dtype='object')"
            ]
          },
          "metadata": {},
          "execution_count": 8
        }
      ],
      "source": [
        "df.columns"
      ]
    },
    {
      "cell_type": "code",
      "source": [
        "df.to_excel('ModelingDataset.xlsx')"
      ],
      "metadata": {
        "id": "dGVl2IQ1lwGg"
      },
      "id": "dGVl2IQ1lwGg",
      "execution_count": null,
      "outputs": []
    },
    {
      "cell_type": "markdown",
      "id": "04e63401",
      "metadata": {
        "id": "04e63401"
      },
      "source": [
        "Modelling (use your code here)"
      ]
    },
    {
      "cell_type": "code",
      "execution_count": null,
      "id": "d87e7bdb",
      "metadata": {
        "id": "d87e7bdb"
      },
      "outputs": [],
      "source": [
        "# set random seed\n",
        "random_seed = 42"
      ]
    },
    {
      "cell_type": "markdown",
      "id": "508c1eeb",
      "metadata": {
        "id": "508c1eeb"
      },
      "source": [
        "Metrics"
      ]
    },
    {
      "cell_type": "code",
      "source": [
        "from sklearn.svm import SVC\n",
        "from sklearn.metrics import accuracy_score, precision_score, recall_score, confusion_matrix\n",
        "\n",
        "# define SVM models with different kernels\n",
        "\n",
        "svm_poly = SVC(kernel='poly', random_state=random_seed)\n",
        "\n",
        "# train SVM models on training set\n",
        "\n",
        "svm_poly.fit(X_train, y_train)\n",
        "\n",
        "# make predictions on test set\n",
        "\n",
        "y_pred_poly = svm_poly.predict(X_test)\n",
        "\n"
      ],
      "metadata": {
        "id": "rOkpt6o22s2a",
        "colab": {
          "base_uri": "https://localhost:8080/"
        },
        "outputId": "50d073b6-e17d-437e-9206-6c0bc00bb062"
      },
      "id": "rOkpt6o22s2a",
      "execution_count": null,
      "outputs": [
        {
          "output_type": "stream",
          "name": "stdout",
          "text": [
            "SVM with polynomial kernel:\n",
            "Accuracy: 0.8286042315893062\n",
            "Precision: 0.7658833768494343\n",
            "Recall: 0.5314009661835749\n",
            "Confusion matrix:\n",
            "[[4172  269]\n",
            " [ 776  880]]\n"
          ]
        }
      ]
    },
    {
      "cell_type": "code",
      "source": [
        "accuracy = accuracy_score(y_test, y_pred_poly)\n",
        "precision = precision_score(y_test,y_pred_poly)\n",
        "recall = recall_score(y_test,y_pred_poly)\n",
        "\n",
        "# calculate specificity\n",
        "tn, fp, fn, tp = confusion_matrix(y_test, y_pred_poly).ravel()\n",
        "specificity = tn / (tn + fp)\n",
        "\n",
        "# display evaluation metrics and confusion matrix\n",
        "print(\"Accuracy:\", accuracy)\n",
        "print(\"Precision:\", precision)\n",
        "print(\"Recall:\", recall)\n",
        "print(\"Specificity:\", specificity)\n",
        "\n",
        "cm = confusion_matrix(y_test, y_pred)\n",
        "print(\"Confusion matrix:\")\n",
        "print(cm)\n",
        "\n",
        "print(f'Final Weighted Score for the model is {0.3*accuracy+0.2*precision+0.3*recall+0.2*specificity}')"
      ],
      "metadata": {
        "id": "fUfUeLrp4X_z",
        "colab": {
          "base_uri": "https://localhost:8080/"
        },
        "outputId": "0506729f-2b47-4f1a-d958-f839feffb063"
      },
      "id": "fUfUeLrp4X_z",
      "execution_count": null,
      "outputs": [
        {
          "output_type": "stream",
          "name": "stdout",
          "text": [
            "Accuracy: 0.8286042315893062\n",
            "Precision: 0.7658833768494343\n",
            "Recall: 0.5314009661835749\n",
            "Specificity: 0.9394280567439766\n",
            "Confusion matrix:\n",
            "[[4076  365]\n",
            " [ 889  767]]\n",
            "Final Weighted Score for the model is 0.7490638460505465\n"
          ]
        }
      ]
    },
    {
      "cell_type": "code",
      "source": [
        " from sklearn.metrics import f1_score, roc_auc_score\n",
        "f1 = f1_score(y_test, y_pred)\n",
        "auc_score = roc_auc_score(y_test, y_pred)\n",
        "\n",
        "print(\"F1 score:\", f1)\n",
        "print(\"AUC score:\", auc_score)"
      ],
      "metadata": {
        "colab": {
          "base_uri": "https://localhost:8080/"
        },
        "id": "3-wCoWS1pujz",
        "outputId": "bdd20390-7c87-4708-a570-d0b57a1e4cbb"
      },
      "id": "3-wCoWS1pujz",
      "execution_count": null,
      "outputs": [
        {
          "output_type": "stream",
          "name": "stdout",
          "text": [
            "F1 score: 0.5502152080344332\n",
            "AUC score: 0.6904877774840719\n"
          ]
        }
      ]
    }
  ],
  "metadata": {
    "kernelspec": {
      "display_name": "Python 3 (ipykernel)",
      "language": "python",
      "name": "python3"
    },
    "language_info": {
      "codemirror_mode": {
        "name": "ipython",
        "version": 3
      },
      "file_extension": ".py",
      "mimetype": "text/x-python",
      "name": "python",
      "nbconvert_exporter": "python",
      "pygments_lexer": "ipython3",
      "version": "3.9.13"
    },
    "colab": {
      "provenance": []
    },
    "gpuClass": "standard"
  },
  "nbformat": 4,
  "nbformat_minor": 5
}