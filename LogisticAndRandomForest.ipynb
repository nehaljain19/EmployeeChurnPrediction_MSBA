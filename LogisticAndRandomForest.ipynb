{
  "nbformat": 4,
  "nbformat_minor": 0,
  "metadata": {
    "colab": {
      "provenance": []
    },
    "kernelspec": {
      "name": "python3",
      "display_name": "Python 3"
    },
    "language_info": {
      "name": "python"
    },
    "gpuClass": "standard"
  },
  "cells": [
    {
      "cell_type": "code",
      "execution_count": null,
      "metadata": {
        "id": "bS0ZcXDbr-N0",
        "colab": {
          "base_uri": "https://localhost:8080/"
        },
        "outputId": "0b685a32-18f6-45c8-8681-756860e4e2a7"
      },
      "outputs": [
        {
          "output_type": "execute_result",
          "data": {
            "text/plain": [
              "Index(['employee_status', 'years_of_service', 'compa_ratio', 'age',\n",
              "       'cost_to_replace_factor', 'lat', 'longi', 'salary', 'replacement_cost',\n",
              "       'days_since_promotion', 'employee_type_Regular',\n",
              "       'job_category_Engineering Support', 'job_category_Executive',\n",
              "       'job_category_Management', 'job_category_Operations Support',\n",
              "       'job_category_Professional', 'job_category_Sales Management',\n",
              "       'job_category_Sales Reps', 'job_category_Service Workers',\n",
              "       'job_category_Skilled Craft Workers', 'job_category_Supervisors',\n",
              "       'job_category_Support', 'management_level_Executive',\n",
              "       'management_level_Manager', 'management_level_Professional',\n",
              "       'management_level_Supervisor', 'management_level_Support',\n",
              "       'marital_status_Domestic Partner',\n",
              "       'marital_status_Domestic Partner (Unregistered Marriage)',\n",
              "       'marital_status_Legally Separated', 'marital_status_Living Together',\n",
              "       'marital_status_Married', 'marital_status_NA', 'marital_status_Single',\n",
              "       'marital_status_Unknown', 'marital_status_Widowed',\n",
              "       'marital_status_Widowed With Surviving Pension', 'generation_Gen X',\n",
              "       'generation_Gen Z', 'generation_Millennial', 'gender_Male',\n",
              "       'gender_Undeclared', 'gender_Unknown', 'location_q_binned_Q2',\n",
              "       'location_q_binned_Q3', 'location_q_binned_Q4', 'country_q_binned_Q2',\n",
              "       'country_q_binned_Q3', 'country_q_binned_Q4', 'job_title_q_binned_Q2',\n",
              "       'job_title_q_binned_Q3', 'job_title_q_binned_Q4',\n",
              "       'job_function_q_binned_Q2', 'job_function_q_binned_Q3',\n",
              "       'job_function_q_binned_Q4', 'job_family_q_binned_Q2',\n",
              "       'job_family_q_binned_Q3', 'job_family_q_binned_Q4',\n",
              "       'pay_level_q_binned_Q2', 'pay_level_q_binned_Q3',\n",
              "       'pay_level_q_binned_Q4', 'organization_q_binned_Q2',\n",
              "       'organization_q_binned_Q3', 'organization_q_binned_Q4',\n",
              "       'race/ethnicity_q_binned_Q2', 'race/ethnicity_q_binned_Q3',\n",
              "       'race/ethnicity_q_binned_Q4', 'current_hire_date_q_binned_Q2',\n",
              "       'current_hire_date_q_binned_Q3', 'current_hire_date_q_binned_Q4',\n",
              "       'continuous_service_date_q_binned_Q2',\n",
              "       'continuous_service_date_q_binned_Q3',\n",
              "       'continuous_service_date_q_binned_Q4'],\n",
              "      dtype='object')"
            ]
          },
          "metadata": {},
          "execution_count": 5
        }
      ],
      "source": [
        "import pandas as pd\n",
        "import numpy as np\n",
        "import seaborn as sns\n",
        "import matplotlib.pyplot as plt \n",
        "from sklearn.linear_model import LogisticRegression\n",
        "from sklearn.model_selection import train_test_split\n",
        "from sklearn.ensemble import RandomForestClassifier\n",
        "from sklearn.metrics import confusion_matrix, accuracy_score, precision_score, recall_score\n",
        "\n",
        "#Reading excel dataset into python using pandas\n",
        "df = pd.read_excel(\"ModelingDataset.xlsx\")\n",
        "\n",
        "df.columns"
      ]
    },
    {
      "cell_type": "code",
      "source": [
        "# set random seed\n",
        "random_seed = 42"
      ],
      "metadata": {
        "id": "StleQDuisq39"
      },
      "execution_count": null,
      "outputs": []
    },
    {
      "cell_type": "markdown",
      "source": [
        "\n",
        "# Training testing split"
      ],
      "metadata": {
        "id": "9XxKXrOnsv8V"
      }
    },
    {
      "cell_type": "code",
      "source": [
        "# separate features and target variable\n",
        "X = df.drop('employee_status', axis=1)\n",
        "y = df['employee_status']\n",
        "\n",
        "# split data into train and test sets, stratifying by the target variable\n",
        "X_train, X_test, y_train, y_test = train_test_split(X, y, test_size=0.3, random_state=random_seed, stratify=y)\n",
        "\n",
        "# check the ratio of binary variable in train and test set\n",
        "print(\"Ratio of binary variable in train set: \", y_train.sum() / len(y_train))\n",
        "print(\"Ratio of binary variable in test set: \", y_test.sum() / len(y_test))\n"
      ],
      "metadata": {
        "id": "-G-Wx2fvsvld",
        "colab": {
          "base_uri": "https://localhost:8080/"
        },
        "outputId": "a43179b3-9041-4f57-ace0-26b16d7ba8e1"
      },
      "execution_count": null,
      "outputs": [
        {
          "output_type": "stream",
          "name": "stdout",
          "text": [
            "Ratio of binary variable in train set:  0.27165354330708663\n",
            "Ratio of binary variable in test set:  0.2716089880268985\n"
          ]
        }
      ]
    },
    {
      "cell_type": "markdown",
      "source": [
        "# Logistic Regression"
      ],
      "metadata": {
        "id": "ARkWhKimCvWN"
      }
    },
    {
      "cell_type": "code",
      "source": [
        "# train logistic regression model\n",
        "clf = LogisticRegression(random_state=random_seed)\n",
        "clf.fit(X_train, y_train)\n",
        "\n",
        "# make predictions on test set\n",
        "y_pred = clf.predict(X_test)"
      ],
      "metadata": {
        "colab": {
          "base_uri": "https://localhost:8080/"
        },
        "id": "oWynx6leCu3Y",
        "outputId": "c6f03e42-1ae1-46ba-e596-c0c5d80710b2"
      },
      "execution_count": null,
      "outputs": [
        {
          "output_type": "stream",
          "name": "stderr",
          "text": [
            "/usr/local/lib/python3.8/dist-packages/sklearn/linear_model/_logistic.py:814: ConvergenceWarning: lbfgs failed to converge (status=1):\n",
            "STOP: TOTAL NO. of ITERATIONS REACHED LIMIT.\n",
            "\n",
            "Increase the number of iterations (max_iter) or scale the data as shown in:\n",
            "    https://scikit-learn.org/stable/modules/preprocessing.html\n",
            "Please also refer to the documentation for alternative solver options:\n",
            "    https://scikit-learn.org/stable/modules/linear_model.html#logistic-regression\n",
            "  n_iter_i = _check_optimize_result(\n"
          ]
        }
      ]
    },
    {
      "cell_type": "code",
      "source": [
        "# calculate evaluation metrics\n",
        "accuracy = accuracy_score(y_test, y_pred)\n",
        "precision = precision_score(y_test, y_pred)\n",
        "recall = recall_score(y_test, y_pred)\n",
        "\n",
        "# calculate specificity\n",
        "tn, fp, fn, tp = confusion_matrix(y_test, y_pred).ravel()\n",
        "specificity = tn / (tn + fp)\n",
        "\n",
        "# display evaluation metrics and confusion matrix\n",
        "print(\"Accuracy:\", accuracy)\n",
        "print(\"Precision:\", precision)\n",
        "print(\"Recall:\", recall)\n",
        "print(\"Specificity:\", specificity)\n",
        "\n",
        "cm = confusion_matrix(y_test, y_pred)\n",
        "print(\"Confusion matrix:\")\n",
        "print(cm)\n",
        "\n",
        "print(f'Final Weighted Score for the model is {0.3*accuracy+0.2*precision+0.3*recall+0.2*specificity}')"
      ],
      "metadata": {
        "colab": {
          "base_uri": "https://localhost:8080/"
        },
        "id": "upBFAGg5DCti",
        "outputId": "bd1c844c-a529-4ac3-8659-4ee6b4e806c9"
      },
      "execution_count": null,
      "outputs": [
        {
          "output_type": "stream",
          "name": "stdout",
          "text": [
            "Accuracy: 0.7943250779071674\n",
            "Precision: 0.6775618374558304\n",
            "Recall: 0.46316425120772947\n",
            "Specificity: 0.9178113037604143\n",
            "Confusion matrix:\n",
            "[[4076  365]\n",
            " [ 889  767]]\n",
            "Final Weighted Score for the model is 0.696321426977718\n"
          ]
        }
      ]
    },
    {
      "cell_type": "code",
      "source": [
        "from sklearn.metrics import f1_score, roc_auc_score\n",
        "\n",
        "f1 = f1_score(y_test, y_pred)\n",
        "auc_score = roc_auc_score(y_test, y_pred)\n",
        "\n",
        "print(\"F1 score:\", f1)\n",
        "print(\"AUC score:\", auc_score)"
      ],
      "metadata": {
        "colab": {
          "base_uri": "https://localhost:8080/"
        },
        "id": "Vvolf3Ep-6dO",
        "outputId": "2e8526f0-cda6-4a82-fde9-228123881fef"
      },
      "execution_count": null,
      "outputs": [
        {
          "output_type": "stream",
          "name": "stdout",
          "text": [
            "F1 score: 0.5502152080344332\n",
            "AUC score: 0.6904877774840719\n"
          ]
        }
      ]
    },
    {
      "cell_type": "code",
      "source": [
        "from sklearn.metrics import roc_curve, roc_auc_score\n",
        "import matplotlib.pyplot as plt\n",
        "\n",
        "# calculate probabilities for each class\n",
        "y_proba = clf.predict_proba(X_test)[:, 1]\n",
        "\n",
        "# calculate ROC curve and AUC score\n",
        "fpr, tpr, thresholds = roc_curve(y_test, y_proba)\n",
        "auc_score = roc_auc_score(y_test, y_proba)\n",
        "\n",
        "# plot ROC curve\n",
        "plt.plot(fpr, tpr, label='Logistic Regression (AUC = {:.2f})'.format(auc_score))\n",
        "plt.plot([0, 1], [0, 1], 'k--')\n",
        "plt.xlabel('False Positive Rate')\n",
        "plt.ylabel('True Positive Rate')\n",
        "plt.title('ROC Curve')\n",
        "plt.legend()\n",
        "plt.show()\n"
      ],
      "metadata": {
        "colab": {
          "base_uri": "https://localhost:8080/",
          "height": 295
        },
        "id": "QQg4YO0mD-vv",
        "outputId": "934c45b1-1ff0-4f24-a0b1-08a4d542a346"
      },
      "execution_count": null,
      "outputs": [
        {
          "output_type": "display_data",
          "data": {
            "text/plain": [
              "<Figure size 432x288 with 1 Axes>"
            ],
            "image/png": "[encoded data removed]"
          },
          "metadata": {
            "needs_background": "light"
          }
        }
      ]
    },
    {
      "cell_type": "markdown",
      "source": [
        "# Random Forest"
      ],
      "metadata": {
        "id": "9zs9-hnpCp6b"
      }
    },
    {
      "cell_type": "code",
      "source": [
        "# train random forest model\n",
        "rf = RandomForestClassifier(n_estimators=100, random_state=random_seed)\n",
        "rf.fit(X_train, y_train)\n",
        "\n",
        "# make predictions on test set\n",
        "y_pred = rf.predict(X_test)"
      ],
      "metadata": {
        "id": "H6pe9rzzs4U9"
      },
      "execution_count": null,
      "outputs": []
    },
    {
      "cell_type": "code",
      "source": [
        "# calculate evaluation metrics\n",
        "accuracy = accuracy_score(y_test, y_pred)\n",
        "precision = precision_score(y_test, y_pred)\n",
        "recall = recall_score(y_test, y_pred)\n",
        "\n",
        "# calculate specificity\n",
        "tn, fp, fn, tp = confusion_matrix(y_test, y_pred).ravel()\n",
        "specificity = tn / (tn + fp)\n",
        "\n",
        "# display evaluation metrics and confusion matrix\n",
        "print(\"Accuracy:\", accuracy)\n",
        "print(\"Precision:\", precision)\n",
        "print(\"Recall:\", recall)\n",
        "print(\"Specificity:\", specificity)\n",
        "\n",
        "cm = confusion_matrix(y_test, y_pred)\n",
        "print(\"Confusion matrix:\")\n",
        "print(cm)\n",
        "\n",
        "print(f'Final Weighted Score for the model is {0.3*accuracy+0.2*precision+0.3*recall+0.2*specificity}')"
      ],
      "metadata": {
        "id": "V1a8D2NKs7-c",
        "colab": {
          "base_uri": "https://localhost:8080/"
        },
        "outputId": "befa29e2-a218-48c4-e557-b801edac8688"
      },
      "execution_count": null,
      "outputs": [
        {
          "output_type": "stream",
          "name": "stdout",
          "text": [
            "Accuracy: 0.873216335902903\n",
            "Precision: 0.8688387635756056\n",
            "Recall: 0.6280193236714976\n",
            "Specificity: 0.9646476018914659\n",
            "Confusion matrix:\n",
            "[[4284  157]\n",
            " [ 616 1040]]\n",
            "Final Weighted Score for the model is 0.8170679709657345\n"
          ]
        }
      ]
    },
    {
      "cell_type": "code",
      "source": [
        "from sklearn.metrics import f1_score, roc_auc_score\n",
        "\n",
        "f1 = f1_score(y_test, y_pred)\n",
        "auc_score = roc_auc_score(y_test, y_pred)\n",
        "\n",
        "print(\"F1 score:\", f1)\n",
        "print(\"AUC score:\", auc_score)"
      ],
      "metadata": {
        "colab": {
          "base_uri": "https://localhost:8080/"
        },
        "id": "kyD8Lp3t2CiG",
        "outputId": "11bce922-5fd3-4369-dce5-f042d7f83bb6"
      },
      "execution_count": null,
      "outputs": [
        {
          "output_type": "stream",
          "name": "stdout",
          "text": [
            "F1 score: 0.7290571328426217\n",
            "AUC score: 0.7963334627814819\n"
          ]
        }
      ]
    },
    {
      "cell_type": "code",
      "source": [
        "# calculate probabilities for each class\n",
        "y_proba = rf.predict_proba(X_test)[:, 1]\n",
        "\n",
        "# calculate ROC curve and AUC score\n",
        "fpr, tpr, thresholds = roc_curve(y_test, y_proba)\n",
        "auc_score = roc_auc_score(y_test, y_proba)\n",
        "\n",
        "# plot ROC curve\n",
        "plt.plot(fpr, tpr, label='Random Forest Classifier (AUC = {:.2f})'.format(auc_score))\n",
        "plt.plot([0, 1], [0, 1], 'k--')\n",
        "plt.xlabel('False Positive Rate')\n",
        "plt.ylabel('True Positive Rate')\n",
        "plt.title('ROC Curve')\n",
        "plt.legend()\n",
        "plt.show()\n"
      ],
      "metadata": {
        "colab": {
          "base_uri": "https://localhost:8080/",
          "height": 295
        },
        "id": "UJliiT9kNwzr",
        "outputId": "20513c53-8555-4c15-dc40-297cbde705aa"
      },
      "execution_count": null,
      "outputs": [
        {
          "output_type": "display_data",
          "data": {
            "text/plain": [
              "<Figure size 432x288 with 1 Axes>"
            ],
            "image/png": "[encoded data removed]"
          },
          "metadata": {
            "needs_background": "light"
          }
        }
      ]
    },
    {
      "cell_type": "code",
      "source": [
        "import plotly.graph_objects as go\n",
        "\n",
        "# calculate feature importances\n",
        "importances = rf.feature_importances_\n",
        "\n",
        "# get the indices sorted in descending order\n",
        "indices = np.argsort(importances)[::-1]  \n",
        "\n",
        "# slice feature names and importances arrays to only include top 10 features\n",
        "feature_names_sorted = [X.columns[i] for i in indices][:10]\n",
        "importances_sorted = [importances[i] for i in indices][:10]\n",
        "\n",
        "# create a bar chart of feature importances\n",
        "fig = go.Figure(data=[go.Bar(x=X.columns, y=importances_sorted)])\n",
        "\n",
        "# customize the layout\n",
        "fig.update_layout(\n",
        "    title='Feature Importances',\n",
        "    xaxis_title='Feature',\n",
        "    yaxis_title='Importance',\n",
        "    yaxis_tickformat='%',\n",
        "    hovermode='x'\n",
        ")\n",
        "\n",
        "# show the plot\n",
        "fig.show()\n"
      ],
      "metadata": {
        "colab": {
          "base_uri": "https://localhost:8080/",
          "height": 542
        },
        "id": "_hewW9mECW_y",
        "outputId": "aef14bc5-34e8-4e06-a1c0-db067efe76c0"
      },
      "execution_count": null,
      "outputs": [
        {
          "output_type": "display_data",
          "data": {
            "text/html": [
              "<html>\n",
              "<head><meta charset=\"utf-8\" /></head>\n",
              "<body>\n",
              "    <div>            <script src=\"https://cdnjs.cloudflare.com/ajax/libs/mathjax/2.7.5/MathJax.js?config=TeX-AMS-MML_SVG\"></script><script type=\"text/javascript\">if (window.MathJax) {MathJax.Hub.Config({SVG: {font: \"STIX-Web\"}});}</script>                <script type=\"text/javascript\">window.PlotlyConfig = {MathJaxConfig: 'local'};</script>\n",
              "        <script src=\"https://cdn.plot.ly/plotly-2.8.3.min.js\"></script>                <div id=\"ab6cd1e7-91fc-4dae-9320-b1a14d208f0a\" class=\"plotly-graph-div\" style=\"height:525px; width:100%;\"></div>            <script type=\"text/javascript\">                                    window.PLOTLYENV=window.PLOTLYENV || {};                                    if (document.getElementById(\"ab6cd1e7-91fc-4dae-9320-b1a14d208f0a\")) {                    Plotly.newPlot(                        \"ab6cd1e7-91fc-4dae-9320-b1a14d208f0a\",                        [{\"x\":[\"years_of_service\",\"compa_ratio\",\"age\",\"cost_to_replace_factor\",\"lat\",\"longi\",\"salary\",\"replacement_cost\",\"days_since_promotion\",\"employee_type_Regular\",\"job_category_Engineering Support\",\"job_category_Executive\",\"job_category_Management\",\"job_category_Operations Support\",\"job_category_Professional\",\"job_category_Sales Management\",\"job_category_Sales Reps\",\"job_category_Service Workers\",\"job_category_Skilled Craft Workers\",\"job_category_Supervisors\",\"job_category_Support\",\"management_level_Executive\",\"management_level_Manager\",\"management_level_Professional\",\"management_level_Supervisor\",\"management_level_Support\",\"marital_status_Domestic Partner\",\"marital_status_Domestic Partner (Unregistered Marriage)\",\"marital_status_Legally Separated\",\"marital_status_Living Together\",\"marital_status_Married\",\"marital_status_NA\",\"marital_status_Single\",\"marital_status_Unknown\",\"marital_status_Widowed\",\"marital_status_Widowed With Surviving Pension\",\"generation_Gen X\",\"generation_Gen Z\",\"generation_Millennial\",\"gender_Male\",\"gender_Undeclared\",\"gender_Unknown\",\"location_q_binned_Q2\",\"location_q_binned_Q3\",\"location_q_binned_Q4\",\"country_q_binned_Q2\",\"country_q_binned_Q3\",\"country_q_binned_Q4\",\"job_title_q_binned_Q2\",\"job_title_q_binned_Q3\",\"job_title_q_binned_Q4\",\"job_function_q_binned_Q2\",\"job_function_q_binned_Q3\",\"job_function_q_binned_Q4\",\"job_family_q_binned_Q2\",\"job_family_q_binned_Q3\",\"job_family_q_binned_Q4\",\"pay_level_q_binned_Q2\",\"pay_level_q_binned_Q3\",\"pay_level_q_binned_Q4\",\"organization_q_binned_Q2\",\"organization_q_binned_Q3\",\"organization_q_binned_Q4\",\"race/ethnicity_q_binned_Q2\",\"race/ethnicity_q_binned_Q3\",\"race/ethnicity_q_binned_Q4\",\"current_hire_date_q_binned_Q2\",\"current_hire_date_q_binned_Q3\",\"current_hire_date_q_binned_Q4\",\"continuous_service_date_q_binned_Q2\",\"continuous_service_date_q_binned_Q3\",\"continuous_service_date_q_binned_Q4\"],\"y\":[0.18774653007198785,0.15727025731491615,0.0851786092496776,0.08150754074511081,0.07637965112388358,0.07178648842423976,0.04507863878023252,0.03970494639974242,0.013737027539966258,0.013505308700361804],\"type\":\"bar\"}],                        {\"template\":{\"data\":{\"bar\":[{\"error_x\":{\"color\":\"#2a3f5f\"},\"error_y\":{\"color\":\"#2a3f5f\"},\"marker\":{\"line\":{\"color\":\"#E5ECF6\",\"width\":0.5},\"pattern\":{\"fillmode\":\"overlay\",\"size\":10,\"solidity\":0.2}},\"type\":\"bar\"}],\"barpolar\":[{\"marker\":{\"line\":{\"color\":\"#E5ECF6\",\"width\":0.5},\"pattern\":{\"fillmode\":\"overlay\",\"size\":10,\"solidity\":0.2}},\"type\":\"barpolar\"}],\"carpet\":[{\"aaxis\":{\"endlinecolor\":\"#2a3f5f\",\"gridcolor\":\"white\",\"linecolor\":\"white\",\"minorgridcolor\":\"white\",\"startlinecolor\":\"#2a3f5f\"},\"baxis\":{\"endlinecolor\":\"#2a3f5f\",\"gridcolor\":\"white\",\"linecolor\":\"white\",\"minorgridcolor\":\"white\",\"startlinecolor\":\"#2a3f5f\"},\"type\":\"carpet\"}],\"choropleth\":[{\"colorbar\":{\"outlinewidth\":0,\"ticks\":\"\"},\"type\":\"choropleth\"}],\"contour\":[{\"colorbar\":{\"outlinewidth\":0,\"ticks\":\"\"},\"colorscale\":[[0.0,\"#0d0887\"],[0.1111111111111111,\"#46039f\"],[0.2222222222222222,\"#7201a8\"],[0.3333333333333333,\"#9c179e\"],[0.4444444444444444,\"#bd3786\"],[0.5555555555555556,\"#d8576b\"],[0.6666666666666666,\"#ed7953\"],[0.7777777777777778,\"#fb9f3a\"],[0.8888888888888888,\"#fdca26\"],[1.0,\"#f0f921\"]],\"type\":\"contour\"}],\"contourcarpet\":[{\"colorbar\":{\"outlinewidth\":0,\"ticks\":\"\"},\"type\":\"contourcarpet\"}],\"heatmap\":[{\"colorbar\":{\"outlinewidth\":0,\"ticks\":\"\"},\"colorscale\":[[0.0,\"#0d0887\"],[0.1111111111111111,\"#46039f\"],[0.2222222222222222,\"#7201a8\"],[0.3333333333333333,\"#9c179e\"],[0.4444444444444444,\"#bd3786\"],[0.5555555555555556,\"#d8576b\"],[0.6666666666666666,\"#ed7953\"],[0.7777777777777778,\"#fb9f3a\"],[0.8888888888888888,\"#fdca26\"],[1.0,\"#f0f921\"]],\"type\":\"heatmap\"}],\"heatmapgl\":[{\"colorbar\":{\"outlinewidth\":0,\"ticks\":\"\"},\"colorscale\":[[0.0,\"#0d0887\"],[0.1111111111111111,\"#46039f\"],[0.2222222222222222,\"#7201a8\"],[0.3333333333333333,\"#9c179e\"],[0.4444444444444444,\"#bd3786\"],[0.5555555555555556,\"#d8576b\"],[0.6666666666666666,\"#ed7953\"],[0.7777777777777778,\"#fb9f3a\"],[0.8888888888888888,\"#fdca26\"],[1.0,\"#f0f921\"]],\"type\":\"heatmapgl\"}],\"histogram\":[{\"marker\":{\"pattern\":{\"fillmode\":\"overlay\",\"size\":10,\"solidity\":0.2}},\"type\":\"histogram\"}],\"histogram2d\":[{\"colorbar\":{\"outlinewidth\":0,\"ticks\":\"\"},\"colorscale\":[[0.0,\"#0d0887\"],[0.1111111111111111,\"#46039f\"],[0.2222222222222222,\"#7201a8\"],[0.3333333333333333,\"#9c179e\"],[0.4444444444444444,\"#bd3786\"],[0.5555555555555556,\"#d8576b\"],[0.6666666666666666,\"#ed7953\"],[0.7777777777777778,\"#fb9f3a\"],[0.8888888888888888,\"#fdca26\"],[1.0,\"#f0f921\"]],\"type\":\"histogram2d\"}],\"histogram2dcontour\":[{\"colorbar\":{\"outlinewidth\":0,\"ticks\":\"\"},\"colorscale\":[[0.0,\"#0d0887\"],[0.1111111111111111,\"#46039f\"],[0.2222222222222222,\"#7201a8\"],[0.3333333333333333,\"#9c179e\"],[0.4444444444444444,\"#bd3786\"],[0.5555555555555556,\"#d8576b\"],[0.6666666666666666,\"#ed7953\"],[0.7777777777777778,\"#fb9f3a\"],[0.8888888888888888,\"#fdca26\"],[1.0,\"#f0f921\"]],\"type\":\"histogram2dcontour\"}],\"mesh3d\":[{\"colorbar\":{\"outlinewidth\":0,\"ticks\":\"\"},\"type\":\"mesh3d\"}],\"parcoords\":[{\"line\":{\"colorbar\":{\"outlinewidth\":0,\"ticks\":\"\"}},\"type\":\"parcoords\"}],\"pie\":[{\"automargin\":true,\"type\":\"pie\"}],\"scatter\":[{\"marker\":{\"colorbar\":{\"outlinewidth\":0,\"ticks\":\"\"}},\"type\":\"scatter\"}],\"scatter3d\":[{\"line\":{\"colorbar\":{\"outlinewidth\":0,\"ticks\":\"\"}},\"marker\":{\"colorbar\":{\"outlinewidth\":0,\"ticks\":\"\"}},\"type\":\"scatter3d\"}],\"scattercarpet\":[{\"marker\":{\"colorbar\":{\"outlinewidth\":0,\"ticks\":\"\"}},\"type\":\"scattercarpet\"}],\"scattergeo\":[{\"marker\":{\"colorbar\":{\"outlinewidth\":0,\"ticks\":\"\"}},\"type\":\"scattergeo\"}],\"scattergl\":[{\"marker\":{\"colorbar\":{\"outlinewidth\":0,\"ticks\":\"\"}},\"type\":\"scattergl\"}],\"scattermapbox\":[{\"marker\":{\"colorbar\":{\"outlinewidth\":0,\"ticks\":\"\"}},\"type\":\"scattermapbox\"}],\"scatterpolar\":[{\"marker\":{\"colorbar\":{\"outlinewidth\":0,\"ticks\":\"\"}},\"type\":\"scatterpolar\"}],\"scatterpolargl\":[{\"marker\":{\"colorbar\":{\"outlinewidth\":0,\"ticks\":\"\"}},\"type\":\"scatterpolargl\"}],\"scatterternary\":[{\"marker\":{\"colorbar\":{\"outlinewidth\":0,\"ticks\":\"\"}},\"type\":\"scatterternary\"}],\"surface\":[{\"colorbar\":{\"outlinewidth\":0,\"ticks\":\"\"},\"colorscale\":[[0.0,\"#0d0887\"],[0.1111111111111111,\"#46039f\"],[0.2222222222222222,\"#7201a8\"],[0.3333333333333333,\"#9c179e\"],[0.4444444444444444,\"#bd3786\"],[0.5555555555555556,\"#d8576b\"],[0.6666666666666666,\"#ed7953\"],[0.7777777777777778,\"#fb9f3a\"],[0.8888888888888888,\"#fdca26\"],[1.0,\"#f0f921\"]],\"type\":\"surface\"}],\"table\":[{\"cells\":{\"fill\":{\"color\":\"#EBF0F8\"},\"line\":{\"color\":\"white\"}},\"header\":{\"fill\":{\"color\":\"#C8D4E3\"},\"line\":{\"color\":\"white\"}},\"type\":\"table\"}]},\"layout\":{\"annotationdefaults\":{\"arrowcolor\":\"#2a3f5f\",\"arrowhead\":0,\"arrowwidth\":1},\"autotypenumbers\":\"strict\",\"coloraxis\":{\"colorbar\":{\"outlinewidth\":0,\"ticks\":\"\"}},\"colorscale\":{\"diverging\":[[0,\"#8e0152\"],[0.1,\"#c51b7d\"],[0.2,\"#de77ae\"],[0.3,\"#f1b6da\"],[0.4,\"#fde0ef\"],[0.5,\"#f7f7f7\"],[0.6,\"#e6f5d0\"],[0.7,\"#b8e186\"],[0.8,\"#7fbc41\"],[0.9,\"#4d9221\"],[1,\"#276419\"]],\"sequential\":[[0.0,\"#0d0887\"],[0.1111111111111111,\"#46039f\"],[0.2222222222222222,\"#7201a8\"],[0.3333333333333333,\"#9c179e\"],[0.4444444444444444,\"#bd3786\"],[0.5555555555555556,\"#d8576b\"],[0.6666666666666666,\"#ed7953\"],[0.7777777777777778,\"#fb9f3a\"],[0.8888888888888888,\"#fdca26\"],[1.0,\"#f0f921\"]],\"sequentialminus\":[[0.0,\"#0d0887\"],[0.1111111111111111,\"#46039f\"],[0.2222222222222222,\"#7201a8\"],[0.3333333333333333,\"#9c179e\"],[0.4444444444444444,\"#bd3786\"],[0.5555555555555556,\"#d8576b\"],[0.6666666666666666,\"#ed7953\"],[0.7777777777777778,\"#fb9f3a\"],[0.8888888888888888,\"#fdca26\"],[1.0,\"#f0f921\"]]},\"colorway\":[\"#636efa\",\"#EF553B\",\"#00cc96\",\"#ab63fa\",\"#FFA15A\",\"#19d3f3\",\"#FF6692\",\"#B6E880\",\"#FF97FF\",\"#FECB52\"],\"font\":{\"color\":\"#2a3f5f\"},\"geo\":{\"bgcolor\":\"white\",\"lakecolor\":\"white\",\"landcolor\":\"#E5ECF6\",\"showlakes\":true,\"showland\":true,\"subunitcolor\":\"white\"},\"hoverlabel\":{\"align\":\"left\"},\"hovermode\":\"closest\",\"mapbox\":{\"style\":\"light\"},\"paper_bgcolor\":\"white\",\"plot_bgcolor\":\"#E5ECF6\",\"polar\":{\"angularaxis\":{\"gridcolor\":\"white\",\"linecolor\":\"white\",\"ticks\":\"\"},\"bgcolor\":\"#E5ECF6\",\"radialaxis\":{\"gridcolor\":\"white\",\"linecolor\":\"white\",\"ticks\":\"\"}},\"scene\":{\"xaxis\":{\"backgroundcolor\":\"#E5ECF6\",\"gridcolor\":\"white\",\"gridwidth\":2,\"linecolor\":\"white\",\"showbackground\":true,\"ticks\":\"\",\"zerolinecolor\":\"white\"},\"yaxis\":{\"backgroundcolor\":\"#E5ECF6\",\"gridcolor\":\"white\",\"gridwidth\":2,\"linecolor\":\"white\",\"showbackground\":true,\"ticks\":\"\",\"zerolinecolor\":\"white\"},\"zaxis\":{\"backgroundcolor\":\"#E5ECF6\",\"gridcolor\":\"white\",\"gridwidth\":2,\"linecolor\":\"white\",\"showbackground\":true,\"ticks\":\"\",\"zerolinecolor\":\"white\"}},\"shapedefaults\":{\"line\":{\"color\":\"#2a3f5f\"}},\"ternary\":{\"aaxis\":{\"gridcolor\":\"white\",\"linecolor\":\"white\",\"ticks\":\"\"},\"baxis\":{\"gridcolor\":\"white\",\"linecolor\":\"white\",\"ticks\":\"\"},\"bgcolor\":\"#E5ECF6\",\"caxis\":{\"gridcolor\":\"white\",\"linecolor\":\"white\",\"ticks\":\"\"}},\"title\":{\"x\":0.05},\"xaxis\":{\"automargin\":true,\"gridcolor\":\"white\",\"linecolor\":\"white\",\"ticks\":\"\",\"title\":{\"standoff\":15},\"zerolinecolor\":\"white\",\"zerolinewidth\":2},\"yaxis\":{\"automargin\":true,\"gridcolor\":\"white\",\"linecolor\":\"white\",\"ticks\":\"\",\"title\":{\"standoff\":15},\"zerolinecolor\":\"white\",\"zerolinewidth\":2}}},\"yaxis\":{\"title\":{\"text\":\"Importance\"},\"tickformat\":\"%\"},\"title\":{\"text\":\"Feature Importances\"},\"xaxis\":{\"title\":{\"text\":\"Feature\"}},\"hovermode\":\"x\"},                        {\"responsive\": true}                    ).then(function(){\n",
              "                            \n",
              "var gd = document.getElementById('ab6cd1e7-91fc-4dae-9320-b1a14d208f0a');\n",
              "var x = new MutationObserver(function (mutations, observer) {{\n",
              "        var display = window.getComputedStyle(gd).display;\n",
              "        if (!display || display === 'none') {{\n",
              "            console.log([gd, 'removed!']);\n",
              "            Plotly.purge(gd);\n",
              "            observer.disconnect();\n",
              "        }}\n",
              "}});\n",
              "\n",
              "// Listen for the removal of the full notebook cells\n",
              "var notebookContainer = gd.closest('#notebook-container');\n",
              "if (notebookContainer) {{\n",
              "    x.observe(notebookContainer, {childList: true});\n",
              "}}\n",
              "\n",
              "// Listen for the clearing of the current output cell\n",
              "var outputEl = gd.closest('.output');\n",
              "if (outputEl) {{\n",
              "    x.observe(outputEl, {childList: true});\n",
              "}}\n",
              "\n",
              "                        })                };                            </script>        </div>\n",
              "</body>\n",
              "</html>"
            ]
          },
          "metadata": {}
        }
      ]
    },
    {
      "cell_type": "code",
      "source": [],
      "metadata": {
        "id": "4bkUQpR4J-Hy"
      },
      "execution_count": null,
      "outputs": []
    },
    {
      "cell_type": "markdown",
      "source": [
        "# Logistic Regression - Elastic Net"
      ],
      "metadata": {
        "id": "0EhbRtaiBG0J"
      }
    },
    {
      "cell_type": "code",
      "source": [
        "# train logistic regression model with L2 regularization\n",
        "elasticnet = LogisticRegression(penalty='elasticnet', l1_ratio=0.5, solver='saga', max_iter=1000)\n",
        "elasticnet.fit(X_train, y_train)\n",
        "\n",
        "# make predictions on test set\n",
        "y_pred = elasticnet.predict(X_test)"
      ],
      "metadata": {
        "id": "OXWm5R1eBMAL"
      },
      "execution_count": null,
      "outputs": []
    },
    {
      "cell_type": "code",
      "source": [
        "# calculate evaluation metrics\n",
        "accuracy = accuracy_score(y_test, y_pred)\n",
        "precision = precision_score(y_test, y_pred)\n",
        "recall = recall_score(y_test, y_pred)\n",
        "\n",
        "# calculate specificity\n",
        "tn, fp, fn, tp = confusion_matrix(y_test, y_pred).ravel()\n",
        "specificity = tn / (tn + fp)\n",
        "\n",
        "# display evaluation metrics and confusion matrix\n",
        "print(\"Accuracy:\", accuracy)\n",
        "print(\"Precision:\", precision)\n",
        "print(\"Recall:\", recall)\n",
        "print(\"Specificity:\", specificity)\n",
        "\n",
        "cm = confusion_matrix(y_test, y_pred)\n",
        "print(\"Confusion matrix:\")\n",
        "print(cm)\n",
        "\n",
        "print(f'Final Weighted Score for the model is {0.3*accuracy+0.2*precision+0.3*recall+0.2*specificity}')"
      ],
      "metadata": {
        "colab": {
          "base_uri": "https://localhost:8080/"
        },
        "id": "auYW2HzQBZF7",
        "outputId": "35a9876e-7619-4a98-e612-84f937c0b9eb"
      },
      "execution_count": null,
      "outputs": [
        {
          "output_type": "stream",
          "name": "stdout",
          "text": [
            "Accuracy: 0.7933409873708381\n",
            "Precision: 0.6752212389380531\n",
            "Recall: 0.4607487922705314\n",
            "Specificity: 0.9173609547399234\n",
            "Confusion matrix:\n",
            "[[4074  367]\n",
            " [ 893  763]]\n",
            "Final Weighted Score for the model is 0.6947433726280062\n"
          ]
        }
      ]
    }
  ]
}