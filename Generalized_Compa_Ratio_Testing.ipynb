{
 "cells": [
  {
   "cell_type": "markdown",
   "id": "a2363216",
   "metadata": {},
   "source": [
    "## This part is a complete mess idk import what you need lol"
   ]
  },
  {
   "cell_type": "code",
   "execution_count": 425,
   "id": "8fd5bd7c",
   "metadata": {
    "scrolled": true
   },
   "outputs": [],
   "source": [
    "\n",
    "import pandas as pd\n",
    "import numpy as np\n",
    "import seaborn as sns\n",
    "import matplotlib.pyplot as plt\n",
    "from sklearn.model_selection import train_test_split\n",
    "from sklearn.linear_model import LogisticRegression\n",
    "from sklearn.metrics import confusion_matrix, accuracy_score, precision_score, recall_score,classification_report,f1_score,roc_auc_score\n",
    "import tensorflow as tf\n",
    "from tensorflow import keras\n",
    "import xgboost as xgb\n",
    "from sklearn.model_selection import train_test_split\n",
    "from sklearn.metrics import mean_squared_error\n",
    "from math import sqrt\n",
    "from sklearn.metrics import r2_score\n",
    "import matplotlib.ticker as ticker\n",
    "from sklearn.neural_network import MLPClassifier\n",
    "from sklearn.neural_network import MLPRegressor\n",
    "from scipy.stats import norm\n",
    "import matplotlib.pyplot as plt\n",
    "\n",
    "from sklearn.tree import DecisionTreeClassifier,plot_tree\n",
    "\n",
    "from sklearn.model_selection import train_test_split,GridSearchCV\n",
    "import lightgbm as lgb\n",
    "from sklearn.metrics import confusion_matrix, accuracy_score, precision_score, recall_score,f1_score, roc_auc_score\n",
    "import matplotlib.pyplot as pl\n"
   ]
  },
  {
   "cell_type": "markdown",
   "id": "1a7052ee",
   "metadata": {},
   "source": [
    "## Data"
   ]
  },
  {
   "cell_type": "code",
   "execution_count": 426,
   "id": "a5714183",
   "metadata": {},
   "outputs": [],
   "source": [
    "# set random seed\n",
    "random_seed = 42"
   ]
  },
  {
   "cell_type": "code",
   "execution_count": 447,
   "id": "c632c169",
   "metadata": {},
   "outputs": [],
   "source": [
    "df3=pd.read_excel('ModelingDataset-LastYear-NoNormalization.xlsx')"
   ]
  },
  {
   "cell_type": "code",
   "execution_count": 428,
   "id": "dde4f635",
   "metadata": {},
   "outputs": [
    {
     "name": "stdout",
     "output_type": "stream",
     "text": [
      "Ratio of binary variable in train set:  0.27165354330708663\n",
      "Ratio of binary variable in test set:  0.2716089880268985\n"
     ]
    }
   ],
   "source": [
    "df=pd.read_excel('ModelingDataset.xlsx')\n",
    "# separate features and target variable\n",
    "X = df.drop('employee_status', axis=1)\n",
    "y = df['employee_status']\n",
    "\n",
    "df['compa_ratio'] = df3['compa_ratio']\n",
    "\n",
    "# split data into train and test sets, stratifying by the target variable\n",
    "X_train, X_test, y_train, y_test = train_test_split(X, y, test_size=0.3, random_state=random_seed, stratify=y)\n",
    "\n",
    "# check the ratio of binary variable in train and test set\n",
    "print(\"Ratio of binary variable in train set: \", y_train.sum() / len(y_train))\n",
    "print(\"Ratio of binary variable in test set: \", y_test.sum() / len(y_test))"
   ]
  },
  {
   "cell_type": "code",
   "execution_count": 429,
   "id": "a5d3f076",
   "metadata": {},
   "outputs": [
    {
     "name": "stdout",
     "output_type": "stream",
     "text": [
      "(15770, 73)\n"
     ]
    }
   ],
   "source": [
    "df2=pd.read_excel('ModelingDataset-LastYear.xlsx')\n",
    "#Don't know what I did with the data but this exists\n",
    "df2 = df2.drop(columns=['Unnamed: 0'])\n",
    "print(df2.shape)\n",
    "\n",
    "df2['compa_ratio'] = df3['compa_ratio']\n",
    "\n",
    "# separate features and target variable\n",
    "X2 = df2.drop('employee_status', axis=1)\n",
    "y2 = df2['employee_status']\n",
    "\n",
    "# split data into train and test sets, stratifying by the target variable\n",
    "X2_train, X2_test, y2_train, y2_test = train_test_split(X2, y2, test_size=0.3, random_state=random_seed, stratify=y2)"
   ]
  },
  {
   "cell_type": "code",
   "execution_count": 430,
   "id": "313a0e3f",
   "metadata": {},
   "outputs": [],
   "source": [
    "\n",
    "df2['compa_ratio'] = df3['compa_ratio']\n",
    "\n",
    "# separate features and target variable\n",
    "X2 = df2.drop('employee_status', axis=1)\n",
    "y2 = df2['employee_status']\n",
    "\n",
    "# split data into train and test sets, stratifying by the target variable\n",
    "X2_train, X2_test, y2_train, y2_test = train_test_split(X2, y2, test_size=0.3, random_state=random_seed, stratify=y2)"
   ]
  },
  {
   "cell_type": "markdown",
   "id": "0140b0ea",
   "metadata": {},
   "source": [
    "## Insert your model training"
   ]
  },
  {
   "cell_type": "code",
   "execution_count": 431,
   "id": "a006e687",
   "metadata": {
    "scrolled": true
   },
   "outputs": [
    {
     "name": "stdout",
     "output_type": "stream",
     "text": [
      "[0]\tvalidation_0-error:0.18255\n",
      "[1]\tvalidation_0-error:0.16877\n",
      "[2]\tvalidation_0-error:0.16500\n",
      "[3]\tvalidation_0-error:0.16008\n",
      "[4]\tvalidation_0-error:0.15827\n",
      "[5]\tvalidation_0-error:0.15417\n",
      "[6]\tvalidation_0-error:0.14958\n",
      "[7]\tvalidation_0-error:0.14417\n",
      "[8]\tvalidation_0-error:0.14138\n",
      "[9]\tvalidation_0-error:0.13826\n",
      "[10]\tvalidation_0-error:0.13498\n",
      "[11]\tvalidation_0-error:0.13023\n",
      "[12]\tvalidation_0-error:0.12777\n",
      "[13]\tvalidation_0-error:0.12695\n",
      "[14]\tvalidation_0-error:0.12695\n",
      "[15]\tvalidation_0-error:0.12596\n",
      "[16]\tvalidation_0-error:0.12580\n",
      "[17]\tvalidation_0-error:0.12596\n",
      "[18]\tvalidation_0-error:0.12564\n",
      "[19]\tvalidation_0-error:0.12613\n",
      "[20]\tvalidation_0-error:0.12416\n",
      "[21]\tvalidation_0-error:0.12301\n",
      "[22]\tvalidation_0-error:0.12334\n",
      "[23]\tvalidation_0-error:0.12121\n",
      "[24]\tvalidation_0-error:0.12104\n",
      "[25]\tvalidation_0-error:0.12104\n",
      "[26]\tvalidation_0-error:0.12022\n",
      "[27]\tvalidation_0-error:0.12006\n",
      "[28]\tvalidation_0-error:0.12022\n",
      "[29]\tvalidation_0-error:0.11940\n",
      "[30]\tvalidation_0-error:0.11940\n",
      "[31]\tvalidation_0-error:0.12006\n",
      "[32]\tvalidation_0-error:0.12104\n",
      "[33]\tvalidation_0-error:0.11990\n",
      "[34]\tvalidation_0-error:0.11793\n",
      "[35]\tvalidation_0-error:0.11875\n",
      "[36]\tvalidation_0-error:0.11825\n",
      "[37]\tvalidation_0-error:0.11825\n",
      "[38]\tvalidation_0-error:0.11793\n",
      "[39]\tvalidation_0-error:0.11776\n",
      "[40]\tvalidation_0-error:0.11432\n",
      "[41]\tvalidation_0-error:0.11350\n",
      "[42]\tvalidation_0-error:0.11399\n",
      "[43]\tvalidation_0-error:0.11399\n",
      "[44]\tvalidation_0-error:0.11448\n",
      "[45]\tvalidation_0-error:0.11333\n",
      "[46]\tvalidation_0-error:0.11399\n",
      "[47]\tvalidation_0-error:0.11268\n",
      "[48]\tvalidation_0-error:0.11251\n",
      "[49]\tvalidation_0-error:0.11202\n",
      "[50]\tvalidation_0-error:0.11153\n",
      "[51]\tvalidation_0-error:0.11186\n",
      "[52]\tvalidation_0-error:0.11202\n",
      "[53]\tvalidation_0-error:0.11235\n",
      "[54]\tvalidation_0-error:0.11186\n",
      "[55]\tvalidation_0-error:0.11071\n",
      "[56]\tvalidation_0-error:0.10989\n",
      "[57]\tvalidation_0-error:0.11038\n",
      "[58]\tvalidation_0-error:0.11038\n",
      "[59]\tvalidation_0-error:0.11038\n",
      "[60]\tvalidation_0-error:0.11104\n",
      "[61]\tvalidation_0-error:0.11055\n",
      "[62]\tvalidation_0-error:0.11104\n",
      "[63]\tvalidation_0-error:0.11186\n",
      "[64]\tvalidation_0-error:0.11153\n",
      "[65]\tvalidation_0-error:0.11202\n",
      "[66]\tvalidation_0-error:0.11104\n"
     ]
    }
   ],
   "source": [
    "# Define the XGBoost classifier with early stopping\n",
    "xgb_clf = xgb.XGBClassifier(n_estimators=1000, early_stopping_rounds=10, eval_metric='error')\n",
    "\n",
    "# Train the XGBoost classifier with early stopping\n",
    "xgb_clf.fit(X_train, y_train, eval_set=[(X_test, y_test)])\n",
    "\n",
    "# Predict the target variable for the testing set\n",
    "y_pred = xgb_clf.predict(X_test)"
   ]
  },
  {
   "cell_type": "markdown",
   "id": "dd3267bf",
   "metadata": {},
   "source": [
    "from sklearn.neural_network import MLPClassifier\n",
    "mlp = MLPClassifier(hidden_layer_sizes=(24,24,24), activation='relu', solver='adam', max_iter=500)\n",
    "mlp.fit(X_train, y_train.ravel())\n",
    "predict_train = mlp.predict(X_train)\n",
    "predict_test = mlp.predict(X_test)\n",
    "print(confusion_matrix(y_test,predict_test))\n",
    "print(classification_report(y_test,predict_test))\n",
    "\n",
    "y_pred = mlp.predict(X_test)"
   ]
  },
  {
   "cell_type": "markdown",
   "id": "79daa3bb",
   "metadata": {},
   "source": [
    "## Make sure your model name is clf"
   ]
  },
  {
   "cell_type": "code",
   "execution_count": 432,
   "id": "b75a58c8",
   "metadata": {},
   "outputs": [],
   "source": [
    "clf = xgb_clf#your model fit name\n",
    "#clf = mlp"
   ]
  },
  {
   "cell_type": "code",
   "execution_count": 433,
   "id": "6421abd1",
   "metadata": {},
   "outputs": [
    {
     "name": "stdout",
     "output_type": "stream",
     "text": [
      "Accuracy: 0.8901098901098901\n",
      "Precision: 0.8734848484848485\n",
      "Recall: 0.696256038647343\n",
      "Specificity: 0.9623958567890115\n",
      "Confusion matrix:\n",
      "[[4274  167]\n",
      " [ 503 1153]]\n",
      "Final Weighted Score for the model is 0.843085919681942\n"
     ]
    }
   ],
   "source": [
    "# calculate evaluation metrics\n",
    "accuracy = accuracy_score(y_test, y_pred)\n",
    "precision = precision_score(y_test, y_pred)\n",
    "recall = recall_score(y_test, y_pred)\n",
    "\n",
    "# calculate specificity\n",
    "tn, fp, fn, tp = confusion_matrix(y_test, y_pred).ravel()\n",
    "specificity = tn / (tn + fp)\n",
    "\n",
    "# display evaluation metrics and confusion matrix\n",
    "print(\"Accuracy:\", accuracy)\n",
    "print(\"Precision:\", precision)\n",
    "print(\"Recall:\", recall)\n",
    "print(\"Specificity:\", specificity)\n",
    "\n",
    "cm = confusion_matrix(y_test, y_pred)\n",
    "print(\"Confusion matrix:\")\n",
    "print(cm)\n",
    "\n",
    "print(f'Final Weighted Score for the model is {0.3*accuracy+0.2*precision+0.3*recall+0.2*specificity}')"
   ]
  },
  {
   "cell_type": "markdown",
   "id": "388c9b5a",
   "metadata": {},
   "source": [
    "## Normalized Compa Ratio Generation"
   ]
  },
  {
   "cell_type": "code",
   "execution_count": 434,
   "id": "d7b2ae0f",
   "metadata": {},
   "outputs": [],
   "source": [
    "compaRatios = np.arange(.70,1.21,.02)\n",
    "compaRatiosNormal = []\n",
    "mu = df2['compa_ratio'].mean()\n",
    "sigma = df2['compa_ratio'].std()\n",
    "for i in compaRatios:\n",
    "    compaRatiosNormal.append(norm.cdf((i- mu) / sigma))\n",
    "compaRatiosAdd = np.arange(-.01,.21,.01)"
   ]
  },
  {
   "cell_type": "code",
   "execution_count": 435,
   "id": "9312e173",
   "metadata": {},
   "outputs": [
    {
     "data": {
      "text/plain": [
       "(15770, 72)"
      ]
     },
     "execution_count": 435,
     "metadata": {},
     "output_type": "execute_result"
    }
   ],
   "source": [
    "X2.shape"
   ]
  },
  {
   "cell_type": "code",
   "execution_count": 436,
   "id": "802591c9",
   "metadata": {},
   "outputs": [],
   "source": [
    "clfPred = clf.predict(X2)"
   ]
  },
  {
   "cell_type": "code",
   "execution_count": 437,
   "id": "35daa45a",
   "metadata": {
    "scrolled": false
   },
   "outputs": [
    {
     "name": "stdout",
     "output_type": "stream",
     "text": [
      "[[13633  1168]\n",
      " [  624   345]]\n",
      "              precision    recall  f1-score   support\n",
      "\n",
      "           0       0.96      0.92      0.94     14801\n",
      "           1       0.23      0.36      0.28       969\n",
      "\n",
      "    accuracy                           0.89     15770\n",
      "   macro avg       0.59      0.64      0.61     15770\n",
      "weighted avg       0.91      0.89      0.90     15770\n",
      "\n",
      "1513\n"
     ]
    }
   ],
   "source": [
    "print(confusion_matrix(y2,clfPred))\n",
    "print(classification_report(y2,clfPred))\n",
    "print(clfPred.sum())"
   ]
  },
  {
   "cell_type": "code",
   "execution_count": 448,
   "id": "260efe3e",
   "metadata": {},
   "outputs": [],
   "source": [
    "df3['base_pay_mid'] = df3['salary']/df3['compa_ratio']"
   ]
  },
  {
   "cell_type": "markdown",
   "id": "c949d34b",
   "metadata": {},
   "source": [
    "## Getting Numbers"
   ]
  },
  {
   "cell_type": "code",
   "execution_count": 439,
   "id": "ddbde8b8",
   "metadata": {
    "scrolled": true
   },
   "outputs": [
    {
     "name": "stdout",
     "output_type": "stream",
     "text": [
      "[-0.01  0.    0.01  0.02  0.03  0.04  0.05  0.06  0.07  0.08  0.09  0.1\n",
      "  0.11  0.12  0.13  0.14  0.15  0.16  0.17  0.18  0.19  0.2 ]\n"
     ]
    }
   ],
   "source": [
    "print(compaRatiosAdd)"
   ]
  },
  {
   "cell_type": "code",
   "execution_count": 440,
   "id": "ee4ee560",
   "metadata": {},
   "outputs": [
    {
     "name": "stdout",
     "output_type": "stream",
     "text": [
      "[[13639  1162]\n",
      " [  628   341]]\n",
      "[[13633  1168]\n",
      " [  624   345]]\n",
      "[[13639  1162]\n",
      " [  628   341]]\n",
      "[[13649  1152]\n",
      " [  631   338]]\n",
      "[[13653  1148]\n",
      " [  633   336]]\n",
      "[[13660  1141]\n",
      " [  633   336]]\n",
      "[[13664  1137]\n",
      " [  635   334]]\n",
      "[[13668  1133]\n",
      " [  637   332]]\n",
      "[[13669  1132]\n",
      " [  638   331]]\n",
      "[[13670  1131]\n",
      " [  639   330]]\n",
      "[[13672  1129]\n",
      " [  641   328]]\n",
      "[[13675  1126]\n",
      " [  642   327]]\n",
      "[[13678  1123]\n",
      " [  643   326]]\n",
      "[[13682  1119]\n",
      " [  644   325]]\n",
      "[[13683  1118]\n",
      " [  644   325]]\n",
      "[[13687  1114]\n",
      " [  645   324]]\n",
      "[[13689  1112]\n",
      " [  646   323]]\n",
      "[[13690  1111]\n",
      " [  647   322]]\n",
      "[[13691  1110]\n",
      " [  647   322]]\n",
      "[[13691  1110]\n",
      " [  646   323]]\n",
      "[[13690  1111]\n",
      " [  647   322]]\n",
      "[[13690  1111]\n",
      " [  647   322]]\n"
     ]
    }
   ],
   "source": [
    "#Predictions with new compa ratios\n",
    "predictArrays = []\n",
    "for i in compaRatiosAdd:\n",
    "    X3 = X2.copy()\n",
    "    X3['clfPred'] = clfPred\n",
    "    X3.loc[X3['clfPred']==1, 'compa_ratio'] = X3.loc[X3['clfPred']==1, 'compa_ratio']+i\n",
    "    X3 = X3.drop('clfPred', axis=1)\n",
    "    predictArrays.append(clf.predict(X3))\n",
    "    print(confusion_matrix(y2,(clf.predict(X3))))\n",
    "    \n",
    "    #predictArray2 = xgb_clf.predict(X3)\n",
    "    #predictArrays.append(predictArray2)\n",
    "    #print(predictArray2.sum(), i)"
   ]
  },
  {
   "cell_type": "code",
   "execution_count": 449,
   "id": "cc4827a0",
   "metadata": {},
   "outputs": [],
   "source": [
    "#New Salary calculations with new compa ratios\n",
    "salaries = []\n",
    "df4 = df3.copy()\n",
    "for i in range(len(compaRatiosAdd)):\n",
    "    df4['compa_ratio'] = df3['compa_ratio']\n",
    "    df4['clfPred'] = clfPred\n",
    "    df4['clfPred2'] = predictArrays[i]\n",
    "    #print(df4.loc[df4['clfPred']==1 & (df4['clfPred2'] == 0), 'compa_ratio'].count\n",
    "    df4.loc[(df4['clfPred']==1) & (df4['clfPred2'] == 0), 'compa_ratio'] = df4.loc[(df4['clfPred']==1) & (df4['clfPred2'] == 0), 'compa_ratio'] + compaRatiosAdd[i]\n",
    "    # = df4.loc[df4['clfPred']==1 & (df4['clfPred2'] == 0), 'compa_ratio'] + compaRatiosAdd[i]\n",
    "    df4['clfPred'] = predictArrays[i]\n",
    "    salaries.append(((df4['base_pay_mid'][df4['clfPred2']==0])*df4['compa_ratio']).sum())"
   ]
  },
  {
   "cell_type": "code",
   "execution_count": null,
   "id": "2575d294",
   "metadata": {},
   "outputs": [],
   "source": []
  },
  {
   "cell_type": "code",
   "execution_count": 450,
   "id": "9e43e14a",
   "metadata": {},
   "outputs": [],
   "source": [
    "#New replacement Costs\n",
    "replacementCosts = []\n",
    "for i in range(len(predictArrays)):\n",
    "    df3['predict'] = predictArrays[i]\n",
    "    replacementCosts.append(df3['replacement_cost'][df3['predict']==1].sum())\n",
    "    "
   ]
  },
  {
   "cell_type": "code",
   "execution_count": 451,
   "id": "527d8cdd",
   "metadata": {},
   "outputs": [],
   "source": [
    "df4['clfPred']=clfPred\n",
    "predictSpent = (df4['salary'][df4['clfPred']==0]).sum()+(df4['replacement_cost'][df4['clfPred']==1]).sum()\n",
    "\n",
    "\n",
    "\n",
    "totalSpent = []\n",
    "for i in range(len(compaRatiosAdd)):\n",
    "    totalSpent.append(salaries[i]+replacementCosts[i])\n",
    "    \n",
    "moneySaved = []\n",
    "for i in range(len(totalSpent)):\n",
    "    moneySaved.append(predictSpent-totalSpent[i])"
   ]
  },
  {
   "cell_type": "code",
   "execution_count": 452,
   "id": "b28bed49",
   "metadata": {},
   "outputs": [
    {
     "name": "stdout",
     "output_type": "stream",
     "text": [
      "[89221111.51571625, 89545770.88277626, 88115377.88978875, 86495974.70395125, 85768209.87884626, 85157354.17392126, 84594682.99259624, 83822350.71287125, 83604996.88404626, 83559359.76087126, 83055092.77955875, 82599122.83485875, 81899040.98485875, 81404709.83722125, 81335333.05732125, 80565245.99952126, 80154143.82944626, 79917993.81404623, 79736415.58604625, 79821457.35017124, 79724806.17017125, 79724806.17017125]\n"
     ]
    }
   ],
   "source": [
    "print(replacementCosts)\n",
    "#print(salaries)\n",
    "#print(totalSpent[0])\n",
    "#print(predictSpent)\n",
    "#print((df4['salary'][df4['clfPred']==0]).sum())"
   ]
  },
  {
   "cell_type": "code",
   "execution_count": 453,
   "id": "fb499d5e",
   "metadata": {},
   "outputs": [
    {
     "data": {
      "text/plain": [
       "80"
      ]
     },
     "execution_count": 453,
     "metadata": {},
     "output_type": "execute_result"
    }
   ],
   "source": [
    "df4.loc[df4['clfPred']==1 & (df4['clfPred2'] == 0), 'compa_ratio'].count()"
   ]
  },
  {
   "cell_type": "code",
   "execution_count": 415,
   "id": "3ce2b6f7",
   "metadata": {},
   "outputs": [],
   "source": [
    "newDF = pd.DataFrame()"
   ]
  },
  {
   "cell_type": "code",
   "execution_count": 416,
   "id": "3b9fa5f5",
   "metadata": {},
   "outputs": [],
   "source": [
    "newDF['compa_ratios'] = compaRatiosAdd\n",
    "newDF['replacement_costs'] = replacementCosts\n",
    "newDF['salaries'] = salaries\n",
    "newDF['money_saved'] = moneySaved"
   ]
  },
  {
   "cell_type": "code",
   "execution_count": 417,
   "id": "5c8b4e57",
   "metadata": {},
   "outputs": [
    {
     "ename": "PermissionError",
     "evalue": "[Errno 13] Permission denied: 'economic stats.xlsx'",
     "output_type": "error",
     "traceback": [
      "\u001b[1;31m---------------------------------------------------------------------------\u001b[0m",
      "\u001b[1;31mPermissionError\u001b[0m                           Traceback (most recent call last)",
      "Cell \u001b[1;32mIn[417], line 1\u001b[0m\n\u001b[1;32m----> 1\u001b[0m \u001b[43mnewDF\u001b[49m\u001b[38;5;241;43m.\u001b[39;49m\u001b[43mto_excel\u001b[49m\u001b[43m(\u001b[49m\u001b[38;5;124;43m'\u001b[39;49m\u001b[38;5;124;43meconomic stats.xlsx\u001b[39;49m\u001b[38;5;124;43m'\u001b[39;49m\u001b[43m)\u001b[49m\n",
      "File \u001b[1;32mc:\\users\\tweek\\appdata\\local\\programs\\python\\python39\\lib\\site-packages\\pandas\\util\\_decorators.py:211\u001b[0m, in \u001b[0;36mdeprecate_kwarg.<locals>._deprecate_kwarg.<locals>.wrapper\u001b[1;34m(*args, **kwargs)\u001b[0m\n\u001b[0;32m    209\u001b[0m     \u001b[38;5;28;01melse\u001b[39;00m:\n\u001b[0;32m    210\u001b[0m         kwargs[new_arg_name] \u001b[38;5;241m=\u001b[39m new_arg_value\n\u001b[1;32m--> 211\u001b[0m \u001b[38;5;28;01mreturn\u001b[39;00m func(\u001b[38;5;241m*\u001b[39margs, \u001b[38;5;241m*\u001b[39m\u001b[38;5;241m*\u001b[39mkwargs)\n",
      "File \u001b[1;32mc:\\users\\tweek\\appdata\\local\\programs\\python\\python39\\lib\\site-packages\\pandas\\util\\_decorators.py:211\u001b[0m, in \u001b[0;36mdeprecate_kwarg.<locals>._deprecate_kwarg.<locals>.wrapper\u001b[1;34m(*args, **kwargs)\u001b[0m\n\u001b[0;32m    209\u001b[0m     \u001b[38;5;28;01melse\u001b[39;00m:\n\u001b[0;32m    210\u001b[0m         kwargs[new_arg_name] \u001b[38;5;241m=\u001b[39m new_arg_value\n\u001b[1;32m--> 211\u001b[0m \u001b[38;5;28;01mreturn\u001b[39;00m func(\u001b[38;5;241m*\u001b[39margs, \u001b[38;5;241m*\u001b[39m\u001b[38;5;241m*\u001b[39mkwargs)\n",
      "File \u001b[1;32mc:\\users\\tweek\\appdata\\local\\programs\\python\\python39\\lib\\site-packages\\pandas\\core\\generic.py:2374\u001b[0m, in \u001b[0;36mNDFrame.to_excel\u001b[1;34m(self, excel_writer, sheet_name, na_rep, float_format, columns, header, index, index_label, startrow, startcol, engine, merge_cells, encoding, inf_rep, verbose, freeze_panes, storage_options)\u001b[0m\n\u001b[0;32m   2361\u001b[0m \u001b[38;5;28;01mfrom\u001b[39;00m \u001b[38;5;21;01mpandas\u001b[39;00m\u001b[38;5;21;01m.\u001b[39;00m\u001b[38;5;21;01mio\u001b[39;00m\u001b[38;5;21;01m.\u001b[39;00m\u001b[38;5;21;01mformats\u001b[39;00m\u001b[38;5;21;01m.\u001b[39;00m\u001b[38;5;21;01mexcel\u001b[39;00m \u001b[38;5;28;01mimport\u001b[39;00m ExcelFormatter\n\u001b[0;32m   2363\u001b[0m formatter \u001b[38;5;241m=\u001b[39m ExcelFormatter(\n\u001b[0;32m   2364\u001b[0m     df,\n\u001b[0;32m   2365\u001b[0m     na_rep\u001b[38;5;241m=\u001b[39mna_rep,\n\u001b[1;32m   (...)\u001b[0m\n\u001b[0;32m   2372\u001b[0m     inf_rep\u001b[38;5;241m=\u001b[39minf_rep,\n\u001b[0;32m   2373\u001b[0m )\n\u001b[1;32m-> 2374\u001b[0m \u001b[43mformatter\u001b[49m\u001b[38;5;241;43m.\u001b[39;49m\u001b[43mwrite\u001b[49m\u001b[43m(\u001b[49m\n\u001b[0;32m   2375\u001b[0m \u001b[43m    \u001b[49m\u001b[43mexcel_writer\u001b[49m\u001b[43m,\u001b[49m\n\u001b[0;32m   2376\u001b[0m \u001b[43m    \u001b[49m\u001b[43msheet_name\u001b[49m\u001b[38;5;241;43m=\u001b[39;49m\u001b[43msheet_name\u001b[49m\u001b[43m,\u001b[49m\n\u001b[0;32m   2377\u001b[0m \u001b[43m    \u001b[49m\u001b[43mstartrow\u001b[49m\u001b[38;5;241;43m=\u001b[39;49m\u001b[43mstartrow\u001b[49m\u001b[43m,\u001b[49m\n\u001b[0;32m   2378\u001b[0m \u001b[43m    \u001b[49m\u001b[43mstartcol\u001b[49m\u001b[38;5;241;43m=\u001b[39;49m\u001b[43mstartcol\u001b[49m\u001b[43m,\u001b[49m\n\u001b[0;32m   2379\u001b[0m \u001b[43m    \u001b[49m\u001b[43mfreeze_panes\u001b[49m\u001b[38;5;241;43m=\u001b[39;49m\u001b[43mfreeze_panes\u001b[49m\u001b[43m,\u001b[49m\n\u001b[0;32m   2380\u001b[0m \u001b[43m    \u001b[49m\u001b[43mengine\u001b[49m\u001b[38;5;241;43m=\u001b[39;49m\u001b[43mengine\u001b[49m\u001b[43m,\u001b[49m\n\u001b[0;32m   2381\u001b[0m \u001b[43m    \u001b[49m\u001b[43mstorage_options\u001b[49m\u001b[38;5;241;43m=\u001b[39;49m\u001b[43mstorage_options\u001b[49m\u001b[43m,\u001b[49m\n\u001b[0;32m   2382\u001b[0m \u001b[43m\u001b[49m\u001b[43m)\u001b[49m\n",
      "File \u001b[1;32mc:\\users\\tweek\\appdata\\local\\programs\\python\\python39\\lib\\site-packages\\pandas\\io\\formats\\excel.py:944\u001b[0m, in \u001b[0;36mExcelFormatter.write\u001b[1;34m(self, writer, sheet_name, startrow, startcol, freeze_panes, engine, storage_options)\u001b[0m\n\u001b[0;32m    940\u001b[0m     need_save \u001b[38;5;241m=\u001b[39m \u001b[38;5;28;01mFalse\u001b[39;00m\n\u001b[0;32m    941\u001b[0m \u001b[38;5;28;01melse\u001b[39;00m:\n\u001b[0;32m    942\u001b[0m     \u001b[38;5;66;03m# error: Cannot instantiate abstract class 'ExcelWriter' with abstract\u001b[39;00m\n\u001b[0;32m    943\u001b[0m     \u001b[38;5;66;03m# attributes 'engine', 'save', 'supported_extensions' and 'write_cells'\u001b[39;00m\n\u001b[1;32m--> 944\u001b[0m     writer \u001b[38;5;241m=\u001b[39m \u001b[43mExcelWriter\u001b[49m\u001b[43m(\u001b[49m\u001b[43m  \u001b[49m\u001b[38;5;66;43;03m# type: ignore[abstract]\u001b[39;49;00m\n\u001b[0;32m    945\u001b[0m \u001b[43m        \u001b[49m\u001b[43mwriter\u001b[49m\u001b[43m,\u001b[49m\u001b[43m \u001b[49m\u001b[43mengine\u001b[49m\u001b[38;5;241;43m=\u001b[39;49m\u001b[43mengine\u001b[49m\u001b[43m,\u001b[49m\u001b[43m \u001b[49m\u001b[43mstorage_options\u001b[49m\u001b[38;5;241;43m=\u001b[39;49m\u001b[43mstorage_options\u001b[49m\n\u001b[0;32m    946\u001b[0m \u001b[43m    \u001b[49m\u001b[43m)\u001b[49m\n\u001b[0;32m    947\u001b[0m     need_save \u001b[38;5;241m=\u001b[39m \u001b[38;5;28;01mTrue\u001b[39;00m\n\u001b[0;32m    949\u001b[0m \u001b[38;5;28;01mtry\u001b[39;00m:\n",
      "File \u001b[1;32mc:\\users\\tweek\\appdata\\local\\programs\\python\\python39\\lib\\site-packages\\pandas\\io\\excel\\_openpyxl.py:60\u001b[0m, in \u001b[0;36mOpenpyxlWriter.__init__\u001b[1;34m(self, path, engine, date_format, datetime_format, mode, storage_options, if_sheet_exists, engine_kwargs, **kwargs)\u001b[0m\n\u001b[0;32m     56\u001b[0m \u001b[38;5;28;01mfrom\u001b[39;00m \u001b[38;5;21;01mopenpyxl\u001b[39;00m\u001b[38;5;21;01m.\u001b[39;00m\u001b[38;5;21;01mworkbook\u001b[39;00m \u001b[38;5;28;01mimport\u001b[39;00m Workbook\n\u001b[0;32m     58\u001b[0m engine_kwargs \u001b[38;5;241m=\u001b[39m combine_kwargs(engine_kwargs, kwargs)\n\u001b[1;32m---> 60\u001b[0m \u001b[38;5;28;43msuper\u001b[39;49m\u001b[43m(\u001b[49m\u001b[43m)\u001b[49m\u001b[38;5;241;43m.\u001b[39;49m\u001b[38;5;21;43m__init__\u001b[39;49m\u001b[43m(\u001b[49m\n\u001b[0;32m     61\u001b[0m \u001b[43m    \u001b[49m\u001b[43mpath\u001b[49m\u001b[43m,\u001b[49m\n\u001b[0;32m     62\u001b[0m \u001b[43m    \u001b[49m\u001b[43mmode\u001b[49m\u001b[38;5;241;43m=\u001b[39;49m\u001b[43mmode\u001b[49m\u001b[43m,\u001b[49m\n\u001b[0;32m     63\u001b[0m \u001b[43m    \u001b[49m\u001b[43mstorage_options\u001b[49m\u001b[38;5;241;43m=\u001b[39;49m\u001b[43mstorage_options\u001b[49m\u001b[43m,\u001b[49m\n\u001b[0;32m     64\u001b[0m \u001b[43m    \u001b[49m\u001b[43mif_sheet_exists\u001b[49m\u001b[38;5;241;43m=\u001b[39;49m\u001b[43mif_sheet_exists\u001b[49m\u001b[43m,\u001b[49m\n\u001b[0;32m     65\u001b[0m \u001b[43m    \u001b[49m\u001b[43mengine_kwargs\u001b[49m\u001b[38;5;241;43m=\u001b[39;49m\u001b[43mengine_kwargs\u001b[49m\u001b[43m,\u001b[49m\n\u001b[0;32m     66\u001b[0m \u001b[43m\u001b[49m\u001b[43m)\u001b[49m\n\u001b[0;32m     68\u001b[0m \u001b[38;5;66;03m# ExcelWriter replaced \"a\" by \"r+\" to allow us to first read the excel file from\u001b[39;00m\n\u001b[0;32m     69\u001b[0m \u001b[38;5;66;03m# the file and later write to it\u001b[39;00m\n\u001b[0;32m     70\u001b[0m \u001b[38;5;28;01mif\u001b[39;00m \u001b[38;5;124m\"\u001b[39m\u001b[38;5;124mr+\u001b[39m\u001b[38;5;124m\"\u001b[39m \u001b[38;5;129;01min\u001b[39;00m \u001b[38;5;28mself\u001b[39m\u001b[38;5;241m.\u001b[39m_mode:  \u001b[38;5;66;03m# Load from existing workbook\u001b[39;00m\n",
      "File \u001b[1;32mc:\\users\\tweek\\appdata\\local\\programs\\python\\python39\\lib\\site-packages\\pandas\\io\\excel\\_base.py:1313\u001b[0m, in \u001b[0;36mExcelWriter.__init__\u001b[1;34m(self, path, engine, date_format, datetime_format, mode, storage_options, if_sheet_exists, engine_kwargs, **kwargs)\u001b[0m\n\u001b[0;32m   1309\u001b[0m \u001b[38;5;28mself\u001b[39m\u001b[38;5;241m.\u001b[39m_handles \u001b[38;5;241m=\u001b[39m IOHandles(\n\u001b[0;32m   1310\u001b[0m     cast(IO[\u001b[38;5;28mbytes\u001b[39m], path), compression\u001b[38;5;241m=\u001b[39m{\u001b[38;5;124m\"\u001b[39m\u001b[38;5;124mcompression\u001b[39m\u001b[38;5;124m\"\u001b[39m: \u001b[38;5;28;01mNone\u001b[39;00m}\n\u001b[0;32m   1311\u001b[0m )\n\u001b[0;32m   1312\u001b[0m \u001b[38;5;28;01mif\u001b[39;00m \u001b[38;5;129;01mnot\u001b[39;00m \u001b[38;5;28misinstance\u001b[39m(path, ExcelWriter):\n\u001b[1;32m-> 1313\u001b[0m     \u001b[38;5;28mself\u001b[39m\u001b[38;5;241m.\u001b[39m_handles \u001b[38;5;241m=\u001b[39m \u001b[43mget_handle\u001b[49m\u001b[43m(\u001b[49m\n\u001b[0;32m   1314\u001b[0m \u001b[43m        \u001b[49m\u001b[43mpath\u001b[49m\u001b[43m,\u001b[49m\u001b[43m \u001b[49m\u001b[43mmode\u001b[49m\u001b[43m,\u001b[49m\u001b[43m \u001b[49m\u001b[43mstorage_options\u001b[49m\u001b[38;5;241;43m=\u001b[39;49m\u001b[43mstorage_options\u001b[49m\u001b[43m,\u001b[49m\u001b[43m \u001b[49m\u001b[43mis_text\u001b[49m\u001b[38;5;241;43m=\u001b[39;49m\u001b[38;5;28;43;01mFalse\u001b[39;49;00m\n\u001b[0;32m   1315\u001b[0m \u001b[43m    \u001b[49m\u001b[43m)\u001b[49m\n\u001b[0;32m   1316\u001b[0m \u001b[38;5;28mself\u001b[39m\u001b[38;5;241m.\u001b[39m_cur_sheet \u001b[38;5;241m=\u001b[39m \u001b[38;5;28;01mNone\u001b[39;00m\n\u001b[0;32m   1318\u001b[0m \u001b[38;5;28;01mif\u001b[39;00m date_format \u001b[38;5;129;01mis\u001b[39;00m \u001b[38;5;28;01mNone\u001b[39;00m:\n",
      "File \u001b[1;32mc:\\users\\tweek\\appdata\\local\\programs\\python\\python39\\lib\\site-packages\\pandas\\io\\common.py:865\u001b[0m, in \u001b[0;36mget_handle\u001b[1;34m(path_or_buf, mode, encoding, compression, memory_map, is_text, errors, storage_options)\u001b[0m\n\u001b[0;32m    856\u001b[0m         handle \u001b[38;5;241m=\u001b[39m \u001b[38;5;28mopen\u001b[39m(\n\u001b[0;32m    857\u001b[0m             handle,\n\u001b[0;32m    858\u001b[0m             ioargs\u001b[38;5;241m.\u001b[39mmode,\n\u001b[1;32m   (...)\u001b[0m\n\u001b[0;32m    861\u001b[0m             newline\u001b[38;5;241m=\u001b[39m\u001b[38;5;124m\"\u001b[39m\u001b[38;5;124m\"\u001b[39m,\n\u001b[0;32m    862\u001b[0m         )\n\u001b[0;32m    863\u001b[0m     \u001b[38;5;28;01melse\u001b[39;00m:\n\u001b[0;32m    864\u001b[0m         \u001b[38;5;66;03m# Binary mode\u001b[39;00m\n\u001b[1;32m--> 865\u001b[0m         handle \u001b[38;5;241m=\u001b[39m \u001b[38;5;28;43mopen\u001b[39;49m\u001b[43m(\u001b[49m\u001b[43mhandle\u001b[49m\u001b[43m,\u001b[49m\u001b[43m \u001b[49m\u001b[43mioargs\u001b[49m\u001b[38;5;241;43m.\u001b[39;49m\u001b[43mmode\u001b[49m\u001b[43m)\u001b[49m\n\u001b[0;32m    866\u001b[0m     handles\u001b[38;5;241m.\u001b[39mappend(handle)\n\u001b[0;32m    868\u001b[0m \u001b[38;5;66;03m# Convert BytesIO or file objects passed with an encoding\u001b[39;00m\n",
      "\u001b[1;31mPermissionError\u001b[0m: [Errno 13] Permission denied: 'economic stats.xlsx'"
     ]
    }
   ],
   "source": [
    "newDF.to_excel('economic stats.xlsx')"
   ]
  },
  {
   "cell_type": "markdown",
   "id": "6547283a",
   "metadata": {},
   "source": [
    "## Data Visualization? Someone probably has better graphing skills"
   ]
  },
  {
   "cell_type": "code",
   "execution_count": 454,
   "id": "fe8392f3",
   "metadata": {},
   "outputs": [
    {
     "data": {
      "text/plain": [
       "<Axes: title={'center': 'Impact of Compa Ratios on Total Money Saved'}, xlabel='Compa Ratios', ylabel='Money Saved in thousands'>"
      ]
     },
     "execution_count": 454,
     "metadata": {},
     "output_type": "execute_result"
    },
    {
     "data": {
      "image/png": "[encoded data removed]",
      "text/plain": [
       "<Figure size 640x480 with 1 Axes>"
      ]
     },
     "metadata": {},
     "output_type": "display_data"
    }
   ],
   "source": [
    "fig, ax=plt.subplots()\n",
    "ax.plot(compaRatiosAdd,moneySaved)\n",
    "\n",
    "ax.set_xlabel('Compa Ratios')\n",
    "ax.set_ylabel('Money Saved in thousands')\n",
    "ax.set_title('Impact of Compa Ratios on Total Money Saved')\n",
    "\n",
    "scale_y = 1e3\n",
    "ticks_y = ticker.FuncFormatter(lambda x, pos: '{0:g}'.format(x/scale_y))\n",
    "ax.yaxis.set_major_formatter(ticks_y)\n",
    "\n",
    "ax"
   ]
  },
  {
   "cell_type": "markdown",
   "id": "c4ef745e",
   "metadata": {},
   "source": [
    "# So apprently paying people who want to leave more money doesn't save money"
   ]
  },
  {
   "cell_type": "code",
   "execution_count": null,
   "id": "81e658b8",
   "metadata": {},
   "outputs": [],
   "source": []
  }
 ],
 "metadata": {
  "kernelspec": {
   "display_name": "Python 3 (ipykernel)",
   "language": "python",
   "name": "python3"
  },
  "language_info": {
   "codemirror_mode": {
    "name": "ipython",
    "version": 3
   },
   "file_extension": ".py",
   "mimetype": "text/x-python",
   "name": "python",
   "nbconvert_exporter": "python",
   "pygments_lexer": "ipython3",
   "version": "3.9.2"
  }
 },
 "nbformat": 4,
 "nbformat_minor": 5
}
