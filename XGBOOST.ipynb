{
 "cells": [
  {
   "cell_type": "code",
   "execution_count": 1,
   "id": "a0795976",
   "metadata": {},
   "outputs": [],
   "source": [
    "import pandas as pd\n",
    "import numpy as np\n",
    "import seaborn as sns\n",
    "import matplotlib.pyplot as plt\n",
    "from sklearn.model_selection import train_test_split\n",
    "import xgboost as xgb\n",
    "from sklearn.metrics import confusion_matrix, accuracy_score, precision_score, recall_score\n",
    "from sklearn.metrics import f1_score, roc_auc_score"
   ]
  },
  {
   "cell_type": "code",
   "execution_count": 3,
   "id": "30446d18",
   "metadata": {},
   "outputs": [],
   "source": [
    "df=pd.read_excel(\"C:/Users/adity/Downloads/ModelingDataset.xlsx\")"
   ]
  },
  {
   "cell_type": "code",
   "execution_count": 4,
   "id": "bcecf30d",
   "metadata": {},
   "outputs": [],
   "source": [
    "# set random seed\n",
    "random_seed = 42"
   ]
  },
  {
   "cell_type": "code",
   "execution_count": 10,
   "id": "14179be1",
   "metadata": {},
   "outputs": [
    {
     "name": "stdout",
     "output_type": "stream",
     "text": [
      "Ratio of binary variable in train set:  0.27165354330708663\n",
      "Ratio of binary variable in test set:  0.2716089880268985\n"
     ]
    }
   ],
   "source": [
    "# separate features and target variable\n",
    "X = df.drop('employee_status', axis=1)\n",
    "y = df['employee_status']\n",
    "\n",
    "# split data into train and test sets, stratifying by the target variable\n",
    "X_train, X_test, y_train, y_test = train_test_split(X, y, test_size=0.3, random_state=random_seed, stratify=y)\n",
    "\n",
    "# check the ratio of binary variable in train and test set\n",
    "print(\"Ratio of binary variable in train set: \", y_train.sum() / len(y_train))\n",
    "print(\"Ratio of binary variable in test set: \", y_test.sum() / len(y_test))\n"
   ]
  },
  {
   "cell_type": "code",
   "execution_count": 11,
   "id": "7cc0574d",
   "metadata": {},
   "outputs": [
    {
     "name": "stdout",
     "output_type": "stream",
     "text": [
      "[0]\tvalidation_0-error:0.18255\n",
      "[1]\tvalidation_0-error:0.16877\n",
      "[2]\tvalidation_0-error:0.16500\n",
      "[3]\tvalidation_0-error:0.16008\n",
      "[4]\tvalidation_0-error:0.15827\n",
      "[5]\tvalidation_0-error:0.15417\n",
      "[6]\tvalidation_0-error:0.14958\n",
      "[7]\tvalidation_0-error:0.14417\n",
      "[8]\tvalidation_0-error:0.14138\n",
      "[9]\tvalidation_0-error:0.13826\n",
      "[10]\tvalidation_0-error:0.13498\n",
      "[11]\tvalidation_0-error:0.13023\n",
      "[12]\tvalidation_0-error:0.12777\n",
      "[13]\tvalidation_0-error:0.12695\n",
      "[14]\tvalidation_0-error:0.12695\n",
      "[15]\tvalidation_0-error:0.12596\n",
      "[16]\tvalidation_0-error:0.12580\n",
      "[17]\tvalidation_0-error:0.12596\n",
      "[18]\tvalidation_0-error:0.12564\n",
      "[19]\tvalidation_0-error:0.12613\n",
      "[20]\tvalidation_0-error:0.12416\n",
      "[21]\tvalidation_0-error:0.12301\n",
      "[22]\tvalidation_0-error:0.12334\n",
      "[23]\tvalidation_0-error:0.12121\n",
      "[24]\tvalidation_0-error:0.12104\n",
      "[25]\tvalidation_0-error:0.12104\n",
      "[26]\tvalidation_0-error:0.12022\n",
      "[27]\tvalidation_0-error:0.12006\n",
      "[28]\tvalidation_0-error:0.12022\n",
      "[29]\tvalidation_0-error:0.11940\n",
      "[30]\tvalidation_0-error:0.11940\n",
      "[31]\tvalidation_0-error:0.12006\n",
      "[32]\tvalidation_0-error:0.12104\n",
      "[33]\tvalidation_0-error:0.11990\n",
      "[34]\tvalidation_0-error:0.11793\n",
      "[35]\tvalidation_0-error:0.11875\n",
      "[36]\tvalidation_0-error:0.11825\n",
      "[37]\tvalidation_0-error:0.11825\n",
      "[38]\tvalidation_0-error:0.11793\n",
      "[39]\tvalidation_0-error:0.11776\n",
      "[40]\tvalidation_0-error:0.11432\n",
      "[41]\tvalidation_0-error:0.11350\n",
      "[42]\tvalidation_0-error:0.11399\n",
      "[43]\tvalidation_0-error:0.11399\n",
      "[44]\tvalidation_0-error:0.11448\n",
      "[45]\tvalidation_0-error:0.11333\n",
      "[46]\tvalidation_0-error:0.11399\n",
      "[47]\tvalidation_0-error:0.11268\n",
      "[48]\tvalidation_0-error:0.11251\n",
      "[49]\tvalidation_0-error:0.11202\n",
      "[50]\tvalidation_0-error:0.11153\n",
      "[51]\tvalidation_0-error:0.11186\n",
      "[52]\tvalidation_0-error:0.11202\n",
      "[53]\tvalidation_0-error:0.11235\n",
      "[54]\tvalidation_0-error:0.11186\n",
      "[55]\tvalidation_0-error:0.11071\n",
      "[56]\tvalidation_0-error:0.10989\n",
      "[57]\tvalidation_0-error:0.11038\n",
      "[58]\tvalidation_0-error:0.11038\n",
      "[59]\tvalidation_0-error:0.11038\n",
      "[60]\tvalidation_0-error:0.11104\n",
      "[61]\tvalidation_0-error:0.11055\n",
      "[62]\tvalidation_0-error:0.11104\n",
      "[63]\tvalidation_0-error:0.11186\n",
      "[64]\tvalidation_0-error:0.11153\n",
      "[65]\tvalidation_0-error:0.11202\n",
      "[66]\tvalidation_0-error:0.11104\n"
     ]
    }
   ],
   "source": [
    "# Define the XGBoost classifier with early stopping\n",
    "xgb_clf = xgb.XGBClassifier(n_estimators=1000, early_stopping_rounds=10, eval_metric='error')\n",
    "\n",
    "# Train the XGBoost classifier with early stopping\n",
    "xgb_clf.fit(X_train, y_train, eval_set=[(X_test, y_test)])\n",
    "\n",
    "# Predict the target variable for the testing set\n",
    "y_pred = xgb_clf.predict(X_test)"
   ]
  },
  {
   "cell_type": "code",
   "execution_count": 21,
   "id": "74a271dd",
   "metadata": {},
   "outputs": [
    {
     "name": "stdout",
     "output_type": "stream",
     "text": [
      "Accuracy: 0.8901098901098901\n",
      "Precision: 0.8734848484848485\n",
      "Recall: 0.696256038647343\n",
      "Specificity: 0.9623958567890115\n",
      "Confusion matrix:\n",
      "[[4274  167]\n",
      " [ 503 1153]]\n",
      "Final Weighted Score for the model is 0.843085919681942\n"
     ]
    }
   ],
   "source": [
    "# calculate evaluation metrics\n",
    "accuracy = accuracy_score(y_test, y_pred)\n",
    "precision = precision_score(y_test, y_pred)\n",
    "recall = recall_score(y_test, y_pred)\n",
    "\n",
    "# calculate specificity\n",
    "tn, fp, fn, tp = confusion_matrix(y_test, y_pred).ravel()\n",
    "specificity = tn / (tn + fp)\n",
    "\n",
    "# display evaluation metrics and confusion matrix\n",
    "print(\"Accuracy:\", accuracy)\n",
    "print(\"Precision:\", precision)\n",
    "print(\"Recall:\", recall)\n",
    "print(\"Specificity:\", specificity)\n",
    "\n",
    "cm = confusion_matrix(y_test, y_pred)\n",
    "print(\"Confusion matrix:\")\n",
    "print(cm)\n",
    "\n",
    "print(f'Final Weighted Score for the model is {0.3*accuracy+0.2*precision+0.3*recall+0.2*specificity}')"
   ]
  },
  {
   "cell_type": "code",
   "execution_count": 17,
   "id": "2733d5c5",
   "metadata": {},
   "outputs": [
    {
     "name": "stdout",
     "output_type": "stream",
     "text": [
      "F1 score: 0.7748655913978494\n",
      "AUC score: 0.8293259477181772\n"
     ]
    }
   ],
   "source": [
    "f1 = f1_score(y_test, y_pred)\n",
    "auc_score = roc_auc_score(y_test, y_pred)\n",
    "\n",
    "print(\"F1 score:\", f1)\n",
    "print(\"AUC score:\", auc_score)"
   ]
  }
 ],
 "metadata": {
  "kernelspec": {
   "display_name": "Python 3 (ipykernel)",
   "language": "python",
   "name": "python3"
  },
  "language_info": {
   "codemirror_mode": {
    "name": "ipython",
    "version": 3
   },
   "file_extension": ".py",
   "mimetype": "text/x-python",
   "name": "python",
   "nbconvert_exporter": "python",
   "pygments_lexer": "ipython3",
   "version": "3.9.12"
  }
 },
 "nbformat": 4,
 "nbformat_minor": 5
}
